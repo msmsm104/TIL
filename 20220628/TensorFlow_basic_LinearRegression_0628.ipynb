{
 "cells": [
  {
   "cell_type": "markdown",
   "id": "0ea4afae",
   "metadata": {},
   "source": [
    "## Linear Regression\n",
    "\n",
    " 1. Prepare the data\n",
    " 2. Build the model\n",
    " 3. Set the criterion\n",
    " 4. Train the model\n",
    " 5. Visualize the result"
   ]
  },
  {
   "cell_type": "markdown",
   "id": "4bf74a48",
   "metadata": {},
   "source": [
    "---"
   ]
  },
  {
   "cell_type": "markdown",
   "id": "d21daab7",
   "metadata": {},
   "source": [
    "### Prepare the data"
   ]
  },
  {
   "cell_type": "code",
   "execution_count": 6,
   "id": "f0c60692",
   "metadata": {},
   "outputs": [],
   "source": [
    "import tensorflow.compat.v1 as tf\n",
    "tf.disable_v2_behavior()\n",
    "\n",
    "import numpy as np\n",
    "import pandas as pd\n",
    "import matplotlib.pyplot as plt\n",
    "import seaborn as sns\n",
    "import warnings\n",
    "\n",
    "from sklearn import datasets\n",
    "\n",
    "warnings.simplefilter('ignore')"
   ]
  },
  {
   "cell_type": "code",
   "execution_count": 7,
   "id": "3c4dc030",
   "metadata": {},
   "outputs": [
    {
     "data": {
      "text/html": [
       "<div>\n",
       "<style scoped>\n",
       "    .dataframe tbody tr th:only-of-type {\n",
       "        vertical-align: middle;\n",
       "    }\n",
       "\n",
       "    .dataframe tbody tr th {\n",
       "        vertical-align: top;\n",
       "    }\n",
       "\n",
       "    .dataframe thead th {\n",
       "        text-align: right;\n",
       "    }\n",
       "</style>\n",
       "<table border=\"1\" class=\"dataframe\">\n",
       "  <thead>\n",
       "    <tr style=\"text-align: right;\">\n",
       "      <th></th>\n",
       "      <th>0</th>\n",
       "      <th>1</th>\n",
       "    </tr>\n",
       "  </thead>\n",
       "  <tbody>\n",
       "    <tr>\n",
       "      <th>0</th>\n",
       "      <td>4.98</td>\n",
       "      <td>24.0</td>\n",
       "    </tr>\n",
       "    <tr>\n",
       "      <th>1</th>\n",
       "      <td>9.14</td>\n",
       "      <td>21.6</td>\n",
       "    </tr>\n",
       "    <tr>\n",
       "      <th>2</th>\n",
       "      <td>4.03</td>\n",
       "      <td>34.7</td>\n",
       "    </tr>\n",
       "    <tr>\n",
       "      <th>3</th>\n",
       "      <td>2.94</td>\n",
       "      <td>33.4</td>\n",
       "    </tr>\n",
       "    <tr>\n",
       "      <th>4</th>\n",
       "      <td>5.33</td>\n",
       "      <td>36.2</td>\n",
       "    </tr>\n",
       "  </tbody>\n",
       "</table>\n",
       "</div>"
      ],
      "text/plain": [
       "      0     1\n",
       "0  4.98  24.0\n",
       "1  9.14  21.6\n",
       "2  4.03  34.7\n",
       "3  2.94  33.4\n",
       "4  5.33  36.2"
      ]
     },
     "execution_count": 7,
     "metadata": {},
     "output_type": "execute_result"
    }
   ],
   "source": [
    "x_data = datasets.load_boston().data[:, 12]\n",
    "y_data = datasets.load_boston().target\n",
    "\n",
    "df = pd.DataFrame([x_data, y_data]).T\n",
    "df.head()"
   ]
  },
  {
   "cell_type": "markdown",
   "id": "7d0fbb06",
   "metadata": {},
   "source": [
    "---"
   ]
  },
  {
   "cell_type": "markdown",
   "id": "a7242bb9",
   "metadata": {},
   "source": [
    "### 2. Build the model"
   ]
  },
  {
   "cell_type": "code",
   "execution_count": 12,
   "id": "9b947880",
   "metadata": {},
   "outputs": [],
   "source": [
    "W = tf.Variable(tf.random_normal([1]))\n",
    "b = tf.Variable(tf.random_normal([1]))\n",
    "\n",
    "y_predicted = x_data * W + b ## model"
   ]
  },
  {
   "cell_type": "markdown",
   "id": "7b7b442a",
   "metadata": {},
   "source": [
    "---"
   ]
  },
  {
   "cell_type": "markdown",
   "id": "dab5ef98",
   "metadata": {},
   "source": [
    "### 3. Set the criterion : Cost function & Gradient Descent method"
   ]
  },
  {
   "cell_type": "code",
   "execution_count": 13,
   "id": "c428d157",
   "metadata": {},
   "outputs": [],
   "source": [
    "loss = tf.reduce_mean(tf.square(y_predicted - y_data))\n",
    "optimizer = tf.train.GradientDescentOptimizer(0.001)\n",
    "train = optimizer.minimize(loss)"
   ]
  },
  {
   "cell_type": "markdown",
   "id": "c534b1f3",
   "metadata": {},
   "source": [
    "---"
   ]
  },
  {
   "cell_type": "markdown",
   "id": "8984bb8d",
   "metadata": {},
   "source": [
    "### 4. Train the model"
   ]
  },
  {
   "cell_type": "code",
   "execution_count": 15,
   "id": "9f17458a",
   "metadata": {},
   "outputs": [
    {
     "name": "stdout",
     "output_type": "stream",
     "text": [
      "Step 0: W [0.81382823] b [0.44844565]\n",
      "loss 335.7595520019531\n",
      "\n",
      "Step 1000: W [0.31531635] b [13.477488]\n",
      "loss 145.6322021484375\n",
      "\n",
      "Step 2000: W [-0.16769421] b [21.522673]\n",
      "loss 79.44342041015625\n",
      "\n",
      "Step 3000: W [-0.46632984] b [26.496847]\n",
      "loss 54.14125061035156\n",
      "\n",
      "Step 4000: W [-0.65097284] b [29.572323]\n",
      "loss 44.46875762939453\n",
      "\n",
      "Step 5000: W [-0.76513433] b [31.473835]\n",
      "loss 40.771202087402344\n",
      "\n",
      "Step 6000: W [-0.8357196] b [32.649525]\n",
      "loss 39.35770034790039\n",
      "\n",
      "Step 7000: W [-0.87936115] b [33.376434]\n",
      "loss 38.81735610961914\n",
      "\n",
      "Step 8000: W [-0.90634346] b [33.825863]\n",
      "loss 38.61079788208008\n",
      "\n",
      "Step 9000: W [-0.923026] b [34.103733]\n",
      "loss 38.53183364868164\n",
      "\n"
     ]
    }
   ],
   "source": [
    "with tf.Session() as sess:\n",
    "    sess.run(tf.global_variables_initializer()) ## tf.Variables 초기화\n",
    "    \n",
    "    for step in range(10000):\n",
    "        sess.run(train)\n",
    "        if step % 1000 == 0:\n",
    "            print(f\"Step {step}: W {sess.run(W)} b {sess.run(b)}\")\n",
    "            print(f\"loss {sess.run(loss)}\")\n",
    "            print()\n",
    "            \n",
    "    W_out, b_out = sess.run([W, b])"
   ]
  },
  {
   "cell_type": "markdown",
   "id": "71ae61b1",
   "metadata": {},
   "source": [
    "---"
   ]
  },
  {
   "cell_type": "markdown",
   "id": "fe5d690b",
   "metadata": {},
   "source": [
    "### 5. Visualize the result"
   ]
  },
  {
   "cell_type": "code",
   "execution_count": 17,
   "id": "61d11ff0",
   "metadata": {},
   "outputs": [
    {
     "data": {
      "image/png": "[encoded data removed]",
      "text/plain": [
       "<Figure size 720x720 with 1 Axes>"
      ]
     },
     "metadata": {
      "needs_background": "light"
     },
     "output_type": "display_data"
    }
   ],
   "source": [
    "plt.figure(figsize=(10, 10))\n",
    "\n",
    "plt.plot(x_data, y_data, 'bo', label='Real data')\n",
    "plt.plot(x_data, x_data * W_out + b_out, 'rx', label='Prediction')\n",
    "\n",
    "plt.show()"
   ]
  },
  {
   "cell_type": "code",
   "execution_count": null,
   "id": "1bedac07",
   "metadata": {},
   "outputs": [],
   "source": []
  }
 ],
 "metadata": {
  "kernelspec": {
   "display_name": "Python 3 (ipykernel)",
   "language": "python",
   "name": "python3"
  },
  "language_info": {
   "codemirror_mode": {
    "name": "ipython",
    "version": 3
   },
   "file_extension": ".py",
   "mimetype": "text/x-python",
   "name": "python",
   "nbconvert_exporter": "python",
   "pygments_lexer": "ipython3",
   "version": "3.8.13"
  }
 },
 "nbformat": 4,
 "nbformat_minor": 5
}
