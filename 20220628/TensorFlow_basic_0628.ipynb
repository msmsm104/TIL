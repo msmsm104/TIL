{
 "cells": [
  {
   "cell_type": "markdown",
   "id": "4f103241",
   "metadata": {},
   "source": [
    "### 1) Building a TensorFlow Graph\n",
    "### 2) Executing the TensorFlow Graph"
   ]
  },
  {
   "cell_type": "code",
   "execution_count": 2,
   "id": "b6a21332",
   "metadata": {},
   "outputs": [],
   "source": [
    "import tensorflow.compat.v1 as tf\n",
    "import warnings \n",
    "\n",
    "warnings.simplefilter('ignore')\n",
    "\n",
    "tf.disable_v2_behavior()"
   ]
  },
  {
   "cell_type": "code",
   "execution_count": 3,
   "id": "ad262196",
   "metadata": {},
   "outputs": [],
   "source": [
    "import numpy as np\n",
    "import pandas as pd"
   ]
  },
  {
   "cell_type": "code",
   "execution_count": 4,
   "id": "7bc9e353",
   "metadata": {},
   "outputs": [
    {
     "name": "stdout",
     "output_type": "stream",
     "text": [
      "Tensor(\"Add:0\", shape=(), dtype=int32)\n"
     ]
    }
   ],
   "source": [
    "a = tf.add(3, 5)\n",
    "print(a)\n",
    "## function definition\n",
    "## Tensor들 사이의 연산 관계를 계산 그래프로 정의& 선언"
   ]
  },
  {
   "cell_type": "code",
   "execution_count": 6,
   "id": "01cbda6a",
   "metadata": {},
   "outputs": [
    {
     "name": "stdout",
     "output_type": "stream",
     "text": [
      "8\n"
     ]
    }
   ],
   "source": [
    "sess = tf.Session()\n",
    "print(sess.run(a))\n",
    "sess.close()"
   ]
  },
  {
   "cell_type": "code",
   "execution_count": 7,
   "id": "c7b5c93d",
   "metadata": {},
   "outputs": [
    {
     "name": "stdout",
     "output_type": "stream",
     "text": [
      "8\n"
     ]
    }
   ],
   "source": [
    "## 동일한 방법\n",
    "### 따로 close해주지 않아도 된다.\n",
    "\n",
    "with tf.Session() as sess:\n",
    "    print(sess.run(a))"
   ]
  },
  {
   "cell_type": "markdown",
   "id": "5c90989e",
   "metadata": {},
   "source": [
    "---"
   ]
  },
  {
   "cell_type": "code",
   "execution_count": 8,
   "id": "88694c2b",
   "metadata": {},
   "outputs": [],
   "source": [
    "x = 2\n",
    "y = 3\n",
    "op1 = tf.add(x, y)\n",
    "op2 = tf.multiply(x, y)\n",
    "op3 = tf.pow(op2, op1)"
   ]
  },
  {
   "cell_type": "code",
   "execution_count": 9,
   "id": "28990d93",
   "metadata": {},
   "outputs": [
    {
     "name": "stdout",
     "output_type": "stream",
     "text": [
      "7776\n"
     ]
    }
   ],
   "source": [
    "with tf.Session() as sess:\n",
    "    op4 = sess.run(op3) \n",
    "    ## Executing the TensorFlow Graph\n",
    "    ## 계산 그래프에 정의된 연산(계산)을 tf.Session을 통해 실제로 실행\n",
    "    print(op4)"
   ]
  },
  {
   "cell_type": "code",
   "execution_count": 10,
   "id": "1d85ebc5",
   "metadata": {},
   "outputs": [
    {
     "name": "stdout",
     "output_type": "stream",
     "text": [
      "7776 10\n"
     ]
    }
   ],
   "source": [
    "x = 2\n",
    "y = 3\n",
    "op1 = tf.add(x, y)\n",
    "op2 = tf.multiply(x, y)\n",
    "useless = tf.multiply(x, op1)\n",
    "op3 = tf.pow(op2, op1)\n",
    "\n",
    "with tf.Session() as sess:\n",
    "    op3, useless = sess.run([op3, useless])\n",
    "    print(op3, useless)"
   ]
  },
  {
   "cell_type": "code",
   "execution_count": null,
   "id": "0713078c",
   "metadata": {},
   "outputs": [],
   "source": []
  }
 ],
 "metadata": {
  "kernelspec": {
   "display_name": "Python 3 (ipykernel)",
   "language": "python",
   "name": "python3"
  },
  "language_info": {
   "codemirror_mode": {
    "name": "ipython",
    "version": 3
   },
   "file_extension": ".py",
   "mimetype": "text/x-python",
   "name": "python",
   "nbconvert_exporter": "python",
   "pygments_lexer": "ipython3",
   "version": "3.8.13"
  }
 },
 "nbformat": 4,
 "nbformat_minor": 5
}
