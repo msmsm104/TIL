{
 "cells": [
  {
   "cell_type": "markdown",
   "id": "0d1efd5a",
   "metadata": {},
   "source": [
    "## Regression with Neural Network\n",
    "\n",
    " 1. Prepare the data\n",
    " 2. Build the model\n",
    " 3. Set the criterion\n",
    " 4. Train the model\n",
    " 5. Visualize the result"
   ]
  },
  {
   "cell_type": "markdown",
   "id": "af96fe06",
   "metadata": {},
   "source": [
    "### 1. Prepare the data"
   ]
  },
  {
   "cell_type": "code",
   "execution_count": 1,
   "id": "3677a0de",
   "metadata": {},
   "outputs": [
    {
     "name": "stdout",
     "output_type": "stream",
     "text": [
      "WARNING:tensorflow:From /Users/moonseokmin/miniforge3/envs/krc/lib/python3.8/site-packages/tensorflow/python/compat/v2_compat.py:107: disable_resource_variables (from tensorflow.python.ops.variable_scope) is deprecated and will be removed in a future version.\n",
      "Instructions for updating:\n",
      "non-resource variables are not supported in the long term\n"
     ]
    }
   ],
   "source": [
    "import tensorflow.compat.v1 as tf\n",
    "tf.disable_v2_behavior()\n",
    "\n",
    "import numpy as np\n",
    "import pandas as pd\n",
    "import matplotlib.pyplot as plt\n",
    "import seaborn as sns\n",
    "import warnings\n",
    "\n",
    "from sklearn import datasets\n",
    "\n",
    "warnings.simplefilter('ignore')"
   ]
  },
  {
   "cell_type": "code",
   "execution_count": 2,
   "id": "681c8df1",
   "metadata": {},
   "outputs": [
    {
     "data": {
      "text/html": [
       "<div>\n",
       "<style scoped>\n",
       "    .dataframe tbody tr th:only-of-type {\n",
       "        vertical-align: middle;\n",
       "    }\n",
       "\n",
       "    .dataframe tbody tr th {\n",
       "        vertical-align: top;\n",
       "    }\n",
       "\n",
       "    .dataframe thead th {\n",
       "        text-align: right;\n",
       "    }\n",
       "</style>\n",
       "<table border=\"1\" class=\"dataframe\">\n",
       "  <thead>\n",
       "    <tr style=\"text-align: right;\">\n",
       "      <th></th>\n",
       "      <th>0</th>\n",
       "      <th>1</th>\n",
       "    </tr>\n",
       "  </thead>\n",
       "  <tbody>\n",
       "    <tr>\n",
       "      <th>0</th>\n",
       "      <td>4.98</td>\n",
       "      <td>24.0</td>\n",
       "    </tr>\n",
       "    <tr>\n",
       "      <th>1</th>\n",
       "      <td>9.14</td>\n",
       "      <td>21.6</td>\n",
       "    </tr>\n",
       "    <tr>\n",
       "      <th>2</th>\n",
       "      <td>4.03</td>\n",
       "      <td>34.7</td>\n",
       "    </tr>\n",
       "    <tr>\n",
       "      <th>3</th>\n",
       "      <td>2.94</td>\n",
       "      <td>33.4</td>\n",
       "    </tr>\n",
       "    <tr>\n",
       "      <th>4</th>\n",
       "      <td>5.33</td>\n",
       "      <td>36.2</td>\n",
       "    </tr>\n",
       "  </tbody>\n",
       "</table>\n",
       "</div>"
      ],
      "text/plain": [
       "      0     1\n",
       "0  4.98  24.0\n",
       "1  9.14  21.6\n",
       "2  4.03  34.7\n",
       "3  2.94  33.4\n",
       "4  5.33  36.2"
      ]
     },
     "execution_count": 2,
     "metadata": {},
     "output_type": "execute_result"
    }
   ],
   "source": [
    "x_data = datasets.load_boston().data[:, 12]\n",
    "y_data = datasets.load_boston().target\n",
    "\n",
    "df = pd.DataFrame([x_data, y_data]).T\n",
    "df.head()"
   ]
  },
  {
   "cell_type": "markdown",
   "id": "b13a40ef",
   "metadata": {},
   "source": [
    "---"
   ]
  },
  {
   "cell_type": "markdown",
   "id": "52bc94d2",
   "metadata": {},
   "source": [
    "### 2. Build the model"
   ]
  },
  {
   "cell_type": "code",
   "execution_count": 25,
   "id": "eb906301",
   "metadata": {},
   "outputs": [],
   "source": [
    "_x_data = tf.reshape(x_data, [len(x_data), 1])\n",
    "_y_data = tf.reshape(y_data, [len(y_data), 1])\n",
    "\n",
    "W1 = tf.Variable(tf.random_normal([1, 5], dtype=tf.float64))\n",
    "W2 = tf.Variable(tf.random_normal([5, 10], dtype=tf.float64))\n",
    "W3 = tf.Variable(tf.random_normal([10,50], dtype=tf.float64))\n",
    "W4 = tf.Variable(tf.random_normal([50,8], dtype=tf.float64))\n",
    "W_out = tf.Variable(tf.random_normal([8, 1], dtype=tf.float64))\n",
    "\n",
    "## Activation Function\n",
    "hidden1 = tf.nn.elu(tf.matmul(_x_data, W1)) \n",
    "hidden2 = tf.nn.sigmoid(tf.matmul(hidden1, W2)) \n",
    "hidden3 = tf.nn.elu(tf.matmul(hidden2, W3)) \n",
    "hidden4 = tf.nn.sigmoid(tf.matmul(hidden3, W4)) \n",
    "\n",
    "\n",
    "output = tf.matmul(hidden4, W_out)"
   ]
  },
  {
   "cell_type": "markdown",
   "id": "4fa8d934",
   "metadata": {},
   "source": [
    "---"
   ]
  },
  {
   "cell_type": "markdown",
   "id": "9190b45e",
   "metadata": {},
   "source": [
    "### 3. Set the criterion: Cost function & Gradient Descent method"
   ]
  },
  {
   "cell_type": "code",
   "execution_count": 26,
   "id": "8a5de3f6",
   "metadata": {},
   "outputs": [],
   "source": [
    "loss = tf.losses.mean_squared_error(output, _y_data)\n",
    "optimizer = tf.train.AdamOptimizer(0.001)\n",
    "train = optimizer.minimize(loss)"
   ]
  },
  {
   "cell_type": "markdown",
   "id": "61dd651c",
   "metadata": {},
   "source": [
    "---"
   ]
  },
  {
   "cell_type": "markdown",
   "id": "998c3727",
   "metadata": {},
   "source": [
    "### 4. Train the model"
   ]
  },
  {
   "cell_type": "code",
   "execution_count": 27,
   "id": "72ae9a95",
   "metadata": {},
   "outputs": [
    {
     "name": "stdout",
     "output_type": "stream",
     "text": [
      "Step 0 || Loss 433.9218444824219\n",
      "Step 5000 || Loss 84.64948272705078\n",
      "Step 10000 || Loss 29.443687438964844\n",
      "Step 15000 || Loss 25.986040115356445\n",
      "Step 20000 || Loss 25.921987533569336\n",
      "Step 25000 || Loss 25.067419052124023\n",
      "Step 30000 || Loss 24.570714950561523\n",
      "Step 35000 || Loss 24.340805053710938\n",
      "Step 40000 || Loss 24.19255828857422\n",
      "Step 45000 || Loss 23.911834716796875\n"
     ]
    }
   ],
   "source": [
    "with tf.Session() as sess:\n",
    "    sess.run(tf.global_variables_initializer())\n",
    "    \n",
    "    for step in range(50000):\n",
    "        sess.run(train)\n",
    "        if step % 5000 == 0:\n",
    "            print(f\"Step {step} || Loss {sess.run(loss)}\")\n",
    "            \n",
    "    output = sess.run(output)"
   ]
  },
  {
   "cell_type": "markdown",
   "id": "2ea56f5f",
   "metadata": {},
   "source": [
    "---"
   ]
  },
  {
   "cell_type": "markdown",
   "id": "d8c0c3d0",
   "metadata": {},
   "source": [
    "### 5. Visualize the result"
   ]
  },
  {
   "cell_type": "code",
   "execution_count": 28,
   "id": "8a7c6afd",
   "metadata": {},
   "outputs": [
    {
     "data": {
      "image/png": "[encoded data removed]",
      "text/plain": [
       "<Figure size 720x720 with 1 Axes>"
      ]
     },
     "metadata": {
      "needs_background": "light"
     },
     "output_type": "display_data"
    }
   ],
   "source": [
    "plt.figure(figsize=(10, 10))\n",
    "\n",
    "plt.plot(x_data, y_data, 'bo', label='Real data')\n",
    "plt.plot(x_data, output, 'rx', label='Prediction')\n",
    "plt.legend()\n",
    "\n",
    "plt.show()"
   ]
  },
  {
   "cell_type": "code",
   "execution_count": null,
   "id": "11782082",
   "metadata": {},
   "outputs": [],
   "source": []
  }
 ],
 "metadata": {
  "kernelspec": {
   "display_name": "Python 3 (ipykernel)",
   "language": "python",
   "name": "python3"
  },
  "language_info": {
   "codemirror_mode": {
    "name": "ipython",
    "version": 3
   },
   "file_extension": ".py",
   "mimetype": "text/x-python",
   "name": "python",
   "nbconvert_exporter": "python",
   "pygments_lexer": "ipython3",
   "version": "3.8.13"
  }
 },
 "nbformat": 4,
 "nbformat_minor": 5
}
