{
 "cells": [
  {
   "cell_type": "markdown",
   "id": "ad3b4626",
   "metadata": {},
   "source": [
    "# Activation Functions"
   ]
  },
  {
   "cell_type": "code",
   "execution_count": 3,
   "id": "99dd367e",
   "metadata": {},
   "outputs": [],
   "source": [
    "import torch\n",
    "import torch.nn as nn\n",
    "\n",
    "import matplotlib.pyplot as plt"
   ]
  },
  {
   "cell_type": "code",
   "execution_count": 13,
   "id": "dec0ad5b",
   "metadata": {},
   "outputs": [
    {
     "data": {
      "text/plain": [
       "tensor([-22.2354, -19.9298, -17.5804, -15.5818, -15.1925, -14.4173, -13.9413,\n",
       "        -13.7538, -13.3540, -12.4896, -11.3233, -10.6118,  -9.8699,  -9.2096,\n",
       "         -8.4811,  -8.4406,  -7.7457,  -7.3360,  -7.0959,  -7.0285,  -6.2206,\n",
       "         -6.1843,  -5.4145,  -4.8424,  -4.3617,  -4.3460,  -4.3144,  -4.1573,\n",
       "         -4.1229,  -4.0755,  -4.0618,  -3.9805,  -3.6302,  -3.5495,  -3.2499,\n",
       "         -3.1876,  -2.9954,  -2.3331,  -1.5291,  -1.1515,  -0.5848,  -0.2702,\n",
       "          0.0855,   0.3831,   0.3890,   0.7519,   0.8331,   0.9130,   0.9367,\n",
       "          1.1279,   1.6724,   1.9587,   2.2159,   2.3041,   2.3640,   2.7072,\n",
       "          2.7540,   2.8575,   3.4897,   4.3340,   4.5507,   4.8278,   4.9313,\n",
       "          4.9763,   5.2127,   5.2438,   5.4650,   5.6707,   5.7759,   6.1057,\n",
       "          6.6689,   6.7701,   6.9692,   7.4459,   7.8052,   8.0545,   8.2322,\n",
       "          8.3414,   8.5673,   8.7314,   8.8316,   9.3018,  10.6283,  11.2367,\n",
       "         11.7217,  11.7934,  13.3693,  13.6137,  15.3565,  15.4204,  15.9726,\n",
       "         16.2366,  16.3750,  16.6940,  17.9358,  20.5355,  21.4867,  23.0521,\n",
       "         24.0077,  24.5696])"
      ]
     },
     "execution_count": 13,
     "metadata": {},
     "output_type": "execute_result"
    }
   ],
   "source": [
    "x = torch.sort(torch.randn(100) * 10)[0]\n",
    "\n",
    "x"
   ]
  },
  {
   "cell_type": "markdown",
   "id": "8dd30fce",
   "metadata": {},
   "source": [
    "---\n",
    "# Sigmoid\n",
    "\n",
    "\n",
    "$$\n",
    "\\sigma(x)=\\frac{1}{1+e^{-x}}\n",
    "$$"
   ]
  },
  {
   "cell_type": "code",
   "execution_count": 14,
   "id": "44cb71c0",
   "metadata": {},
   "outputs": [
    {
     "name": "stdout",
     "output_type": "stream",
     "text": [
      "tensor([2.2044e-10, 2.2110e-09, 2.3171e-08, 1.7096e-07, 2.5234e-07, 5.4781e-07,\n",
      "        8.8178e-07, 1.0637e-06, 1.5864e-06, 3.7656e-06, 1.2088e-05, 2.4624e-05,\n",
      "        5.1707e-05, 1.0006e-04, 2.0731e-04, 2.1588e-04, 4.3242e-04, 6.5126e-04,\n",
      "        8.2780e-04, 8.8547e-04, 1.9842e-03, 2.0574e-03, 4.4318e-03, 7.8264e-03,\n",
      "        1.2596e-02, 1.2792e-02, 1.3198e-02, 1.5408e-02, 1.5939e-02, 1.6700e-02,\n",
      "        1.6927e-02, 1.8334e-02, 2.5826e-02, 2.7935e-02, 3.7330e-02, 3.9634e-02,\n",
      "        4.7635e-02, 8.8420e-02, 1.7813e-01, 2.4022e-01, 3.5782e-01, 4.3286e-01,\n",
      "        5.2136e-01, 5.9461e-01, 5.9603e-01, 6.7959e-01, 6.9702e-01, 7.1362e-01,\n",
      "        7.1842e-01, 7.5546e-01, 8.4189e-01, 8.7639e-01, 9.0167e-01, 9.0921e-01,\n",
      "        9.1404e-01, 9.3745e-01, 9.4014e-01, 9.4570e-01, 9.7039e-01, 9.8705e-01,\n",
      "        9.8955e-01, 9.9206e-01, 9.9283e-01, 9.9315e-01, 9.9458e-01, 9.9475e-01,\n",
      "        9.9579e-01, 9.9657e-01, 9.9691e-01, 9.9777e-01, 9.9873e-01, 9.9885e-01,\n",
      "        9.9906e-01, 9.9942e-01, 9.9959e-01, 9.9968e-01, 9.9973e-01, 9.9976e-01,\n",
      "        9.9981e-01, 9.9984e-01, 9.9985e-01, 9.9991e-01, 9.9998e-01, 9.9999e-01,\n",
      "        9.9999e-01, 9.9999e-01, 1.0000e+00, 1.0000e+00, 1.0000e+00, 1.0000e+00,\n",
      "        1.0000e+00, 1.0000e+00, 1.0000e+00, 1.0000e+00, 1.0000e+00, 1.0000e+00,\n",
      "        1.0000e+00, 1.0000e+00, 1.0000e+00, 1.0000e+00])\n"
     ]
    }
   ],
   "source": [
    "act = nn.Sigmoid()\n",
    "print(act(x))"
   ]
  },
  {
   "cell_type": "code",
   "execution_count": 15,
   "id": "845e77d3",
   "metadata": {},
   "outputs": [
    {
     "name": "stdout",
     "output_type": "stream",
     "text": [
      "tensor([2.2044e-10, 2.2110e-09, 2.3171e-08, 1.7096e-07, 2.5234e-07, 5.4781e-07,\n",
      "        8.8178e-07, 1.0637e-06, 1.5864e-06, 3.7656e-06, 1.2088e-05, 2.4624e-05,\n",
      "        5.1707e-05, 1.0006e-04, 2.0731e-04, 2.1588e-04, 4.3242e-04, 6.5126e-04,\n",
      "        8.2780e-04, 8.8547e-04, 1.9842e-03, 2.0574e-03, 4.4318e-03, 7.8264e-03,\n",
      "        1.2596e-02, 1.2792e-02, 1.3198e-02, 1.5408e-02, 1.5939e-02, 1.6700e-02,\n",
      "        1.6927e-02, 1.8334e-02, 2.5826e-02, 2.7935e-02, 3.7330e-02, 3.9634e-02,\n",
      "        4.7635e-02, 8.8420e-02, 1.7813e-01, 2.4022e-01, 3.5782e-01, 4.3286e-01,\n",
      "        5.2136e-01, 5.9461e-01, 5.9603e-01, 6.7959e-01, 6.9702e-01, 7.1362e-01,\n",
      "        7.1842e-01, 7.5546e-01, 8.4189e-01, 8.7639e-01, 9.0167e-01, 9.0921e-01,\n",
      "        9.1404e-01, 9.3745e-01, 9.4014e-01, 9.4570e-01, 9.7039e-01, 9.8705e-01,\n",
      "        9.8955e-01, 9.9206e-01, 9.9283e-01, 9.9315e-01, 9.9458e-01, 9.9475e-01,\n",
      "        9.9579e-01, 9.9657e-01, 9.9691e-01, 9.9777e-01, 9.9873e-01, 9.9885e-01,\n",
      "        9.9906e-01, 9.9942e-01, 9.9959e-01, 9.9968e-01, 9.9973e-01, 9.9976e-01,\n",
      "        9.9981e-01, 9.9984e-01, 9.9985e-01, 9.9991e-01, 9.9998e-01, 9.9999e-01,\n",
      "        9.9999e-01, 9.9999e-01, 1.0000e+00, 1.0000e+00, 1.0000e+00, 1.0000e+00,\n",
      "        1.0000e+00, 1.0000e+00, 1.0000e+00, 1.0000e+00, 1.0000e+00, 1.0000e+00,\n",
      "        1.0000e+00, 1.0000e+00, 1.0000e+00, 1.0000e+00])\n"
     ]
    }
   ],
   "source": [
    "print(torch.sigmoid(x))"
   ]
  },
  {
   "cell_type": "code",
   "execution_count": 17,
   "id": "a4b94787",
   "metadata": {},
   "outputs": [
    {
     "data": {
      "image/png": "[encoded data removed]",
      "text/plain": [
       "<Figure size 432x288 with 1 Axes>"
      ]
     },
     "metadata": {
      "needs_background": "light"
     },
     "output_type": "display_data"
    }
   ],
   "source": [
    "plt.plot(x.numpy(), act(x).numpy())\n",
    "plt.show()"
   ]
  },
  {
   "cell_type": "markdown",
   "id": "c0252bb8",
   "metadata": {},
   "source": [
    "---\n",
    "## Hypoerbolic Tangent (TanH)\n",
    "\n",
    "$$\n",
    "\\text{tanh}(x)=\\frac{e^x-e^{-x}}{e^x+e^{-x}}\n",
    "$$"
   ]
  },
  {
   "cell_type": "code",
   "execution_count": 18,
   "id": "3f69a5d1",
   "metadata": {},
   "outputs": [
    {
     "name": "stdout",
     "output_type": "stream",
     "text": [
      "tensor([-1.0000, -1.0000, -1.0000, -1.0000, -1.0000, -1.0000, -1.0000, -1.0000,\n",
      "        -1.0000, -1.0000, -1.0000, -1.0000, -1.0000, -1.0000, -1.0000, -1.0000,\n",
      "        -1.0000, -1.0000, -1.0000, -1.0000, -1.0000, -1.0000, -1.0000, -0.9999,\n",
      "        -0.9997, -0.9997, -0.9996, -0.9995, -0.9995, -0.9994, -0.9994, -0.9993,\n",
      "        -0.9986, -0.9983, -0.9970, -0.9966, -0.9950, -0.9814, -0.9103, -0.8182,\n",
      "        -0.5262, -0.2638,  0.0853,  0.3654,  0.3705,  0.6363,  0.6822,  0.7226,\n",
      "         0.7337,  0.8103,  0.9319,  0.9610,  0.9765,  0.9803,  0.9825,  0.9911,\n",
      "         0.9919,  0.9934,  0.9981,  0.9997,  0.9998,  0.9999,  0.9999,  0.9999,\n",
      "         0.9999,  0.9999,  1.0000,  1.0000,  1.0000,  1.0000,  1.0000,  1.0000,\n",
      "         1.0000,  1.0000,  1.0000,  1.0000,  1.0000,  1.0000,  1.0000,  1.0000,\n",
      "         1.0000,  1.0000,  1.0000,  1.0000,  1.0000,  1.0000,  1.0000,  1.0000,\n",
      "         1.0000,  1.0000,  1.0000,  1.0000,  1.0000,  1.0000,  1.0000,  1.0000,\n",
      "         1.0000,  1.0000,  1.0000,  1.0000])\n"
     ]
    }
   ],
   "source": [
    "act = nn.Tanh()\n",
    "print(act(x))"
   ]
  },
  {
   "cell_type": "code",
   "execution_count": 19,
   "id": "d8e1070c",
   "metadata": {},
   "outputs": [
    {
     "name": "stdout",
     "output_type": "stream",
     "text": [
      "tensor([-1.0000, -1.0000, -1.0000, -1.0000, -1.0000, -1.0000, -1.0000, -1.0000,\n",
      "        -1.0000, -1.0000, -1.0000, -1.0000, -1.0000, -1.0000, -1.0000, -1.0000,\n",
      "        -1.0000, -1.0000, -1.0000, -1.0000, -1.0000, -1.0000, -1.0000, -0.9999,\n",
      "        -0.9997, -0.9997, -0.9996, -0.9995, -0.9995, -0.9994, -0.9994, -0.9993,\n",
      "        -0.9986, -0.9983, -0.9970, -0.9966, -0.9950, -0.9814, -0.9103, -0.8182,\n",
      "        -0.5262, -0.2638,  0.0853,  0.3654,  0.3705,  0.6363,  0.6822,  0.7226,\n",
      "         0.7337,  0.8103,  0.9319,  0.9610,  0.9765,  0.9803,  0.9825,  0.9911,\n",
      "         0.9919,  0.9934,  0.9981,  0.9997,  0.9998,  0.9999,  0.9999,  0.9999,\n",
      "         0.9999,  0.9999,  1.0000,  1.0000,  1.0000,  1.0000,  1.0000,  1.0000,\n",
      "         1.0000,  1.0000,  1.0000,  1.0000,  1.0000,  1.0000,  1.0000,  1.0000,\n",
      "         1.0000,  1.0000,  1.0000,  1.0000,  1.0000,  1.0000,  1.0000,  1.0000,\n",
      "         1.0000,  1.0000,  1.0000,  1.0000,  1.0000,  1.0000,  1.0000,  1.0000,\n",
      "         1.0000,  1.0000,  1.0000,  1.0000])\n"
     ]
    }
   ],
   "source": [
    "print(torch.tanh(x))"
   ]
  },
  {
   "cell_type": "code",
   "execution_count": 20,
   "id": "3391b270",
   "metadata": {},
   "outputs": [
    {
     "data": {
      "image/png": "[encoded data removed]",
      "text/plain": [
       "<Figure size 432x288 with 1 Axes>"
      ]
     },
     "metadata": {
      "needs_background": "light"
     },
     "output_type": "display_data"
    }
   ],
   "source": [
    "plt.plot(x.numpy(), torch.tanh(x).numpy())\n",
    "plt.show()"
   ]
  },
  {
   "cell_type": "code",
   "execution_count": null,
   "id": "c461e35e",
   "metadata": {},
   "outputs": [],
   "source": []
  }
 ],
 "metadata": {
  "kernelspec": {
   "display_name": "Python 3 (ipykernel)",
   "language": "python",
   "name": "python3"
  },
  "language_info": {
   "codemirror_mode": {
    "name": "ipython",
    "version": 3
   },
   "file_extension": ".py",
   "mimetype": "text/x-python",
   "name": "python",
   "nbconvert_exporter": "python",
   "pygments_lexer": "ipython3",
   "version": "3.8.13"
  }
 },
 "nbformat": 4,
 "nbformat_minor": 5
}
