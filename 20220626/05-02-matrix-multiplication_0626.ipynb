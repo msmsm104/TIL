{
 "cells": [
  {
   "cell_type": "markdown",
   "id": "2b7c289e",
   "metadata": {},
   "source": [
    "## Matrix Multiplication"
   ]
  },
  {
   "cell_type": "code",
   "execution_count": 1,
   "id": "b1398b67",
   "metadata": {},
   "outputs": [],
   "source": [
    "import torch"
   ]
  },
  {
   "cell_type": "code",
   "execution_count": 2,
   "id": "32d197cc",
   "metadata": {},
   "outputs": [
    {
     "name": "stdout",
     "output_type": "stream",
     "text": [
      "torch.Size([3, 2]) torch.Size([2, 2])\n"
     ]
    }
   ],
   "source": [
    "x = torch.FloatTensor([[1, 2],\n",
    "                       [3, 4], \n",
    "                       [5, 6]])\n",
    "y = torch.FloatTensor([[1, 2],\n",
    "                       [1, 2]])\n",
    "\n",
    "print(x.size(), y.size())"
   ]
  },
  {
   "cell_type": "code",
   "execution_count": 4,
   "id": "633dfd1e",
   "metadata": {},
   "outputs": [
    {
     "name": "stdout",
     "output_type": "stream",
     "text": [
      "tensor([[ 3.,  6.],\n",
      "        [ 7., 14.],\n",
      "        [11., 22.]])\n",
      "torch.Size([3, 2])\n"
     ]
    }
   ],
   "source": [
    "z = torch.matmul(x, y)\n",
    "print(z)\n",
    "print(z.size())"
   ]
  },
  {
   "cell_type": "code",
   "execution_count": 5,
   "id": "d3b7432d",
   "metadata": {},
   "outputs": [
    {
     "name": "stdout",
     "output_type": "stream",
     "text": [
      "torch.Size([3, 3, 2]) torch.Size([3, 2, 3])\n"
     ]
    }
   ],
   "source": [
    "x = torch.FloatTensor([[[1, 2],\n",
    "                        [3, 4],\n",
    "                        [5, 6]],\n",
    "                       [[7, 8],\n",
    "                        [9, 10],\n",
    "                        [11, 12]],\n",
    "                       [[13, 14],\n",
    "                        [15, 16],\n",
    "                        [17, 18]]])\n",
    "y = torch.FloatTensor([[[1, 2, 2],\n",
    "                        [1, 2, 2]],\n",
    "                       [[1, 3, 3],\n",
    "                        [1, 3, 3]],\n",
    "                       [[1, 4, 4],\n",
    "                        [1, 4, 4]]])\n",
    "\n",
    "print(x.size(), y.size())"
   ]
  },
  {
   "cell_type": "code",
   "execution_count": 6,
   "id": "687540aa",
   "metadata": {},
   "outputs": [
    {
     "data": {
      "text/plain": [
       "tensor([[[  3.,   6.,   6.],\n",
       "         [  7.,  14.,  14.],\n",
       "         [ 11.,  22.,  22.]],\n",
       "\n",
       "        [[ 15.,  45.,  45.],\n",
       "         [ 19.,  57.,  57.],\n",
       "         [ 23.,  69.,  69.]],\n",
       "\n",
       "        [[ 27., 108., 108.],\n",
       "         [ 31., 124., 124.],\n",
       "         [ 35., 140., 140.]]])"
      ]
     },
     "execution_count": 6,
     "metadata": {},
     "output_type": "execute_result"
    }
   ],
   "source": [
    "torch.bmm(x, y)"
   ]
  },
  {
   "cell_type": "code",
   "execution_count": null,
   "id": "12b30a5e",
   "metadata": {},
   "outputs": [],
   "source": []
  }
 ],
 "metadata": {
  "kernelspec": {
   "display_name": "Python 3 (ipykernel)",
   "language": "python",
   "name": "python3"
  },
  "language_info": {
   "codemirror_mode": {
    "name": "ipython",
    "version": 3
   },
   "file_extension": ".py",
   "mimetype": "text/x-python",
   "name": "python",
   "nbconvert_exporter": "python",
   "pygments_lexer": "ipython3",
   "version": "3.8.13"
  }
 },
 "nbformat": 4,
 "nbformat_minor": 5
}
