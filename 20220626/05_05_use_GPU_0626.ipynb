{
  "nbformat": 4,
  "nbformat_minor": 0,
  "metadata": {
    "colab": {
      "name": "05-05-use-GPU_0626.ipynb",
      "provenance": [],
      "collapsed_sections": [],
      "authorship_tag": "ABX9TyMCHZohEus4fkgkgGnJZOQB",
      "include_colab_link": true
    },
    "kernelspec": {
      "name": "python3",
      "display_name": "Python 3"
    },
    "language_info": {
      "name": "python"
    },
    "accelerator": "GPU",
    "gpuClass": "standard"
  },
  "cells": [
    {
      "cell_type": "markdown",
      "metadata": {
        "id": "view-in-github",
        "colab_type": "text"
      },
      "source": [
        "<a href=\"https://colab.research.google.com/github/msmsm104/TIL/blob/main/20220626/05_05_use_GPU_0626.ipynb\" target=\"_parent\"><img src=\"https://colab.research.google.com/assets/colab-badge.svg\" alt=\"Open In Colab\"/></a>"
      ]
    },
    {
      "cell_type": "code",
      "execution_count": 4,
      "metadata": {
        "id": "oposa7NWHTju"
      },
      "outputs": [],
      "source": [
        "import torch\n",
        "import torch.nn as nn"
      ]
    },
    {
      "cell_type": "markdown",
      "source": [
        "## Convert to CUDA tensor: cuda()"
      ],
      "metadata": {
        "id": "5UTOKz54IUO6"
      }
    },
    {
      "cell_type": "code",
      "source": [
        "torch.cuda.FloatTensor(2,2)"
      ],
      "metadata": {
        "colab": {
          "base_uri": "https://localhost:8080/"
        },
        "id": "Non21kerHUxQ",
        "outputId": "5874f0ef-8991-416f-b154-0bcda11a1a1c"
      },
      "execution_count": 5,
      "outputs": [
        {
          "output_type": "execute_result",
          "data": {
            "text/plain": [
              "tensor([[0., 0.],\n",
              "        [0., 0.]], device='cuda:0')"
            ]
          },
          "metadata": {},
          "execution_count": 5
        }
      ]
    },
    {
      "cell_type": "code",
      "source": [
        "x = torch.FloatTensor(2, 2)\n",
        "\n",
        "x"
      ],
      "metadata": {
        "colab": {
          "base_uri": "https://localhost:8080/"
        },
        "id": "cmutTXWLHbqP",
        "outputId": "c2ff4574-cc3d-4b55-8c36-8bd31b60f894"
      },
      "execution_count": 6,
      "outputs": [
        {
          "output_type": "execute_result",
          "data": {
            "text/plain": [
              "tensor([[-1.1409e-08,  0.0000e+00],\n",
              "        [ 7.0976e+22,  1.0903e+27]])"
            ]
          },
          "metadata": {},
          "execution_count": 6
        }
      ]
    },
    {
      "cell_type": "code",
      "source": [
        "x.cuda()"
      ],
      "metadata": {
        "colab": {
          "base_uri": "https://localhost:8080/"
        },
        "id": "_C0OdSsxIe-E",
        "outputId": "039b27df-c339-4b5d-e6b6-d2c0d14008ae"
      },
      "execution_count": 7,
      "outputs": [
        {
          "output_type": "execute_result",
          "data": {
            "text/plain": [
              "tensor([[-1.1409e-08,  0.0000e+00],\n",
              "        [ 7.0976e+22,  1.0903e+27]], device='cuda:0')"
            ]
          },
          "metadata": {},
          "execution_count": 7
        }
      ]
    },
    {
      "cell_type": "code",
      "source": [
        "d = torch.device('cuda:0')"
      ],
      "metadata": {
        "id": "xTlrlpA6Ig92"
      },
      "execution_count": 8,
      "outputs": []
    },
    {
      "cell_type": "code",
      "source": [
        "x.cuda(device=d)"
      ],
      "metadata": {
        "colab": {
          "base_uri": "https://localhost:8080/"
        },
        "id": "-rHPTTNmImrL",
        "outputId": "f85fb2b8-e78a-4e5d-86cf-85d3d696d290"
      },
      "execution_count": 10,
      "outputs": [
        {
          "output_type": "execute_result",
          "data": {
            "text/plain": [
              "tensor([[-1.1409e-08,  0.0000e+00],\n",
              "        [ 7.0976e+22,  1.0903e+27]], device='cuda:0')"
            ]
          },
          "metadata": {},
          "execution_count": 10
        }
      ]
    },
    {
      "cell_type": "code",
      "source": [
        "x.device"
      ],
      "metadata": {
        "colab": {
          "base_uri": "https://localhost:8080/"
        },
        "id": "oOBncEV6IoIr",
        "outputId": "54d8b332-9d7c-4fde-b57f-716254fc508e"
      },
      "execution_count": 11,
      "outputs": [
        {
          "output_type": "execute_result",
          "data": {
            "text/plain": [
              "device(type='cpu')"
            ]
          },
          "metadata": {},
          "execution_count": 11
        }
      ]
    },
    {
      "cell_type": "markdown",
      "source": [
        "## Convert to CUDA tensor: to()"
      ],
      "metadata": {
        "id": "9z13FFLfIu9l"
      }
    },
    {
      "cell_type": "code",
      "source": [
        "x.to(device=d)"
      ],
      "metadata": {
        "colab": {
          "base_uri": "https://localhost:8080/"
        },
        "id": "FjVFirC-IssA",
        "outputId": "afc3db8a-270e-4968-dbd1-2ce73dd83e69"
      },
      "execution_count": 12,
      "outputs": [
        {
          "output_type": "execute_result",
          "data": {
            "text/plain": [
              "tensor([[-1.1409e-08,  0.0000e+00],\n",
              "        [ 7.0976e+22,  1.0903e+27]], device='cuda:0')"
            ]
          },
          "metadata": {},
          "execution_count": 12
        }
      ]
    },
    {
      "cell_type": "markdown",
      "source": [
        "## Convert to CPU tensor from CUDA tensor"
      ],
      "metadata": {
        "id": "PDx3PGI6Je8W"
      }
    },
    {
      "cell_type": "code",
      "source": [
        "x = torch.cuda.FloatTensor(2, 2)"
      ],
      "metadata": {
        "id": "3uYTRxKQJbtq"
      },
      "execution_count": 13,
      "outputs": []
    },
    {
      "cell_type": "code",
      "source": [
        "x = x.cpu()"
      ],
      "metadata": {
        "id": "RQhR1_SFJuLU"
      },
      "execution_count": 16,
      "outputs": []
    },
    {
      "cell_type": "code",
      "source": [
        "d = torch.device('cpu')\n",
        "x = x.to(d)"
      ],
      "metadata": {
        "id": "_8CgxGZbJv52"
      },
      "execution_count": 17,
      "outputs": []
    },
    {
      "cell_type": "markdown",
      "source": [
        "## Move model from CPU to GPU"
      ],
      "metadata": {
        "id": "x1jcabx2J7N7"
      }
    },
    {
      "cell_type": "code",
      "source": [
        "def print_params(model):\n",
        "    for p in model.parameters():\n",
        "        print(p)"
      ],
      "metadata": {
        "id": "6AHV17nHJ4QZ"
      },
      "execution_count": 18,
      "outputs": []
    },
    {
      "cell_type": "code",
      "source": [
        "linear = nn.Linear(2, 2)\n",
        "\n",
        "print_params(linear)"
      ],
      "metadata": {
        "colab": {
          "base_uri": "https://localhost:8080/"
        },
        "id": "Ab7fetOKKE_a",
        "outputId": "8cebd9ef-d543-40e5-b377-652ea5b4ea21"
      },
      "execution_count": 19,
      "outputs": [
        {
          "output_type": "stream",
          "name": "stdout",
          "text": [
            "Parameter containing:\n",
            "tensor([[ 0.3049, -0.3077],\n",
            "        [-0.3840,  0.2554]], requires_grad=True)\n",
            "Parameter containing:\n",
            "tensor([0.2102, 0.1718], requires_grad=True)\n"
          ]
        }
      ]
    },
    {
      "cell_type": "code",
      "source": [
        "linear = linear.cuda()\n",
        "\n",
        "print_params(linear)"
      ],
      "metadata": {
        "colab": {
          "base_uri": "https://localhost:8080/"
        },
        "id": "RB92d_xFKMTK",
        "outputId": "123eb52a-35d3-4a3b-c69f-3e3b9c9a1adb"
      },
      "execution_count": 20,
      "outputs": [
        {
          "output_type": "stream",
          "name": "stdout",
          "text": [
            "Parameter containing:\n",
            "tensor([[ 0.3049, -0.3077],\n",
            "        [-0.3840,  0.2554]], device='cuda:0', requires_grad=True)\n",
            "Parameter containing:\n",
            "tensor([0.2102, 0.1718], device='cuda:0', requires_grad=True)\n"
          ]
        }
      ]
    },
    {
      "cell_type": "code",
      "source": [
        ""
      ],
      "metadata": {
        "id": "Ic02yXuYKTXB"
      },
      "execution_count": null,
      "outputs": []
    },
    {
      "cell_type": "markdown",
      "source": [
        "## Tricks"
      ],
      "metadata": {
        "id": "x0p35gAsKZ5X"
      }
    },
    {
      "cell_type": "code",
      "source": [
        "x = torch.cuda.FloatTensor(2, 2)"
      ],
      "metadata": {
        "id": "SdAoxGqaKa-G"
      },
      "execution_count": 21,
      "outputs": []
    },
    {
      "cell_type": "code",
      "source": [
        "x.new(2, 2)"
      ],
      "metadata": {
        "colab": {
          "base_uri": "https://localhost:8080/"
        },
        "id": "UQ_8TA2OKeHF",
        "outputId": "1c499468-dc7d-45bf-a38f-bd31187cfe0d"
      },
      "execution_count": 22,
      "outputs": [
        {
          "output_type": "execute_result",
          "data": {
            "text/plain": [
              "tensor([[-2.0000,  1.5468],\n",
              "        [ 0.3840,  0.2554]], device='cuda:0')"
            ]
          },
          "metadata": {},
          "execution_count": 22
        }
      ]
    },
    {
      "cell_type": "code",
      "source": [
        "torch.zeros_like(x)"
      ],
      "metadata": {
        "colab": {
          "base_uri": "https://localhost:8080/"
        },
        "id": "V5JKvIOTKf-Y",
        "outputId": "645f7306-5947-4e32-9edc-dd89f59fad83"
      },
      "execution_count": 23,
      "outputs": [
        {
          "output_type": "execute_result",
          "data": {
            "text/plain": [
              "tensor([[0., 0.],\n",
              "        [0., 0.]], device='cuda:0')"
            ]
          },
          "metadata": {},
          "execution_count": 23
        }
      ]
    },
    {
      "cell_type": "code",
      "source": [
        "torch.ones_like(x)"
      ],
      "metadata": {
        "colab": {
          "base_uri": "https://localhost:8080/"
        },
        "id": "D1Wa_K-AKjNA",
        "outputId": "4e423578-bae7-4570-93b2-00b3158b66ea"
      },
      "execution_count": 24,
      "outputs": [
        {
          "output_type": "execute_result",
          "data": {
            "text/plain": [
              "tensor([[1., 1.],\n",
              "        [1., 1.]], device='cuda:0')"
            ]
          },
          "metadata": {},
          "execution_count": 24
        }
      ]
    },
    {
      "cell_type": "code",
      "source": [
        "list(linear.parameters())[0].new(2, 2)"
      ],
      "metadata": {
        "colab": {
          "base_uri": "https://localhost:8080/"
        },
        "id": "phH_Mly9KmCH",
        "outputId": "18a932e3-b896-4eae-b34c-4799f0041295"
      },
      "execution_count": 26,
      "outputs": [
        {
          "output_type": "execute_result",
          "data": {
            "text/plain": [
              "tensor([[ 0.3049, -0.3077],\n",
              "        [-0.3840,  0.2554]], device='cuda:0')"
            ]
          },
          "metadata": {},
          "execution_count": 26
        }
      ]
    },
    {
      "cell_type": "code",
      "source": [
        ""
      ],
      "metadata": {
        "id": "RdQz1ynrKsJD"
      },
      "execution_count": null,
      "outputs": []
    }
  ]
}