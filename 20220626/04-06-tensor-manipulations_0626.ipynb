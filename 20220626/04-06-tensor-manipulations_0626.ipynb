{
 "cells": [
  {
   "cell_type": "markdown",
   "id": "0e2b020b",
   "metadata": {},
   "source": [
    "## PyTorch Tensor Manipulations"
   ]
  },
  {
   "cell_type": "code",
   "execution_count": 1,
   "id": "87f714ec",
   "metadata": {},
   "outputs": [],
   "source": [
    "import torch"
   ]
  },
  {
   "cell_type": "markdown",
   "id": "d6da735e",
   "metadata": {},
   "source": [
    "## Tensor Shaping\n",
    "\n",
    "### reshape: change Tensor shape"
   ]
  },
  {
   "cell_type": "code",
   "execution_count": 2,
   "id": "c2dafbf9",
   "metadata": {},
   "outputs": [
    {
     "name": "stdout",
     "output_type": "stream",
     "text": [
      "torch.Size([3, 2, 2])\n"
     ]
    }
   ],
   "source": [
    "x = torch.FloatTensor([[[1, 2],\n",
    "                        [3, 4]],\n",
    "                       [[5, 6],\n",
    "                        [7, 8]],\n",
    "                       [[9, 10],\n",
    "                        [11, 12]]])\n",
    "print(x.size())"
   ]
  },
  {
   "cell_type": "code",
   "execution_count": 4,
   "id": "589ef233",
   "metadata": {},
   "outputs": [
    {
     "name": "stdout",
     "output_type": "stream",
     "text": [
      "tensor([ 1.,  2.,  3.,  4.,  5.,  6.,  7.,  8.,  9., 10., 11., 12.])\n",
      "tensor([ 1.,  2.,  3.,  4.,  5.,  6.,  7.,  8.,  9., 10., 11., 12.])\n"
     ]
    }
   ],
   "source": [
    "print(x.reshape(12))\n",
    "print(x.reshape(-1))"
   ]
  },
  {
   "cell_type": "code",
   "execution_count": 6,
   "id": "57643efb",
   "metadata": {},
   "outputs": [
    {
     "name": "stdout",
     "output_type": "stream",
     "text": [
      "tensor([[ 1.,  2.,  3.,  4.],\n",
      "        [ 5.,  6.,  7.,  8.],\n",
      "        [ 9., 10., 11., 12.]])\n",
      "tensor([[ 1.,  2.,  3.,  4.],\n",
      "        [ 5.,  6.,  7.,  8.],\n",
      "        [ 9., 10., 11., 12.]])\n"
     ]
    }
   ],
   "source": [
    "print(x.reshape(3, 4))\n",
    "print(x.reshape(3, -1))"
   ]
  },
  {
   "cell_type": "code",
   "execution_count": 8,
   "id": "140854fc",
   "metadata": {},
   "outputs": [
    {
     "name": "stdout",
     "output_type": "stream",
     "text": [
      "tensor([[[ 1.,  2.,  3.,  4.]],\n",
      "\n",
      "        [[ 5.,  6.,  7.,  8.]],\n",
      "\n",
      "        [[ 9., 10., 11., 12.]]])\n",
      "tensor([[[ 1.,  2.,  3.],\n",
      "         [ 4.,  5.,  6.]],\n",
      "\n",
      "        [[ 7.,  8.,  9.],\n",
      "         [10., 11., 12.]]])\n"
     ]
    }
   ],
   "source": [
    "print(x.reshape(3, 1, 4))\n",
    "print(x.reshape(-1, 2, 3))"
   ]
  },
  {
   "cell_type": "code",
   "execution_count": 9,
   "id": "a93514dc",
   "metadata": {},
   "outputs": [
    {
     "name": "stdout",
     "output_type": "stream",
     "text": [
      "tensor([[[[ 1.],\n",
      "          [ 2.]],\n",
      "\n",
      "         [[ 3.],\n",
      "          [ 4.]]],\n",
      "\n",
      "\n",
      "        [[[ 5.],\n",
      "          [ 6.]],\n",
      "\n",
      "         [[ 7.],\n",
      "          [ 8.]]],\n",
      "\n",
      "\n",
      "        [[[ 9.],\n",
      "          [10.]],\n",
      "\n",
      "         [[11.],\n",
      "          [12.]]]])\n"
     ]
    }
   ],
   "source": [
    "print(x.reshape(3, 2, 2, 1))"
   ]
  },
  {
   "cell_type": "markdown",
   "id": "e1cf2524",
   "metadata": {},
   "source": [
    "### squeeze: Remove dimension which has only one element."
   ]
  },
  {
   "cell_type": "code",
   "execution_count": 10,
   "id": "8681b1a9",
   "metadata": {},
   "outputs": [
    {
     "name": "stdout",
     "output_type": "stream",
     "text": [
      "torch.Size([1, 2, 2])\n"
     ]
    }
   ],
   "source": [
    "x = torch.FloatTensor([[[1, 2],\n",
    "                        [3, 4]]])\n",
    "print(x.size())"
   ]
  },
  {
   "cell_type": "markdown",
   "id": "116d54fe",
   "metadata": {},
   "source": [
    "Remove any dimension which has only one element."
   ]
  },
  {
   "cell_type": "code",
   "execution_count": 14,
   "id": "6aaeb102",
   "metadata": {},
   "outputs": [
    {
     "name": "stdout",
     "output_type": "stream",
     "text": [
      "tensor([[1., 2.],\n",
      "        [3., 4.]])\n",
      "torch.Size([2, 2])\n"
     ]
    }
   ],
   "source": [
    "print(x.squeeze())\n",
    "print(x.squeeze().size())"
   ]
  },
  {
   "cell_type": "code",
   "execution_count": 16,
   "id": "02477c35",
   "metadata": {},
   "outputs": [
    {
     "name": "stdout",
     "output_type": "stream",
     "text": [
      "torch.Size([2, 2])\n",
      "torch.Size([1, 2, 2])\n"
     ]
    }
   ],
   "source": [
    "print(x.squeeze(0).size())\n",
    "print(x.squeeze(1).size())"
   ]
  },
  {
   "cell_type": "markdown",
   "id": "b342224d",
   "metadata": {},
   "source": [
    "### unsqueeze: Insert dimension at certain index"
   ]
  },
  {
   "cell_type": "code",
   "execution_count": 17,
   "id": "b71e43f4",
   "metadata": {},
   "outputs": [
    {
     "name": "stdout",
     "output_type": "stream",
     "text": [
      "torch.Size([2, 2])\n"
     ]
    }
   ],
   "source": [
    "x = torch.FloatTensor([[1, 2],\n",
    "                       [3, 4]])\n",
    "print(x.size())"
   ]
  },
  {
   "cell_type": "code",
   "execution_count": 23,
   "id": "a5d02f21",
   "metadata": {},
   "outputs": [
    {
     "name": "stdout",
     "output_type": "stream",
     "text": [
      "tensor([[[1.],\n",
      "         [2.]],\n",
      "\n",
      "        [[3.],\n",
      "         [4.]]])\n",
      "torch.Size([2, 2, 1])\n",
      "tensor([[[1.],\n",
      "         [2.]],\n",
      "\n",
      "        [[3.],\n",
      "         [4.]]])\n",
      "torch.Size([2, 2, 1])\n",
      "tensor([[[1.],\n",
      "         [2.]],\n",
      "\n",
      "        [[3.],\n",
      "         [4.]]])\n"
     ]
    }
   ],
   "source": [
    "print(x.unsqueeze(2))\n",
    "print(x.unsqueeze(2).size())\n",
    "\n",
    "print(x.unsqueeze(-1))\n",
    "print(x.unsqueeze(-1).size())\n",
    "\n",
    "print(x.reshape(2, 2, -1))"
   ]
  },
  {
   "cell_type": "code",
   "execution_count": null,
   "id": "1efb00d2",
   "metadata": {},
   "outputs": [],
   "source": []
  }
 ],
 "metadata": {
  "kernelspec": {
   "display_name": "Python 3 (ipykernel)",
   "language": "python",
   "name": "python3"
  },
  "language_info": {
   "codemirror_mode": {
    "name": "ipython",
    "version": 3
   },
   "file_extension": ".py",
   "mimetype": "text/x-python",
   "name": "python",
   "nbconvert_exporter": "python",
   "pygments_lexer": "ipython3",
   "version": "3.8.13"
  }
 },
 "nbformat": 4,
 "nbformat_minor": 5
}
