{
  "cells": [
    {
      "cell_type": "markdown",
      "metadata": {
        "id": "view-in-github",
        "colab_type": "text"
      },
      "source": [
        "<a href=\"https://colab.research.google.com/github/msmsm104/TIL/blob/main/20220528/2_%E1%84%8F%E1%85%A9%E1%84%83%E1%85%B3%E1%84%85%E1%85%A9_%E1%84%91%E1%85%AE%E1%86%AF%E1%84%8B%E1%85%A5%E1%84%87%E1%85%A9%E1%84%82%E1%85%B3%E1%86%AB_%E1%84%89%E1%85%A5%E1%86%AB%E1%84%92%E1%85%A7%E1%86%BC%E1%84%83%E1%85%A2%E1%84%89%E1%85%AE%E1%84%92%E1%85%A1%E1%86%A8.ipynb\" target=\"_parent\"><img src=\"https://colab.research.google.com/assets/colab-badge.svg\" alt=\"Open In Colab\"/></a>"
      ]
    },
    {
      "cell_type": "markdown",
      "id": "5e1ef153",
      "metadata": {
        "id": "5e1ef153"
      },
      "source": [
        "## 학습 목표 \n",
        "\n",
        "- 머신러닝을 위해서, numpy와 pandas의 사용법을 다시 연습합니다.\n",
        "\n",
        "- numpy를 사용하여 여러가지 벡터 연산을 연습하고, 실제 데이터 유사도를 계산해봅시다."
      ]
    },
    {
      "cell_type": "markdown",
      "id": "3fd3eba5",
      "metadata": {
        "id": "3fd3eba5"
      },
      "source": [
        "### 1. 라이브러리 연습 예제 \n",
        "\n",
        "[ 필수 RECAP ]\n",
        "\n",
        "> Numpy : broadcasting, universal function\n",
        "\n",
        "> Pandas : fancy indexing, categorical variable encoding"
      ]
    },
    {
      "cell_type": "code",
      "source": [
        "import numpy as np\n",
        "import pandas as pd\n",
        "import matplotlib.pyplot as plt\n",
        "import seaborn as sns"
      ],
      "metadata": {
        "id": "cDj0IxJ8LABP"
      },
      "id": "cDj0IxJ8LABP",
      "execution_count": null,
      "outputs": []
    },
    {
      "cell_type": "code",
      "source": [
        "v1 = np.array([1,2,3])\n",
        "v2 = np.array([0,0,0])"
      ],
      "metadata": {
        "id": "8vlhWP5_LT_m"
      },
      "id": "8vlhWP5_LT_m",
      "execution_count": null,
      "outputs": []
    },
    {
      "cell_type": "code",
      "source": [
        "## numpy broadcasting\n",
        "print(v1 + v2) ## vector addition\n",
        "print(v1 - v2) ## vector subtraction\n",
        "print(v1 * v2) ## elementwise multiplication\n",
        "print(v2 / v1) ## elementwise division\n",
        "\n",
        "print(v1 + 3) ## broadcasting"
      ],
      "metadata": {
        "colab": {
          "base_uri": "https://localhost:8080/"
        },
        "id": "B_hPmgsJLoV9",
        "outputId": "0ce15ba9-e471-40ef-85c9-40c72cd85299"
      },
      "id": "B_hPmgsJLoV9",
      "execution_count": null,
      "outputs": [
        {
          "output_type": "stream",
          "name": "stdout",
          "text": [
            "[1 2 3]\n",
            "[1 2 3]\n",
            "[0 0 0]\n",
            "[0. 0. 0.]\n",
            "[4 5 6]\n"
          ]
        }
      ]
    },
    {
      "cell_type": "code",
      "execution_count": null,
      "id": "d557202e",
      "metadata": {
        "id": "d557202e"
      },
      "outputs": [],
      "source": [
        "# data를 불러와 봅니다.\n",
        "data = "
      ]
    },
    {
      "cell_type": "markdown",
      "id": "49040fb3",
      "metadata": {
        "id": "49040fb3"
      },
      "source": [
        "### 2. 유사도 측정 예제"
      ]
    },
    {
      "cell_type": "markdown",
      "id": "158cf0d3",
      "metadata": {
        "id": "158cf0d3"
      },
      "source": [
        "#### EDA & Preprocessing\n",
        "\n",
        "- 퀵하게 데이터를 파악하고, 유사도 측정 예시에 알맞게 가공해봅시다."
      ]
    },
    {
      "cell_type": "code",
      "execution_count": null,
      "id": "f2172e35",
      "metadata": {
        "id": "f2172e35"
      },
      "outputs": [],
      "source": [
        "## EDA\n"
      ]
    },
    {
      "cell_type": "markdown",
      "id": "5500232c",
      "metadata": {
        "id": "5500232c"
      },
      "source": [
        "#### 유사도(Proximity)\n",
        "\n",
        "1. Euclidean distance\n",
        "\n",
        "2. Cosine Similarity"
      ]
    },
    {
      "cell_type": "code",
      "source": [
        ""
      ],
      "metadata": {
        "id": "JhOEagUBLNh_"
      },
      "id": "JhOEagUBLNh_",
      "execution_count": null,
      "outputs": []
    },
    {
      "cell_type": "code",
      "execution_count": null,
      "id": "63a8e6ce",
      "metadata": {
        "id": "63a8e6ce"
      },
      "outputs": [],
      "source": [
        "def euclidean_distance():\n",
        "    \n",
        "    return"
      ]
    },
    {
      "cell_type": "code",
      "execution_count": null,
      "id": "152aff60",
      "metadata": {
        "id": "152aff60"
      },
      "outputs": [],
      "source": [
        "def cosine_similarity():\n",
        "    \n",
        "    return"
      ]
    }
  ],
  "metadata": {
    "kernelspec": {
      "display_name": "Python 3 (ipykernel)",
      "language": "python",
      "name": "python3"
    },
    "language_info": {
      "codemirror_mode": {
        "name": "ipython",
        "version": 3
      },
      "file_extension": ".py",
      "mimetype": "text/x-python",
      "name": "python",
      "nbconvert_exporter": "python",
      "pygments_lexer": "ipython3",
      "version": "3.8.13"
    },
    "colab": {
      "name": "2. 코드로 풀어보는 선형대수학.ipynb",
      "provenance": [],
      "include_colab_link": true
    }
  },
  "nbformat": 4,
  "nbformat_minor": 5
}