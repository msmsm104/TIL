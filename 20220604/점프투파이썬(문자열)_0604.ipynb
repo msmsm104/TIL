{
  "cells": [
    {
      "cell_type": "markdown",
      "metadata": {
        "id": "view-in-github",
        "colab_type": "text"
      },
      "source": [
        "<a href=\"https://colab.research.google.com/github/msmsm104/TIL/blob/main/20220604/%EC%A0%90%ED%94%84%ED%88%AC%ED%8C%8C%EC%9D%B4%EC%8D%AC(%EB%AC%B8%EC%9E%90%EC%97%B4)_0604.ipynb\" target=\"_parent\"><img src=\"https://colab.research.google.com/assets/colab-badge.svg\" alt=\"Open In Colab\"/></a>"
      ]
    },
    {
      "cell_type": "markdown",
      "id": "3c698b7d",
      "metadata": {
        "id": "3c698b7d"
      },
      "source": [
        "---\n"
      ]
    },
    {
      "cell_type": "markdown",
      "id": "7707e595",
      "metadata": {
        "id": "7707e595"
      },
      "source": [
        "## 숫자형, 문자열"
      ]
    },
    {
      "cell_type": "code",
      "execution_count": null,
      "id": "7774a537",
      "metadata": {
        "id": "7774a537"
      },
      "outputs": [],
      "source": [
        "food = \"Python's favorite food is perl.\"\n",
        "# 문자열에 작은 따옴표 (') 포함시키기"
      ]
    },
    {
      "cell_type": "code",
      "execution_count": null,
      "id": "c3a432a7",
      "metadata": {
        "id": "c3a432a7",
        "outputId": "2431f412-f654-4398-d0aa-778985db7e1c"
      },
      "outputs": [
        {
          "name": "stdout",
          "output_type": "stream",
          "text": [
            "Python's favorite food is perl.\n"
          ]
        }
      ],
      "source": [
        "print(food)"
      ]
    },
    {
      "cell_type": "code",
      "execution_count": null,
      "id": "be6010cd",
      "metadata": {
        "id": "be6010cd"
      },
      "outputs": [],
      "source": [
        "say = '\"Python is very easy.\" he says'\n",
        "# 문자열에 큰 따옴표(\")포함시키기"
      ]
    },
    {
      "cell_type": "code",
      "execution_count": null,
      "id": "8d79b094",
      "metadata": {
        "id": "8d79b094",
        "outputId": "16c79545-7993-4f89-e521-80dc97221244"
      },
      "outputs": [
        {
          "name": "stdout",
          "output_type": "stream",
          "text": [
            "\"Python is very easy.\" he says\n"
          ]
        }
      ],
      "source": [
        "print(say)"
      ]
    },
    {
      "cell_type": "code",
      "execution_count": null,
      "id": "ab8e0504",
      "metadata": {
        "id": "ab8e0504"
      },
      "outputs": [],
      "source": [
        "## 여러줄인 문자열 변수에 대입\n",
        "\n",
        "multiline = '''\n",
        "    Life is too short\n",
        "    You need python\n",
        "    '''"
      ]
    },
    {
      "cell_type": "code",
      "execution_count": null,
      "id": "f24d7c93",
      "metadata": {
        "id": "f24d7c93",
        "outputId": "d2d037fb-0aee-4a15-a000-17c75cac7e64"
      },
      "outputs": [
        {
          "name": "stdout",
          "output_type": "stream",
          "text": [
            "\n",
            "    Life is too short\n",
            "    You need python\n",
            "    \n"
          ]
        }
      ],
      "source": [
        "print(multiline)"
      ]
    },
    {
      "cell_type": "markdown",
      "id": "881b9879",
      "metadata": {
        "id": "881b9879"
      },
      "source": [
        "## 문자열 연산\n",
        "\n",
        " - Concatenation"
      ]
    },
    {
      "cell_type": "code",
      "execution_count": null,
      "id": "e5a9b282",
      "metadata": {
        "id": "e5a9b282",
        "outputId": "b2655108-823b-4330-f3cb-2445d45ab74a"
      },
      "outputs": [
        {
          "data": {
            "text/plain": [
              "'Python is fun!'"
            ]
          },
          "execution_count": 3,
          "metadata": {},
          "output_type": "execute_result"
        }
      ],
      "source": [
        "head = 'Python'\n",
        "tail = ' is fun!'\n",
        "head + tail"
      ]
    },
    {
      "cell_type": "code",
      "execution_count": null,
      "id": "64b74e0f",
      "metadata": {
        "id": "64b74e0f",
        "outputId": "73e1187f-b2bf-4eb2-d1c2-870b94f4bae9"
      },
      "outputs": [
        {
          "data": {
            "text/plain": [
              "'pythonpythonpythonpython'"
            ]
          },
          "execution_count": 9,
          "metadata": {},
          "output_type": "execute_result"
        }
      ],
      "source": [
        "a = 'python'\n",
        "a * 4"
      ]
    },
    {
      "cell_type": "code",
      "execution_count": null,
      "id": "187a7dde",
      "metadata": {
        "id": "187a7dde",
        "outputId": "a6f8974a-7deb-4f52-9d18-e54541f98588"
      },
      "outputs": [
        {
          "name": "stdout",
          "output_type": "stream",
          "text": [
            "==================================================\n",
            "My Program\n",
            "==================================================\n"
          ]
        }
      ],
      "source": [
        "print(\"=\" * 50) \n",
        "print(\"My Program\") \n",
        "print(\"=\" * 50)"
      ]
    },
    {
      "cell_type": "code",
      "execution_count": null,
      "id": "e7cc4f85",
      "metadata": {
        "id": "e7cc4f85",
        "outputId": "dd7e1168-d7b1-4de2-953b-ce181022454b"
      },
      "outputs": [
        {
          "data": {
            "text/plain": [
              "17"
            ]
          },
          "execution_count": 12,
          "metadata": {},
          "output_type": "execute_result"
        }
      ],
      "source": [
        "## 문자열 길이 구하기\n",
        "\n",
        "a = 'Life is too short'\n",
        "len(a)"
      ]
    },
    {
      "cell_type": "code",
      "execution_count": null,
      "id": "d511d21a",
      "metadata": {
        "id": "d511d21a",
        "outputId": "a8e2b60f-cc5e-414e-e2df-b51376e99fd1"
      },
      "outputs": [
        {
          "data": {
            "text/plain": [
              "(tuple, ('L', 'i', 'f', 'e'))"
            ]
          },
          "execution_count": 17,
          "metadata": {},
          "output_type": "execute_result"
        }
      ],
      "source": [
        "## 문자열 인덱싱과 슬라이싱\n",
        "\n",
        "a = 'Life is too short, You need Python'\n",
        "b = a[0], a[1], a[2], a[3]\n",
        "type(b), b"
      ]
    },
    {
      "cell_type": "code",
      "execution_count": null,
      "id": "23285a19",
      "metadata": {
        "id": "23285a19",
        "outputId": "480ae133-83a9-43d9-cb9f-05154c0590cd"
      },
      "outputs": [
        {
          "data": {
            "text/plain": [
              "('s', 'n')"
            ]
          },
          "execution_count": 19,
          "metadata": {},
          "output_type": "execute_result"
        }
      ],
      "source": [
        "a[12], a[-1]"
      ]
    },
    {
      "cell_type": "code",
      "execution_count": null,
      "id": "5e80431d",
      "metadata": {
        "id": "5e80431d"
      },
      "outputs": [],
      "source": [
        "# 문자열 슬라이싱\n",
        "## 자주 사용하게 되는 슬라이싱 기법\n",
        "\n",
        "a = '20220604Rainy'\n",
        "date = a[:8]\n",
        "weather = a[8:]"
      ]
    },
    {
      "cell_type": "code",
      "execution_count": null,
      "id": "9dc9170c",
      "metadata": {
        "id": "9dc9170c",
        "outputId": "e5f58bfa-eba4-4ff0-f98a-7315b3513bf9"
      },
      "outputs": [
        {
          "data": {
            "text/plain": [
              "'20220604'"
            ]
          },
          "metadata": {},
          "output_type": "display_data"
        },
        {
          "data": {
            "text/plain": [
              "'Rainy'"
            ]
          },
          "metadata": {},
          "output_type": "display_data"
        }
      ],
      "source": [
        "display(date, weather)"
      ]
    },
    {
      "cell_type": "code",
      "execution_count": null,
      "id": "cd113dba",
      "metadata": {
        "id": "cd113dba"
      },
      "outputs": [],
      "source": [
        "year = a[:4]\n",
        "day = a[4:8]\n",
        "weather = a[8:]"
      ]
    },
    {
      "cell_type": "code",
      "execution_count": null,
      "id": "38d94f31",
      "metadata": {
        "id": "38d94f31",
        "outputId": "47a0fce4-630f-47e9-b4f4-b7ea8b33a92d"
      },
      "outputs": [
        {
          "data": {
            "text/plain": [
              "'2022'"
            ]
          },
          "metadata": {},
          "output_type": "display_data"
        },
        {
          "data": {
            "text/plain": [
              "'0604'"
            ]
          },
          "metadata": {},
          "output_type": "display_data"
        },
        {
          "data": {
            "text/plain": [
              "'Rainy'"
            ]
          },
          "metadata": {},
          "output_type": "display_data"
        }
      ],
      "source": [
        "display(year, day, weather)"
      ]
    },
    {
      "cell_type": "code",
      "execution_count": null,
      "id": "7ea56da8",
      "metadata": {
        "id": "7ea56da8",
        "outputId": "66890f93-d22b-4f1f-f507-401060d2bb1b"
      },
      "outputs": [
        {
          "data": {
            "text/plain": [
              "'Python'"
            ]
          },
          "execution_count": 33,
          "metadata": {},
          "output_type": "execute_result"
        }
      ],
      "source": [
        "## 문자열을 변경시키려면?!\n",
        "### 문자열의 경우 immutable 자료형이다.\n",
        "\n",
        "\n",
        "\n",
        "a = 'Pithon'\n",
        "# a[1] = 'y'\n",
        "a[:1] + 'y' + a[2:]"
      ]
    },
    {
      "cell_type": "code",
      "execution_count": null,
      "id": "850b4ac1",
      "metadata": {
        "id": "850b4ac1",
        "outputId": "6127c219-eb5b-4b8b-807a-050132778476"
      },
      "outputs": [
        {
          "data": {
            "text/plain": [
              "'I eat 3 apples.'"
            ]
          },
          "execution_count": 34,
          "metadata": {},
          "output_type": "execute_result"
        }
      ],
      "source": [
        "## 문자열 포매팅\n",
        "\n",
        "'I eat %d apples.' %3"
      ]
    },
    {
      "cell_type": "code",
      "execution_count": null,
      "id": "816f3f63",
      "metadata": {
        "id": "816f3f63",
        "outputId": "b1b7d137-0b13-470e-a509-7ec86ea76066"
      },
      "outputs": [
        {
          "data": {
            "text/plain": [
              "'I eat 3 apples'"
            ]
          },
          "execution_count": 35,
          "metadata": {},
          "output_type": "execute_result"
        }
      ],
      "source": [
        "num = 3\n",
        "f\"I eat {num} apples\""
      ]
    },
    {
      "cell_type": "code",
      "execution_count": null,
      "id": "6ee64a17",
      "metadata": {
        "id": "6ee64a17",
        "outputId": "02ff78a1-21ef-49c7-babe-d0dbc3f813e8"
      },
      "outputs": [
        {
          "data": {
            "text/plain": [
              "'I eat 3 apples.'"
            ]
          },
          "execution_count": 38,
          "metadata": {},
          "output_type": "execute_result"
        }
      ],
      "source": [
        "'I eat %d apples.' %num"
      ]
    },
    {
      "cell_type": "code",
      "execution_count": null,
      "id": "857741c3",
      "metadata": {
        "id": "857741c3",
        "outputId": "7e984792-0c81-493b-fdb0-3dc0fdef8f3d"
      },
      "outputs": [
        {
          "data": {
            "text/plain": [
              "'The number is 3.1499'"
            ]
          },
          "execution_count": 39,
          "metadata": {},
          "output_type": "execute_result"
        }
      ],
      "source": [
        "## 포메팅, 소수점 표현\n",
        "\n",
        "num = 3.1498714650\n",
        "\n",
        "f\"The number is {num:.4f}\""
      ]
    },
    {
      "cell_type": "code",
      "execution_count": null,
      "id": "4c579e7a",
      "metadata": {
        "id": "4c579e7a",
        "outputId": "7b4cb80d-41ec-42cd-e3d7-592bf1e839f3"
      },
      "outputs": [
        {
          "data": {
            "text/plain": [
              "'        Hi, seokmin.'"
            ]
          },
          "execution_count": 41,
          "metadata": {},
          "output_type": "execute_result"
        }
      ],
      "source": [
        "## 포메팅: 왼쪽 정렬\n",
        "\n",
        "greeting = 'Hi'\n",
        "\n",
        "f\"{greeting:<10}, seokmin.\""
      ]
    },
    {
      "cell_type": "code",
      "execution_count": null,
      "id": "403bb6c1",
      "metadata": {
        "id": "403bb6c1",
        "outputId": "a2c46780-6226-4bfb-f0b3-374236ccfd6b"
      },
      "outputs": [
        {
          "data": {
            "text/plain": [
              "'    Hi    , seokmin.'"
            ]
          },
          "execution_count": 43,
          "metadata": {},
          "output_type": "execute_result"
        }
      ],
      "source": [
        "## 가운데 정렬\n",
        "f\"{greeting:^10}, seokmin.\""
      ]
    },
    {
      "cell_type": "code",
      "execution_count": null,
      "id": "291de3b1",
      "metadata": {
        "id": "291de3b1",
        "outputId": "a9b7a7a6-8794-4c73-ed10-7436236e7a28"
      },
      "outputs": [
        {
          "name": "stdout",
          "output_type": "stream",
          "text": [
            "====Hi====, seokmin.\n",
            "Hi!!!!!!!!, seokmin.\n"
          ]
        }
      ],
      "source": [
        "## 공백 채우기\n",
        "\n",
        "print(f\"{greeting:=^10}, seokmin.\")\n",
        "print(f\"{greeting:!<10}, seokmin.\")"
      ]
    },
    {
      "cell_type": "code",
      "execution_count": null,
      "id": "5d16cb1d",
      "metadata": {
        "id": "5d16cb1d",
        "outputId": "bfc9b3a7-a5c5-434a-84d9-7a8e2b99f7ad"
      },
      "outputs": [
        {
          "name": "stdout",
          "output_type": "stream",
          "text": [
            "{num:10.4f}, percent\n"
          ]
        }
      ],
      "source": [
        "## 소수점 표현, 정렬\n",
        "\n",
        "print(f\"{{num:10.4f}}, percent\")"
      ]
    },
    {
      "cell_type": "code",
      "execution_count": null,
      "id": "42c21375",
      "metadata": {
        "id": "42c21375",
        "outputId": "577cb2cc-85d2-4278-e7fc-179e4c55e56d"
      },
      "outputs": [
        {
          "data": {
            "text/plain": [
              "'Next year my age is 32'"
            ]
          },
          "execution_count": 55,
          "metadata": {},
          "output_type": "execute_result"
        }
      ],
      "source": [
        "## f 문자열 포매팅은 표현식을 지원.\n",
        "\n",
        "age = 31\n",
        "\n",
        "f\"Next year my age is {age+1}\""
      ]
    },
    {
      "cell_type": "code",
      "execution_count": null,
      "id": "89d48f88",
      "metadata": {
        "id": "89d48f88",
        "outputId": "432320a5-fbd9-4738-a429-22bcca6f3e7e"
      },
      "outputs": [
        {
          "data": {
            "text/plain": [
              "'My name is seokmin. My age is 31.'"
            ]
          },
          "execution_count": 56,
          "metadata": {},
          "output_type": "execute_result"
        }
      ],
      "source": [
        "## f 문자열 포매팅의 딕셔너리 사용.\n",
        "\n",
        "d = {'name': 'seokmin', 'age': 31}\n",
        "\n",
        "f\"My name is {d['name']}. My age is {d['age']}.\""
      ]
    },
    {
      "cell_type": "markdown",
      "id": "abc49a03",
      "metadata": {
        "id": "abc49a03"
      },
      "source": [
        "---"
      ]
    },
    {
      "cell_type": "code",
      "execution_count": null,
      "id": "4ac264f6",
      "metadata": {
        "id": "4ac264f6",
        "outputId": "dbe5a436-ac7e-4779-a15d-f57dc480e61e"
      },
      "outputs": [
        {
          "data": {
            "text/plain": [
              "2"
            ]
          },
          "execution_count": 58,
          "metadata": {},
          "output_type": "execute_result"
        }
      ],
      "source": [
        "## 문자열 내장 함수.\n",
        "\n",
        "a = 'hobby'\n",
        "a.count('b')"
      ]
    },
    {
      "cell_type": "code",
      "execution_count": null,
      "id": "4299b4f2",
      "metadata": {
        "id": "4299b4f2",
        "outputId": "68b42d29-1647-44aa-f9d5-13b72d4befca"
      },
      "outputs": [
        {
          "data": {
            "text/plain": [
              "14"
            ]
          },
          "execution_count": 60,
          "metadata": {},
          "output_type": "execute_result"
        }
      ],
      "source": [
        "a = 'Python is the best choice'\n",
        "a.find('b')"
      ]
    },
    {
      "cell_type": "code",
      "execution_count": null,
      "id": "41eb5770",
      "metadata": {
        "id": "41eb5770",
        "outputId": "db36d4a0-dfe5-4a86-cfc5-65d55d848657"
      },
      "outputs": [
        {
          "data": {
            "text/plain": [
              "-1"
            ]
          },
          "execution_count": 61,
          "metadata": {},
          "output_type": "execute_result"
        }
      ],
      "source": [
        "a.find('k')"
      ]
    },
    {
      "cell_type": "code",
      "execution_count": null,
      "id": "630f8af6",
      "metadata": {
        "id": "630f8af6",
        "outputId": "65c41f6e-9704-4473-e70e-75dc426cce57"
      },
      "outputs": [
        {
          "data": {
            "text/plain": [
              "14"
            ]
          },
          "execution_count": 63,
          "metadata": {},
          "output_type": "execute_result"
        }
      ],
      "source": [
        "a.index('b')"
      ]
    },
    {
      "cell_type": "code",
      "execution_count": null,
      "id": "0a837cbb",
      "metadata": {
        "id": "0a837cbb",
        "outputId": "9e36d739-c69f-46e2-8762-de6f2e8683af"
      },
      "outputs": [
        {
          "ename": "ValueError",
          "evalue": "substring not found",
          "output_type": "error",
          "traceback": [
            "\u001b[0;31m---------------------------------------------------------------------------\u001b[0m",
            "\u001b[0;31mValueError\u001b[0m                                Traceback (most recent call last)",
            "Input \u001b[0;32mIn [64]\u001b[0m, in \u001b[0;36m<cell line: 1>\u001b[0;34m()\u001b[0m\n\u001b[0;32m----> 1\u001b[0m \u001b[43ma\u001b[49m\u001b[38;5;241;43m.\u001b[39;49m\u001b[43mindex\u001b[49m\u001b[43m(\u001b[49m\u001b[38;5;124;43m'\u001b[39;49m\u001b[38;5;124;43mk\u001b[39;49m\u001b[38;5;124;43m'\u001b[39;49m\u001b[43m)\u001b[49m\n",
            "\u001b[0;31mValueError\u001b[0m: substring not found"
          ]
        }
      ],
      "source": [
        "a.index('k')"
      ]
    },
    {
      "cell_type": "code",
      "execution_count": null,
      "id": "2bebfaba",
      "metadata": {
        "id": "2bebfaba",
        "outputId": "ef928c16-e710-4150-db11-0e9575a3aeec"
      },
      "outputs": [
        {
          "data": {
            "text/plain": [
              "'a,b,c,d'"
            ]
          },
          "execution_count": 69,
          "metadata": {},
          "output_type": "execute_result"
        }
      ],
      "source": [
        "## 문자열 삽입 (join)\n",
        "\n",
        "a = 'abcd'\n",
        "','.join('abcd')\n",
        "\n",
        "## 각각의 문자사이에 ','를 삽입한다."
      ]
    },
    {
      "cell_type": "code",
      "execution_count": null,
      "id": "4bafccab",
      "metadata": {
        "id": "4bafccab",
        "outputId": "46918e45-d994-46ad-b30a-dbd57966a303"
      },
      "outputs": [
        {
          "data": {
            "text/plain": [
              "'a b c d e'"
            ]
          },
          "execution_count": 70,
          "metadata": {},
          "output_type": "execute_result"
        }
      ],
      "source": [
        "## join함수 list type에 적용.\n",
        "\n",
        "lst = ['a', 'b', 'c', 'd', 'e']\n",
        "' '.join(lst)"
      ]
    },
    {
      "cell_type": "code",
      "execution_count": null,
      "id": "bac463a0",
      "metadata": {
        "id": "bac463a0",
        "outputId": "fb55c40d-be9d-43c4-e954-76c8be8ef7eb"
      },
      "outputs": [
        {
          "data": {
            "text/plain": [
              "'HI'"
            ]
          },
          "execution_count": 71,
          "metadata": {},
          "output_type": "execute_result"
        }
      ],
      "source": [
        "## upper\n",
        "\n",
        "a = 'hi'\n",
        "a.upper()"
      ]
    },
    {
      "cell_type": "code",
      "execution_count": null,
      "id": "effd24c0",
      "metadata": {
        "id": "effd24c0",
        "outputId": "07a8e205-2a77-44e7-8f34-750fd1b6489e"
      },
      "outputs": [
        {
          "data": {
            "text/plain": [
              "'hi'"
            ]
          },
          "execution_count": 74,
          "metadata": {},
          "output_type": "execute_result"
        }
      ],
      "source": [
        "b = 'HI'\n",
        "b.lower()"
      ]
    },
    {
      "cell_type": "code",
      "execution_count": null,
      "id": "9338cf69",
      "metadata": {
        "id": "9338cf69",
        "outputId": "68606529-5e0e-4c36-9aa1-ff41f55bbffb"
      },
      "outputs": [
        {
          "data": {
            "text/plain": [
              "'a '"
            ]
          },
          "execution_count": 75,
          "metadata": {},
          "output_type": "execute_result"
        }
      ],
      "source": [
        "## 공백 지우기\n",
        "\n",
        "#left\n",
        "a = ' a '\n",
        "a.lstrip()"
      ]
    },
    {
      "cell_type": "code",
      "execution_count": null,
      "id": "39541047",
      "metadata": {
        "id": "39541047",
        "outputId": "d0807942-6ef3-4432-fb05-2ff42145ab8b"
      },
      "outputs": [
        {
          "data": {
            "text/plain": [
              "' a'"
            ]
          },
          "execution_count": 76,
          "metadata": {},
          "output_type": "execute_result"
        }
      ],
      "source": [
        "#right\n",
        "a.rstrip()"
      ]
    },
    {
      "cell_type": "code",
      "execution_count": null,
      "id": "94cae709",
      "metadata": {
        "id": "94cae709",
        "outputId": "68391951-3456-4338-bbfc-093222552bd1"
      },
      "outputs": [
        {
          "data": {
            "text/plain": [
              "'a'"
            ]
          },
          "execution_count": 77,
          "metadata": {},
          "output_type": "execute_result"
        }
      ],
      "source": [
        "#전체(양쪽)\n",
        "a.strip()"
      ]
    },
    {
      "cell_type": "code",
      "execution_count": null,
      "id": "27945ddc",
      "metadata": {
        "id": "27945ddc",
        "outputId": "ef80be2b-4438-4648-fbc5-cb5c5b99660d"
      },
      "outputs": [
        {
          "data": {
            "text/plain": [
              "'Python'"
            ]
          },
          "execution_count": 78,
          "metadata": {},
          "output_type": "execute_result"
        }
      ],
      "source": [
        "## 문자열 바꾸기\n",
        "\n",
        "a = 'Pithon'\n",
        "a.replace('i', 'y')"
      ]
    },
    {
      "cell_type": "code",
      "execution_count": null,
      "id": "14fc5328",
      "metadata": {
        "id": "14fc5328",
        "outputId": "994cc47b-16fe-4933-f10a-78bf2b786d1a"
      },
      "outputs": [
        {
          "data": {
            "text/plain": [
              "'Your leg is too short'"
            ]
          },
          "execution_count": 79,
          "metadata": {},
          "output_type": "execute_result"
        }
      ],
      "source": [
        "a = 'Life is too short'\n",
        "a.replace('Life', 'Your leg')"
      ]
    },
    {
      "cell_type": "code",
      "execution_count": null,
      "id": "c8cb6bb5",
      "metadata": {
        "id": "c8cb6bb5",
        "outputId": "af07a53c-464e-4fec-bdd0-f1a5a712c1c9"
      },
      "outputs": [
        {
          "data": {
            "text/plain": [
              "['Life', 'is', 'too', 'short']"
            ]
          },
          "execution_count": 81,
          "metadata": {},
          "output_type": "execute_result"
        }
      ],
      "source": [
        "## 문자열 나누기 (split)\n",
        "a.split()"
      ]
    },
    {
      "cell_type": "code",
      "execution_count": null,
      "id": "5730366c",
      "metadata": {
        "id": "5730366c",
        "outputId": "9d498a21-e297-4d4a-fd0f-166378ef8c22"
      },
      "outputs": [
        {
          "data": {
            "text/plain": [
              "['a', 'b', 'c', 'd']"
            ]
          },
          "execution_count": 82,
          "metadata": {},
          "output_type": "execute_result"
        }
      ],
      "source": [
        "b = 'a:b:c:d'\n",
        "b.split(':')"
      ]
    },
    {
      "cell_type": "code",
      "execution_count": null,
      "id": "ae7503dd",
      "metadata": {
        "id": "ae7503dd"
      },
      "outputs": [],
      "source": [
        ""
      ]
    }
  ],
  "metadata": {
    "kernelspec": {
      "display_name": "Python 3 (ipykernel)",
      "language": "python",
      "name": "python3"
    },
    "language_info": {
      "codemirror_mode": {
        "name": "ipython",
        "version": 3
      },
      "file_extension": ".py",
      "mimetype": "text/x-python",
      "name": "python",
      "nbconvert_exporter": "python",
      "pygments_lexer": "ipython3",
      "version": "3.8.13"
    },
    "colab": {
      "name": "점프투파이썬(문자열)_0604.ipynb",
      "provenance": [],
      "include_colab_link": true
    }
  },
  "nbformat": 4,
  "nbformat_minor": 5
}