{
  "cells": [
    {
      "cell_type": "markdown",
      "metadata": {
        "id": "view-in-github",
        "colab_type": "text"
      },
      "source": [
        "<a href=\"https://colab.research.google.com/github/msmsm104/TIL/blob/main/20220615/DFS_BFS_0615.ipynb\" target=\"_parent\"><img src=\"https://colab.research.google.com/assets/colab-badge.svg\" alt=\"Open In Colab\"/></a>"
      ]
    },
    {
      "cell_type": "code",
      "execution_count": null,
      "id": "1cb01db0",
      "metadata": {
        "id": "1cb01db0"
      },
      "outputs": [],
      "source": [
        "from collections import deque"
      ]
    },
    {
      "cell_type": "code",
      "execution_count": null,
      "id": "d80aab55",
      "metadata": {
        "id": "d80aab55"
      },
      "outputs": [],
      "source": [
        "queue = deque()"
      ]
    },
    {
      "cell_type": "code",
      "execution_count": null,
      "id": "f5ed9613",
      "metadata": {
        "id": "f5ed9613",
        "outputId": "5e9e0221-b0fd-42cd-8053-5dac8fc94d22"
      },
      "outputs": [
        {
          "name": "stdout",
          "output_type": "stream",
          "text": [
            "deque([3, 7, 1, 4])\n"
          ]
        }
      ],
      "source": [
        "queue.append(5)\n",
        "queue.append(2)\n",
        "queue.append(3)\n",
        "queue.append(7)\n",
        "queue.popleft()\n",
        "queue.append(1)\n",
        "queue.append(4)\n",
        "queue.popleft()\n",
        "\n",
        "print(queue)"
      ]
    },
    {
      "cell_type": "code",
      "execution_count": null,
      "id": "82801cf9",
      "metadata": {
        "id": "82801cf9",
        "outputId": "44a772db-2217-4829-c980-50d3538d58d3"
      },
      "outputs": [
        {
          "name": "stdout",
          "output_type": "stream",
          "text": [
            "deque([4, 1, 7, 3])\n"
          ]
        }
      ],
      "source": [
        "queue.reverse()\n",
        "print(queue)"
      ]
    },
    {
      "cell_type": "markdown",
      "id": "b831bd8e",
      "metadata": {
        "id": "b831bd8e"
      },
      "source": [
        "---"
      ]
    },
    {
      "cell_type": "markdown",
      "id": "3570bb02",
      "metadata": {
        "id": "3570bb02"
      },
      "source": [
        "## Recursive Function"
      ]
    },
    {
      "cell_type": "code",
      "execution_count": null,
      "id": "d2e4665a",
      "metadata": {
        "id": "d2e4665a",
        "outputId": "24978829-d028-4eff-8d50-ebbdf177f57f"
      },
      "outputs": [
        {
          "name": "stdout",
          "output_type": "stream",
          "text": [
            "1번째 재귀 함수에서 2번째 재귀함수를 호출합니다.\n",
            "2번째 재귀 함수에서 3번째 재귀함수를 호출합니다.\n",
            "3번째 재귀 함수에서 4번째 재귀함수를 호출합니다.\n",
            "4번째 재귀 함수에서 5번째 재귀함수를 호출합니다.\n",
            "5번째 재귀 함수에서 6번째 재귀함수를 호출합니다.\n",
            "6번째 재귀 함수에서 7번째 재귀함수를 호출합니다.\n",
            "7번째 재귀 함수에서 8번째 재귀함수를 호출합니다.\n",
            "8번째 재귀 함수에서 9번째 재귀함수를 호출합니다.\n",
            "9번째 재귀 함수에서 10번째 재귀함수를 호출합니다.\n",
            "10번째 재귀 함수에서 11번째 재귀함수를 호출합니다.\n",
            "11번째 재귀 함수에서 12번째 재귀함수를 호출합니다.\n",
            "12번째 재귀 함수에서 13번째 재귀함수를 호출합니다.\n",
            "13번째 재귀 함수에서 14번째 재귀함수를 호출합니다.\n",
            "14번째 재귀 함수에서 15번째 재귀함수를 호출합니다.\n",
            "15번째 재귀 함수에서 16번째 재귀함수를 호출합니다.\n",
            "16번째 재귀 함수에서 17번째 재귀함수를 호출합니다.\n",
            "17번째 재귀 함수에서 18번째 재귀함수를 호출합니다.\n",
            "18번째 재귀 함수에서 19번째 재귀함수를 호출합니다.\n",
            "19번째 재귀 함수에서 20번째 재귀함수를 호출합니다.\n",
            "19번째 재귀 함수를 종료합니다.\n",
            "18번째 재귀 함수를 종료합니다.\n",
            "17번째 재귀 함수를 종료합니다.\n",
            "16번째 재귀 함수를 종료합니다.\n",
            "15번째 재귀 함수를 종료합니다.\n",
            "14번째 재귀 함수를 종료합니다.\n",
            "13번째 재귀 함수를 종료합니다.\n",
            "12번째 재귀 함수를 종료합니다.\n",
            "11번째 재귀 함수를 종료합니다.\n",
            "10번째 재귀 함수를 종료합니다.\n",
            "9번째 재귀 함수를 종료합니다.\n",
            "8번째 재귀 함수를 종료합니다.\n",
            "7번째 재귀 함수를 종료합니다.\n",
            "6번째 재귀 함수를 종료합니다.\n",
            "5번째 재귀 함수를 종료합니다.\n",
            "4번째 재귀 함수를 종료합니다.\n",
            "3번째 재귀 함수를 종료합니다.\n",
            "2번째 재귀 함수를 종료합니다.\n",
            "1번째 재귀 함수를 종료합니다.\n"
          ]
        }
      ],
      "source": [
        "def recursive_function(i):\n",
        "    if i == 20:\n",
        "        return \n",
        "    \n",
        "    print(f\"{i}번째 재귀 함수에서 {i + 1}번째 재귀함수를 호출합니다.\")\n",
        "    recursive_function(i + 1)\n",
        "    print(f\"{i}번째 재귀 함수를 종료합니다.\")\n",
        "\n",
        "recursive_function(1)"
      ]
    },
    {
      "cell_type": "code",
      "execution_count": null,
      "id": "3fae4eba",
      "metadata": {
        "id": "3fae4eba"
      },
      "outputs": [],
      "source": [
        "## 팩토리얼 문제\n",
        "\n",
        "### 반복문으로 팩토리얼 구현\n",
        "\n",
        "def factorial_iterative(n):\n",
        "    result = 1\n",
        "    for i in range(1, n+1):\n",
        "        result *= i\n",
        "    return result\n",
        "\n",
        "def factorial_recursive(n):\n",
        "    if n <= 1:\n",
        "        return 1\n",
        "    return n * factorial_recursive(n - 1)"
      ]
    },
    {
      "cell_type": "code",
      "execution_count": null,
      "id": "8661d268",
      "metadata": {
        "id": "8661d268",
        "outputId": "acd7da88-2ece-43e6-a0f2-68c1c079d024"
      },
      "outputs": [
        {
          "name": "stdout",
          "output_type": "stream",
          "text": [
            "iterative factorial: 120\n",
            "recursive factorial: 120\n"
          ]
        }
      ],
      "source": [
        "print(f\"iterative factorial: {factorial_iterative(5)}\")\n",
        "print(f\"recursive factorial: {factorial_recursive(5)}\")"
      ]
    },
    {
      "cell_type": "markdown",
      "id": "e7df0748",
      "metadata": {
        "id": "e7df0748"
      },
      "source": [
        "---"
      ]
    },
    {
      "cell_type": "markdown",
      "id": "3a4a3caf",
      "metadata": {
        "id": "3a4a3caf"
      },
      "source": [
        "## DFS/BFS"
      ]
    },
    {
      "cell_type": "markdown",
      "id": "ef949711",
      "metadata": {
        "id": "ef949711"
      },
      "source": [
        "#### Adjacency Matrix"
      ]
    },
    {
      "cell_type": "code",
      "execution_count": null,
      "id": "4550f8ca",
      "metadata": {
        "id": "4550f8ca",
        "outputId": "3d95efa0-f545-4db1-f373-7baad3323331"
      },
      "outputs": [
        {
          "name": "stdout",
          "output_type": "stream",
          "text": [
            "[[0, 7, 5], [7, 0, 999999999], [5, 999999999, 0]]\n"
          ]
        }
      ],
      "source": [
        "inf = 999999999\n",
        "\n",
        "## 2차원 리스트를 이용해 인접 행렬 표현\n",
        "\n",
        "graph = [\n",
        "    [0,7,5],\n",
        "    [7,0,inf],\n",
        "    [5,inf,0]\n",
        "]\n",
        "\n",
        "print(graph)"
      ]
    },
    {
      "cell_type": "markdown",
      "id": "69e0f32c",
      "metadata": {
        "id": "69e0f32c"
      },
      "source": [
        "---"
      ]
    },
    {
      "cell_type": "markdown",
      "id": "e015ddbd",
      "metadata": {
        "id": "e015ddbd"
      },
      "source": [
        "#### Adjacency List"
      ]
    },
    {
      "cell_type": "code",
      "execution_count": null,
      "id": "672abaaf",
      "metadata": {
        "id": "672abaaf"
      },
      "outputs": [],
      "source": [
        "## Adjacency List (Graph)\n",
        "\n",
        "graph = [[] for _ in range(3)]"
      ]
    },
    {
      "cell_type": "code",
      "execution_count": null,
      "id": "d0c0a256",
      "metadata": {
        "id": "d0c0a256",
        "outputId": "817a59c1-8adb-43a7-a3d8-ee5ab192eb72"
      },
      "outputs": [
        {
          "data": {
            "text/plain": [
              "[[], [], []]"
            ]
          },
          "execution_count": 18,
          "metadata": {},
          "output_type": "execute_result"
        }
      ],
      "source": [
        "graph"
      ]
    },
    {
      "cell_type": "code",
      "execution_count": null,
      "id": "acdd36ee",
      "metadata": {
        "id": "acdd36ee"
      },
      "outputs": [],
      "source": [
        "## 노드 0에 연결된 노드 정보 저장 (노드, 거리)\n",
        "\n",
        "graph[0].append((1,7))\n",
        "graph[0].append((2,5))"
      ]
    },
    {
      "cell_type": "code",
      "execution_count": null,
      "id": "a6a9d3b2",
      "metadata": {
        "id": "a6a9d3b2",
        "outputId": "f6ebc00a-ef20-4131-8b53-e7d5c7ae91c1"
      },
      "outputs": [
        {
          "data": {
            "text/plain": [
              "[[(1, 7), (2, 5)], [], []]"
            ]
          },
          "execution_count": 20,
          "metadata": {},
          "output_type": "execute_result"
        }
      ],
      "source": [
        "graph"
      ]
    },
    {
      "cell_type": "code",
      "execution_count": null,
      "id": "e1e3e97a",
      "metadata": {
        "id": "e1e3e97a"
      },
      "outputs": [],
      "source": [
        "## 노드 1에 연결된 노드 정보 저장 (노드, 거리)\n",
        "\n",
        "graph[1].append((0,7))\n",
        "\n",
        "## 노드 2에 연결된 노드 정보 저장 (노드, 거리)\n",
        "\n",
        "graph[2].append((0,5))"
      ]
    },
    {
      "cell_type": "code",
      "execution_count": null,
      "id": "880d0cdb",
      "metadata": {
        "id": "880d0cdb",
        "outputId": "c23b65b2-404f-4f29-f377-25cdfdff1b15"
      },
      "outputs": [
        {
          "name": "stdout",
          "output_type": "stream",
          "text": [
            "[[(1, 7), (2, 5)], [(0, 7)], [(0, 5)]]\n"
          ]
        }
      ],
      "source": [
        "print(graph)"
      ]
    },
    {
      "cell_type": "markdown",
      "id": "b7c8192a",
      "metadata": {
        "id": "b7c8192a"
      },
      "source": [
        "---"
      ]
    },
    {
      "cell_type": "markdown",
      "id": "5a9ccbcd",
      "metadata": {
        "id": "5a9ccbcd"
      },
      "source": [
        "### DFS"
      ]
    },
    {
      "cell_type": "code",
      "execution_count": null,
      "id": "8a9eb525",
      "metadata": {
        "id": "8a9eb525"
      },
      "outputs": [],
      "source": [
        "## DFS method 정의\n",
        "\n",
        "def dfs(graph, v , visited):\n",
        "    # 현재 노드를 방문 처리\n",
        "    visited[v] = True\n",
        "    print(v, end=' ')\n",
        "    \n",
        "    # 현재 노드와 연결된 다른 노드를 재귀적으로 방문\n",
        "    for i in graph[v]:\n",
        "        if not visited[i]:\n",
        "            dfs(graph, i ,visited)\n",
        "    \n",
        "    \n",
        "    \n",
        "    \n",
        "#각 노드가 연결된 정보를 리스트 자료형으로 표현\n",
        "graph = [\n",
        "    [],\n",
        "    [2,3,8],\n",
        "    [1,7],\n",
        "    [1,4,5],\n",
        "    [3,5],\n",
        "    [3,4],\n",
        "    [7],\n",
        "    [2,6,8],\n",
        "    [1,7]\n",
        "]\n",
        "\n",
        "#각 노드가 방문된 정보를 리스트 자료형으로 표현(1차원 리스트)\n",
        "visited = [False] * 9"
      ]
    },
    {
      "cell_type": "code",
      "execution_count": null,
      "id": "c53f0207",
      "metadata": {
        "id": "c53f0207",
        "outputId": "644754ec-16fb-4dbd-da4d-de374157e288"
      },
      "outputs": [
        {
          "name": "stdout",
          "output_type": "stream",
          "text": [
            "1 2 7 6 8 3 4 5 "
          ]
        }
      ],
      "source": [
        "dfs(graph, 1, visited)"
      ]
    },
    {
      "cell_type": "code",
      "execution_count": null,
      "id": "6e5df727",
      "metadata": {
        "id": "6e5df727",
        "outputId": "ea38b70f-ee70-47ba-eeb5-5d230a0a231d"
      },
      "outputs": [
        {
          "name": "stdout",
          "output_type": "stream",
          "text": [
            "2 1 3 4 5 8 7 6 "
          ]
        }
      ],
      "source": [
        "dfs(graph, 2, visited)"
      ]
    },
    {
      "cell_type": "markdown",
      "id": "7d91070c",
      "metadata": {
        "id": "7d91070c"
      },
      "source": [
        "---"
      ]
    },
    {
      "cell_type": "markdown",
      "id": "b08a41b5",
      "metadata": {
        "id": "b08a41b5"
      },
      "source": [
        "### BFS"
      ]
    },
    {
      "cell_type": "code",
      "execution_count": null,
      "id": "2afcf375",
      "metadata": {
        "id": "2afcf375"
      },
      "outputs": [],
      "source": [
        ""
      ]
    }
  ],
  "metadata": {
    "kernelspec": {
      "display_name": "Python 3 (ipykernel)",
      "language": "python",
      "name": "python3"
    },
    "language_info": {
      "codemirror_mode": {
        "name": "ipython",
        "version": 3
      },
      "file_extension": ".py",
      "mimetype": "text/x-python",
      "name": "python",
      "nbconvert_exporter": "python",
      "pygments_lexer": "ipython3",
      "version": "3.8.13"
    },
    "colab": {
      "name": "DFS_BFS_0615.ipynb",
      "provenance": [],
      "include_colab_link": true
    }
  },
  "nbformat": 4,
  "nbformat_minor": 5
}