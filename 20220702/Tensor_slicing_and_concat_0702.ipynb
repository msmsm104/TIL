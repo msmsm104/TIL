{
 "cells": [
  {
   "cell_type": "markdown",
   "id": "8f294797",
   "metadata": {},
   "source": [
    "# PyTorch Tensor Slicing and Concatenation"
   ]
  },
  {
   "cell_type": "code",
   "execution_count": 1,
   "id": "b1618c5c",
   "metadata": {},
   "outputs": [],
   "source": [
    "import torch"
   ]
  },
  {
   "cell_type": "markdown",
   "id": "6cf292d9",
   "metadata": {},
   "source": [
    "## Slicing and Concatenation\n",
    "\n",
    "### Indexing and Slicing\n",
    "\n",
    "Prepare target tensor."
   ]
  },
  {
   "cell_type": "code",
   "execution_count": 2,
   "id": "d07a94b4",
   "metadata": {},
   "outputs": [
    {
     "name": "stdout",
     "output_type": "stream",
     "text": [
      "torch.Size([3, 2, 2])\n"
     ]
    }
   ],
   "source": [
    "x = torch.FloatTensor([[[1, 2],\n",
    "                        [3, 4]],\n",
    "                       [[5, 6],\n",
    "                        [7, 8]],\n",
    "                       [[9, 10],\n",
    "                        [11, 12]]])\n",
    "print(x.size())"
   ]
  },
  {
   "cell_type": "code",
   "execution_count": 7,
   "id": "724fe4f4",
   "metadata": {},
   "outputs": [
    {
     "name": "stdout",
     "output_type": "stream",
     "text": [
      "tensor([[1., 2.],\n",
      "        [3., 4.]])\n",
      "tensor([[1., 2.],\n",
      "        [3., 4.]])\n",
      "tensor([[1., 2.],\n",
      "        [3., 4.]])\n"
     ]
    }
   ],
   "source": [
    "## Access to certain dimension\n",
    "print(x[0])\n",
    "print(x[0, :])\n",
    "print(x[0, :, :])"
   ]
  },
  {
   "cell_type": "code",
   "execution_count": 11,
   "id": "cb7d12cc",
   "metadata": {},
   "outputs": [
    {
     "name": "stdout",
     "output_type": "stream",
     "text": [
      "tensor([3., 4.])\n",
      "tensor([2., 4.])\n"
     ]
    }
   ],
   "source": [
    "print(x[0, 1, :])\n",
    "print(x[0, :, 1])"
   ]
  },
  {
   "cell_type": "code",
   "execution_count": 12,
   "id": "6cd6cbb7",
   "metadata": {},
   "outputs": [
    {
     "name": "stdout",
     "output_type": "stream",
     "text": [
      "tensor([[ 1.,  2.],\n",
      "        [ 5.,  6.],\n",
      "        [ 9., 10.]])\n"
     ]
    }
   ],
   "source": [
    "print(x[:, 0, :])"
   ]
  },
  {
   "cell_type": "code",
   "execution_count": 15,
   "id": "67aa0888",
   "metadata": {},
   "outputs": [
    {
     "name": "stdout",
     "output_type": "stream",
     "text": [
      "tensor([[ 1.,  3.],\n",
      "        [ 5.,  7.],\n",
      "        [ 9., 11.]])\n"
     ]
    }
   ],
   "source": [
    "print(x[:, :, 0])"
   ]
  },
  {
   "cell_type": "code",
   "execution_count": 26,
   "id": "8feb4e37",
   "metadata": {},
   "outputs": [
    {
     "name": "stdout",
     "output_type": "stream",
     "text": [
      "torch.Size([2, 2, 2])\n",
      "torch.Size([3, 1, 2])\n",
      "torch.Size([3, 1, 2])\n"
     ]
    }
   ],
   "source": [
    "## Access by range. Note that the number of dimensions would not be changed.\n",
    "\n",
    "print(x[1:3, :, :].size())\n",
    "print(x[:, :1, :].size())\n",
    "print(x[:, :-1, :].size())"
   ]
  },
  {
   "cell_type": "markdown",
   "id": "d9879286",
   "metadata": {},
   "source": [
    "---\n",
    "## Split: Split tensor to desirable shapes."
   ]
  },
  {
   "cell_type": "code",
   "execution_count": 27,
   "id": "45701cc1",
   "metadata": {},
   "outputs": [],
   "source": [
    "x = torch.FloatTensor(10, 4)"
   ]
  },
  {
   "cell_type": "code",
   "execution_count": 28,
   "id": "ef619016",
   "metadata": {},
   "outputs": [
    {
     "data": {
      "text/plain": [
       "tensor([[ 0.0000e+00,  3.6893e+19,  2.6717e-14, -2.8615e-42],\n",
       "        [-2.0313e-29,  4.5786e-41, -2.0385e-29,  4.5786e-41],\n",
       "        [ 1.7125e+22, -1.2097e+05, -2.7205e-32,  4.5786e-41],\n",
       "        [-3.8749e-32,  4.5786e-41, -5.2378e+26,  6.9190e-31],\n",
       "        [-1.0264e-29,  4.5786e-41, -1.0281e-29,  4.5786e-41],\n",
       "        [ 1.5852e-38, -3.5502e-30, -7.1089e-30,  4.5786e-41],\n",
       "        [-7.4702e-30,  4.5786e-41,  5.2871e-24, -1.2590e-30],\n",
       "        [-7.8829e-30,  4.5786e-41, -9.5723e-30,  4.5786e-41],\n",
       "        [-8.4507e-16,  3.6548e+11, -7.1754e-30,  4.5786e-41],\n",
       "        [-7.2930e-30,  4.5786e-41,  5.0865e+17, -2.2052e+24]])"
      ]
     },
     "execution_count": 28,
     "metadata": {},
     "output_type": "execute_result"
    }
   ],
   "source": [
    "x"
   ]
  },
  {
   "cell_type": "code",
   "execution_count": 29,
   "id": "733c14af",
   "metadata": {},
   "outputs": [
    {
     "name": "stdout",
     "output_type": "stream",
     "text": [
      "torch.Size([4, 4])\n",
      "torch.Size([4, 4])\n",
      "torch.Size([2, 4])\n"
     ]
    }
   ],
   "source": [
    "splits = x.split(4, dim=0)\n",
    "\n",
    "for s in splits:\n",
    "    print(s.size())"
   ]
  },
  {
   "cell_type": "markdown",
   "id": "40064965",
   "metadata": {},
   "source": [
    "---\n",
    "## Chunk: Split tensor to number of chunks."
   ]
  },
  {
   "cell_type": "code",
   "execution_count": 30,
   "id": "ecb93e98",
   "metadata": {},
   "outputs": [],
   "source": [
    "x = torch.FloatTensor(10, 4)"
   ]
  },
  {
   "cell_type": "code",
   "execution_count": 31,
   "id": "7b92865e",
   "metadata": {},
   "outputs": [
    {
     "data": {
      "text/plain": [
       "tensor([[-7.1813e-28,  4.5786e-41, -7.1813e-28,  4.5786e-41],\n",
       "        [-7.1814e-28,  4.5786e-41, -7.1469e-28,  4.5786e-41],\n",
       "        [-7.1831e-28,  4.5786e-41, -7.1831e-28,  4.5786e-41],\n",
       "        [-7.1832e-28,  4.5786e-41, -7.1814e-28,  4.5786e-41],\n",
       "        [-7.1832e-28,  4.5786e-41, -7.5843e-29,  4.5786e-41],\n",
       "        [ 0.0000e+00,  3.6893e+19,  2.0172e-14, -2.5250e-29],\n",
       "        [-7.5731e-29,  4.5786e-41, -7.5845e-29,  4.5786e-41],\n",
       "        [-7.5822e-29,  4.5786e-41, -7.5848e-29,  4.5786e-41],\n",
       "        [-7.5823e-29,  4.5786e-41, -7.5786e-29,  4.5786e-41],\n",
       "        [-7.5786e-29,  4.5786e-41, -6.8993e-29,  4.5786e-41]])"
      ]
     },
     "execution_count": 31,
     "metadata": {},
     "output_type": "execute_result"
    }
   ],
   "source": [
    "x"
   ]
  },
  {
   "cell_type": "code",
   "execution_count": 33,
   "id": "9936879d",
   "metadata": {},
   "outputs": [
    {
     "name": "stdout",
     "output_type": "stream",
     "text": [
      "torch.Size([2, 4])\n",
      "torch.Size([2, 4])\n",
      "torch.Size([2, 4])\n",
      "torch.Size([2, 4])\n",
      "torch.Size([2, 4])\n"
     ]
    }
   ],
   "source": [
    "chunks = x.chunk(5, dim=0)\n",
    "\n",
    "for c in chunks:\n",
    "    print(c.size())"
   ]
  },
  {
   "cell_type": "markdown",
   "id": "67617e6e",
   "metadata": {},
   "source": [
    "---\n",
    "## index_select: Select elements by using dimension index."
   ]
  },
  {
   "cell_type": "code",
   "execution_count": 52,
   "id": "57a84ed6",
   "metadata": {},
   "outputs": [
    {
     "name": "stdout",
     "output_type": "stream",
     "text": [
      "torch.Size([3, 2, 2])\n"
     ]
    }
   ],
   "source": [
    "x = torch.FloatTensor([[[1, 1],\n",
    "                        [2, 2]],\n",
    "                       [[3, 3],\n",
    "                        [4, 4]],\n",
    "                       [[5, 5],\n",
    "                        [6, 6]]])\n",
    "indices = torch.LongTensor([2, 1, 0])\n",
    "\n",
    "print(x.size())"
   ]
  },
  {
   "cell_type": "code",
   "execution_count": 53,
   "id": "d233c4f2",
   "metadata": {},
   "outputs": [
    {
     "name": "stdout",
     "output_type": "stream",
     "text": [
      "tensor([[[5., 5.],\n",
      "         [6., 6.]],\n",
      "\n",
      "        [[3., 3.],\n",
      "         [4., 4.]],\n",
      "\n",
      "        [[1., 1.],\n",
      "         [2., 2.]]])\n",
      "torch.Size([3, 2, 2])\n"
     ]
    }
   ],
   "source": [
    "y = x.index_select(dim=0, index=indices)\n",
    "\n",
    "print(y)\n",
    "print(y.size())"
   ]
  },
  {
   "cell_type": "markdown",
   "id": "505da19c",
   "metadata": {},
   "source": [
    "---\n",
    "## cat: Concatenation of multiple tensors in the list."
   ]
  },
  {
   "cell_type": "code",
   "execution_count": 54,
   "id": "f974ffd4",
   "metadata": {},
   "outputs": [
    {
     "name": "stdout",
     "output_type": "stream",
     "text": [
      "torch.Size([3, 3]) torch.Size([3, 3])\n"
     ]
    }
   ],
   "source": [
    "x = torch.FloatTensor([[1, 2, 3],\n",
    "                       [4, 5, 6], \n",
    "                       [7, 8, 9]])\n",
    "y = torch.FloatTensor([[10, 11, 12],\n",
    "                       [13, 14, 15],\n",
    "                       [16, 17, 18]])\n",
    "print(x.size(), y.size())"
   ]
  },
  {
   "cell_type": "code",
   "execution_count": 59,
   "id": "eeef1e3c",
   "metadata": {},
   "outputs": [
    {
     "name": "stdout",
     "output_type": "stream",
     "text": [
      "tensor([[ 1.,  2.,  3.],\n",
      "        [ 4.,  5.,  6.],\n",
      "        [ 7.,  8.,  9.],\n",
      "        [10., 11., 12.],\n",
      "        [13., 14., 15.],\n",
      "        [16., 17., 18.]])\n",
      "torch.Size([6, 3])\n"
     ]
    }
   ],
   "source": [
    "z = torch.cat([x, y], dim=0)\n",
    "print(z)\n",
    "print(z.size())"
   ]
  },
  {
   "cell_type": "code",
   "execution_count": 60,
   "id": "60a043ff",
   "metadata": {},
   "outputs": [
    {
     "name": "stdout",
     "output_type": "stream",
     "text": [
      "tensor([[10., 11., 12.,  1.,  2.,  3.],\n",
      "        [13., 14., 15.,  4.,  5.,  6.],\n",
      "        [16., 17., 18.,  7.,  8.,  9.]])\n",
      "torch.Size([3, 6])\n"
     ]
    }
   ],
   "source": [
    "z = torch.cat([y,x], dim=-1)\n",
    "print(z)\n",
    "print(z.size())"
   ]
  },
  {
   "cell_type": "markdown",
   "id": "f8b96a5b",
   "metadata": {},
   "source": [
    "---\n",
    "## Stack: Stacking of multiple tensors in the list."
   ]
  },
  {
   "cell_type": "code",
   "execution_count": 71,
   "id": "e47cdec1",
   "metadata": {},
   "outputs": [
    {
     "name": "stdout",
     "output_type": "stream",
     "text": [
      "tensor([[[ 1.,  2.,  3.],\n",
      "         [ 4.,  5.,  6.],\n",
      "         [ 7.,  8.,  9.]],\n",
      "\n",
      "        [[10., 11., 12.],\n",
      "         [13., 14., 15.],\n",
      "         [16., 17., 18.]]])\n",
      "torch.Size([2, 3, 3])\n",
      "\n",
      "tensor([[[ 1.,  2.,  3.],\n",
      "         [10., 11., 12.]],\n",
      "\n",
      "        [[ 4.,  5.,  6.],\n",
      "         [13., 14., 15.]],\n",
      "\n",
      "        [[ 7.,  8.,  9.],\n",
      "         [16., 17., 18.]]])\n",
      "torch.Size([3, 2, 3])\n",
      "\n",
      "tensor([[[ 1., 10.],\n",
      "         [ 2., 11.],\n",
      "         [ 3., 12.]],\n",
      "\n",
      "        [[ 4., 13.],\n",
      "         [ 5., 14.],\n",
      "         [ 6., 15.]],\n",
      "\n",
      "        [[ 7., 16.],\n",
      "         [ 8., 17.],\n",
      "         [ 9., 18.]]])\n",
      "torch.Size([3, 3, 2])\n",
      "\n"
     ]
    }
   ],
   "source": [
    "for n in range(3):\n",
    "    z = torch.stack([x, y], dim=n)\n",
    "    print(z)\n",
    "    print(z.size())\n",
    "    print('')"
   ]
  },
  {
   "cell_type": "markdown",
   "id": "1a41385d",
   "metadata": {},
   "source": [
    "---\n",
    "## Implement 'stack' function by using 'cat'"
   ]
  },
  {
   "cell_type": "code",
   "execution_count": 72,
   "id": "a37a5140",
   "metadata": {},
   "outputs": [
    {
     "name": "stdout",
     "output_type": "stream",
     "text": [
      "tensor([[[ 1.,  2.,  3.],\n",
      "         [ 4.,  5.,  6.],\n",
      "         [ 7.,  8.,  9.]],\n",
      "\n",
      "        [[10., 11., 12.],\n",
      "         [13., 14., 15.],\n",
      "         [16., 17., 18.]]])\n",
      "torch.Size([2, 3, 3])\n",
      "\n",
      "tensor([[[ 1.,  2.,  3.],\n",
      "         [10., 11., 12.]],\n",
      "\n",
      "        [[ 4.,  5.,  6.],\n",
      "         [13., 14., 15.]],\n",
      "\n",
      "        [[ 7.,  8.,  9.],\n",
      "         [16., 17., 18.]]])\n",
      "torch.Size([3, 2, 3])\n",
      "\n",
      "tensor([[[ 1., 10.],\n",
      "         [ 2., 11.],\n",
      "         [ 3., 12.]],\n",
      "\n",
      "        [[ 4., 13.],\n",
      "         [ 5., 14.],\n",
      "         [ 6., 15.]],\n",
      "\n",
      "        [[ 7., 16.],\n",
      "         [ 8., 17.],\n",
      "         [ 9., 18.]]])\n",
      "torch.Size([3, 3, 2])\n",
      "\n"
     ]
    }
   ],
   "source": [
    "for n in range(3):\n",
    "    z = torch.cat([x.unsqueeze(n), y.unsqueeze(n)], dim=n)\n",
    "    print(z)\n",
    "    print(z.size())\n",
    "    print('')"
   ]
  },
  {
   "cell_type": "markdown",
   "id": "6afb5fb7",
   "metadata": {},
   "source": [
    "---\n",
    "## Useful Trick: Merge results from iterations"
   ]
  },
  {
   "cell_type": "code",
   "execution_count": 87,
   "id": "8ff57a96",
   "metadata": {},
   "outputs": [
    {
     "data": {
      "text/plain": [
       "tensor([[[ 0.0000e+00,  3.6893e+19],\n",
       "         [ 1.9786e-14, -1.5849e+29]],\n",
       "\n",
       "        [[-1.0842e-19,  1.0737e+01],\n",
       "         [-1.3146e-28,  4.5786e-41]],\n",
       "\n",
       "        [[ 1.0737e+08,  3.5101e+06],\n",
       "         [ 1.3146e-28,  4.5786e-41]],\n",
       "\n",
       "        [[ 0.0000e+00,  4.4766e+00],\n",
       "         [ 1.3146e-28,  4.5786e-41]],\n",
       "\n",
       "        [[ 0.0000e+00,  3.6893e+19],\n",
       "         [ 1.9811e-14,  2.5250e-29]]])"
      ]
     },
     "execution_count": 87,
     "metadata": {},
     "output_type": "execute_result"
    }
   ],
   "source": [
    "result = []\n",
    "for i in range(5):\n",
    "    x = torch.FloatTensor(2, 2)\n",
    "    result += [x]\n",
    "\n",
    "result = torch.stack(result)\n",
    "result"
   ]
  },
  {
   "cell_type": "code",
   "execution_count": 89,
   "id": "f26ba24e",
   "metadata": {},
   "outputs": [
    {
     "data": {
      "text/plain": [
       "tensor([[[ 0.0000e+00,  3.6893e+19],\n",
       "         [ 1.9865e-14, -2.0005e+00]],\n",
       "\n",
       "        [[ 0.0000e+00,         nan],\n",
       "         [-1.3146e-28,  4.5786e-41]],\n",
       "\n",
       "        [[        inf,  3.5101e+06],\n",
       "         [ 1.3146e-28,  4.5786e-41]],\n",
       "\n",
       "        [[ 0.0000e+00,  1.7155e-05],\n",
       "         [ 2.3694e-38,  4.5786e-41]],\n",
       "\n",
       "        [[ 2.3694e-38,  3.8177e-05],\n",
       "         [ 8.0000e+00,  6.0000e+00]]])"
      ]
     },
     "execution_count": 89,
     "metadata": {},
     "output_type": "execute_result"
    }
   ],
   "source": [
    "result = []\n",
    "for i in range(5):\n",
    "    x = torch.FloatTensor(2, 2)\n",
    "    result += [x]\n",
    "    \n",
    "for i in range(len(result)):\n",
    "    result[i] = result[i].unsqueeze(0)\n",
    "    \n",
    "result = torch.cat(result, dim=0)\n",
    "result"
   ]
  },
  {
   "cell_type": "code",
   "execution_count": null,
   "id": "8613aaa0",
   "metadata": {},
   "outputs": [],
   "source": []
  }
 ],
 "metadata": {
  "kernelspec": {
   "display_name": "Python 3 (ipykernel)",
   "language": "python",
   "name": "python3"
  },
  "language_info": {
   "codemirror_mode": {
    "name": "ipython",
    "version": 3
   },
   "file_extension": ".py",
   "mimetype": "text/x-python",
   "name": "python",
   "nbconvert_exporter": "python",
   "pygments_lexer": "ipython3",
   "version": "3.8.13"
  }
 },
 "nbformat": 4,
 "nbformat_minor": 5
}
