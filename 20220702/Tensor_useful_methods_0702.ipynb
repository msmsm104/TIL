{
 "cells": [
  {
   "cell_type": "markdown",
   "id": "cd41f759",
   "metadata": {},
   "source": [
    "# PyTorch Useful Methods"
   ]
  },
  {
   "cell_type": "code",
   "execution_count": 1,
   "id": "5b0eb4fc",
   "metadata": {},
   "outputs": [],
   "source": [
    "import torch"
   ]
  },
  {
   "cell_type": "markdown",
   "id": "1032c1f1",
   "metadata": {},
   "source": [
    "### Expand\n",
    "\n",
    " => copy the given tensor and concat those at desired dimension."
   ]
  },
  {
   "cell_type": "code",
   "execution_count": 2,
   "id": "73cc74f6",
   "metadata": {},
   "outputs": [
    {
     "name": "stdout",
     "output_type": "stream",
     "text": [
      "torch.Size([2, 1, 2])\n"
     ]
    }
   ],
   "source": [
    "x = torch.FloatTensor([[[1, 2]],\n",
    "                       [[3, 4]]])\n",
    "print(x.size())"
   ]
  },
  {
   "cell_type": "code",
   "execution_count": 4,
   "id": "d09b8c59",
   "metadata": {},
   "outputs": [
    {
     "name": "stdout",
     "output_type": "stream",
     "text": [
      "tensor([[[1., 2.],\n",
      "         [1., 2.],\n",
      "         [1., 2.]],\n",
      "\n",
      "        [[3., 4.],\n",
      "         [3., 4.],\n",
      "         [3., 4.]]])\n",
      "torch.Size([2, 3, 2])\n"
     ]
    }
   ],
   "source": [
    "y = x.expand(*[2, 3, 2])\n",
    "\n",
    "print(y)\n",
    "print(y.size())"
   ]
  },
  {
   "cell_type": "code",
   "execution_count": 9,
   "id": "3139e347",
   "metadata": {},
   "outputs": [
    {
     "name": "stdout",
     "output_type": "stream",
     "text": [
      "tensor([[[1., 2.],\n",
      "         [1., 2.],\n",
      "         [1., 2.]],\n",
      "\n",
      "        [[3., 4.],\n",
      "         [3., 4.],\n",
      "         [3., 4.]]])\n",
      "torch.Size([2, 3, 2])\n"
     ]
    }
   ],
   "source": [
    "## Implement expand with cat.\n",
    "y = torch.cat([x, x, x], dim=1)\n",
    "\n",
    "print(y)\n",
    "print(y.size())"
   ]
  },
  {
   "cell_type": "markdown",
   "id": "711ba282",
   "metadata": {},
   "source": [
    "---\n",
    "\n",
    "## randperm\n",
    "\n",
    "    => Random Permutation"
   ]
  },
  {
   "cell_type": "code",
   "execution_count": 11,
   "id": "278b12df",
   "metadata": {},
   "outputs": [
    {
     "name": "stdout",
     "output_type": "stream",
     "text": [
      "tensor([7, 0, 4, 1, 8, 6, 2, 5, 3, 9])\n",
      "torch.Size([10])\n"
     ]
    }
   ],
   "source": [
    "x = torch.randperm(10) # 0~9까지 램덤한 수열.\n",
    "\n",
    "print(x)\n",
    "print(x.size())"
   ]
  },
  {
   "cell_type": "markdown",
   "id": "3be429b0",
   "metadata": {},
   "source": [
    "---\n",
    "## argmax\n",
    "    => Return index of maximum values"
   ]
  },
  {
   "cell_type": "code",
   "execution_count": 21,
   "id": "20e71519",
   "metadata": {},
   "outputs": [
    {
     "name": "stdout",
     "output_type": "stream",
     "text": [
      "tensor([[[10,  5, 14],\n",
      "         [ 2, 25, 13],\n",
      "         [23, 20,  3]],\n",
      "\n",
      "        [[ 8, 22, 21],\n",
      "         [ 7, 17, 12],\n",
      "         [19,  0,  4]],\n",
      "\n",
      "        [[18,  9, 15],\n",
      "         [24,  1, 26],\n",
      "         [11,  6, 16]]])\n",
      "torch.Size([3, 3, 3])\n"
     ]
    }
   ],
   "source": [
    "x = torch.randperm(3 ** 3).reshape(3, 3, -1)\n",
    "\n",
    "print(x)\n",
    "print(x.size())"
   ]
  },
  {
   "cell_type": "code",
   "execution_count": 23,
   "id": "e361e15d",
   "metadata": {},
   "outputs": [
    {
     "name": "stdout",
     "output_type": "stream",
     "text": [
      "tensor([[2, 1, 0],\n",
      "        [1, 1, 0],\n",
      "        [0, 2, 2]])\n",
      "torch.Size([3, 3])\n"
     ]
    }
   ],
   "source": [
    "y = x.argmax(dim=-1)\n",
    "\n",
    "print(y)\n",
    "print(y.size())"
   ]
  },
  {
   "cell_type": "markdown",
   "id": "63618818",
   "metadata": {},
   "source": [
    "---\n",
    "## topk\n",
    "    => Return tuple of top-k values and indices"
   ]
  },
  {
   "cell_type": "code",
   "execution_count": 29,
   "id": "50799de5",
   "metadata": {},
   "outputs": [
    {
     "name": "stdout",
     "output_type": "stream",
     "text": [
      "tensor([[[14],\n",
      "         [25],\n",
      "         [23]],\n",
      "\n",
      "        [[22],\n",
      "         [17],\n",
      "         [19]],\n",
      "\n",
      "        [[18],\n",
      "         [26],\n",
      "         [16]]])\n",
      "torch.Size([3, 3, 1])\n",
      "tensor([[[2],\n",
      "         [1],\n",
      "         [0]],\n",
      "\n",
      "        [[1],\n",
      "         [1],\n",
      "         [0]],\n",
      "\n",
      "        [[0],\n",
      "         [2],\n",
      "         [2]]])\n",
      "torch.Size([3, 3, 1])\n"
     ]
    }
   ],
   "source": [
    "values, indices = torch.topk(x, k=1, dim=-1)\n",
    "\n",
    "print(values)\n",
    "print(values.size())\n",
    "print(indices)\n",
    "print(indices.size())\n",
    "## Note that topk didn't reduce the dimension, even in k=1 case."
   ]
  },
  {
   "cell_type": "code",
   "execution_count": 31,
   "id": "d65fa6cb",
   "metadata": {},
   "outputs": [
    {
     "name": "stdout",
     "output_type": "stream",
     "text": [
      "tensor([[14, 25, 23],\n",
      "        [22, 17, 19],\n",
      "        [18, 26, 16]])\n",
      "tensor([[2, 1, 0],\n",
      "        [1, 1, 0],\n",
      "        [0, 2, 2]])\n"
     ]
    }
   ],
   "source": [
    "print(values.squeeze(-1))\n",
    "print(indices.squeeze(-1))"
   ]
  },
  {
   "cell_type": "code",
   "execution_count": 33,
   "id": "455d37fa",
   "metadata": {},
   "outputs": [
    {
     "name": "stdout",
     "output_type": "stream",
     "text": [
      "tensor([[True, True, True],\n",
      "        [True, True, True],\n",
      "        [True, True, True]])\n"
     ]
    }
   ],
   "source": [
    "print(x.argmax(dim=-1) == indices.squeeze(-1))"
   ]
  },
  {
   "cell_type": "code",
   "execution_count": 38,
   "id": "5c9d049a",
   "metadata": {},
   "outputs": [
    {
     "name": "stdout",
     "output_type": "stream",
     "text": [
      "torch.Size([3, 3, 2])\n",
      "tensor([[True, True, True],\n",
      "        [True, True, True],\n",
      "        [True, True, True]])\n"
     ]
    }
   ],
   "source": [
    "_, indices = torch.topk(x, k=2, dim=-1)\n",
    "\n",
    "print(indices.size())\n",
    "print(x.argmax(dim=-1) == indices[:, :, 0])"
   ]
  },
  {
   "cell_type": "markdown",
   "id": "f88998b7",
   "metadata": {},
   "source": [
    "---\n",
    "### Sort by using topk"
   ]
  },
  {
   "cell_type": "code",
   "execution_count": 39,
   "id": "f30f2774",
   "metadata": {},
   "outputs": [
    {
     "data": {
      "text/plain": [
       "tensor([[[10,  5, 14],\n",
       "         [ 2, 25, 13],\n",
       "         [23, 20,  3]],\n",
       "\n",
       "        [[ 8, 22, 21],\n",
       "         [ 7, 17, 12],\n",
       "         [19,  0,  4]],\n",
       "\n",
       "        [[18,  9, 15],\n",
       "         [24,  1, 26],\n",
       "         [11,  6, 16]]])"
      ]
     },
     "execution_count": 39,
     "metadata": {},
     "output_type": "execute_result"
    }
   ],
   "source": [
    "x"
   ]
  },
  {
   "cell_type": "code",
   "execution_count": 48,
   "id": "0e2fa171",
   "metadata": {},
   "outputs": [
    {
     "data": {
      "text/plain": [
       "tensor([[[14, 10,  5],\n",
       "         [25, 13,  2],\n",
       "         [23, 20,  3]],\n",
       "\n",
       "        [[22, 21,  8],\n",
       "         [17, 12,  7],\n",
       "         [19,  4,  0]],\n",
       "\n",
       "        [[18, 15,  9],\n",
       "         [26, 24,  1],\n",
       "         [16, 11,  6]]])"
      ]
     },
     "execution_count": 48,
     "metadata": {},
     "output_type": "execute_result"
    }
   ],
   "source": [
    "target_dim = -1\n",
    "values, indices = torch.topk(x, \n",
    "                             k=x.size(target_dim),\n",
    "                             largest=True)\n",
    "\n",
    "values"
   ]
  },
  {
   "cell_type": "markdown",
   "id": "48b906f5",
   "metadata": {},
   "source": [
    "---\n",
    "## Topk by using sort"
   ]
  },
  {
   "cell_type": "code",
   "execution_count": 54,
   "id": "0d7406de",
   "metadata": {},
   "outputs": [
    {
     "name": "stdout",
     "output_type": "stream",
     "text": [
      "tensor([[14, 25, 23],\n",
      "        [22, 17, 19],\n",
      "        [18, 26, 16]])\n",
      "tensor([[2, 1, 0],\n",
      "        [1, 1, 0],\n",
      "        [0, 2, 2]])\n"
     ]
    }
   ],
   "source": [
    "k = 1\n",
    "\n",
    "values, indices = torch.sort(x, dim=-1, descending=True)\n",
    "values, indices = values[:, :, :1], indices[:, :, :1]\n",
    "\n",
    "print(values.squeeze(-1))\n",
    "print(indices.squeeze(-1))"
   ]
  },
  {
   "cell_type": "markdown",
   "id": "25bd91a7",
   "metadata": {},
   "source": [
    "---\n",
    "## masked_fill\n",
    "    => fill the value if element of mask is True."
   ]
  },
  {
   "cell_type": "code",
   "execution_count": 58,
   "id": "022c5c7d",
   "metadata": {},
   "outputs": [
    {
     "name": "stdout",
     "output_type": "stream",
     "text": [
      "tensor([[0., 1., 2.],\n",
      "        [3., 4., 5.],\n",
      "        [6., 7., 8.]])\n",
      "torch.Size([3, 3])\n"
     ]
    }
   ],
   "source": [
    "x = torch.FloatTensor([i for i in range(3**2)]).reshape(3, -1)\n",
    "\n",
    "print(x)\n",
    "print(x.size())"
   ]
  },
  {
   "cell_type": "code",
   "execution_count": 60,
   "id": "8ef21ff0",
   "metadata": {},
   "outputs": [
    {
     "name": "stdout",
     "output_type": "stream",
     "text": [
      "tensor([[False, False, False],\n",
      "        [False, False,  True],\n",
      "        [ True,  True,  True]])\n"
     ]
    }
   ],
   "source": [
    "mask = x > 4\n",
    "\n",
    "print(mask)"
   ]
  },
  {
   "cell_type": "code",
   "execution_count": 62,
   "id": "bb7e86e6",
   "metadata": {},
   "outputs": [
    {
     "name": "stdout",
     "output_type": "stream",
     "text": [
      "tensor([[ 0.,  1.,  2.],\n",
      "        [ 3.,  4., -1.],\n",
      "        [-1., -1., -1.]])\n"
     ]
    }
   ],
   "source": [
    "y = x.masked_fill(mask, value=-1)\n",
    "\n",
    "print(y)"
   ]
  },
  {
   "cell_type": "markdown",
   "id": "bbebdbf2",
   "metadata": {},
   "source": [
    "---\n",
    "## Ones and Zeros"
   ]
  },
  {
   "cell_type": "code",
   "execution_count": 64,
   "id": "b76a0ba0",
   "metadata": {},
   "outputs": [
    {
     "name": "stdout",
     "output_type": "stream",
     "text": [
      "tensor([[1., 1., 1.],\n",
      "        [1., 1., 1.]])\n",
      "tensor([[0., 0., 0.],\n",
      "        [0., 0., 0.]])\n"
     ]
    }
   ],
   "source": [
    "print(torch.ones(2, 3))\n",
    "print(torch.zeros(2, 3))"
   ]
  },
  {
   "cell_type": "code",
   "execution_count": 65,
   "id": "dba182ee",
   "metadata": {},
   "outputs": [
    {
     "name": "stdout",
     "output_type": "stream",
     "text": [
      "torch.Size([2, 4])\n"
     ]
    }
   ],
   "source": [
    "x = torch.FloatTensor([[1, 2, 3, 4], \n",
    "                       [3, 4, 5, 6]])\n",
    "\n",
    "print(x.size())"
   ]
  },
  {
   "cell_type": "code",
   "execution_count": 66,
   "id": "50adf81e",
   "metadata": {},
   "outputs": [
    {
     "name": "stdout",
     "output_type": "stream",
     "text": [
      "tensor([[1., 1., 1., 1.],\n",
      "        [1., 1., 1., 1.]])\n",
      "tensor([[0., 0., 0., 0.],\n",
      "        [0., 0., 0., 0.]])\n"
     ]
    }
   ],
   "source": [
    "print(torch.ones_like(x))\n",
    "print(torch.zeros_like(x))"
   ]
  },
  {
   "cell_type": "code",
   "execution_count": null,
   "id": "285733fe",
   "metadata": {},
   "outputs": [],
   "source": []
  }
 ],
 "metadata": {
  "kernelspec": {
   "display_name": "Python 3 (ipykernel)",
   "language": "python",
   "name": "python3"
  },
  "language_info": {
   "codemirror_mode": {
    "name": "ipython",
    "version": 3
   },
   "file_extension": ".py",
   "mimetype": "text/x-python",
   "name": "python",
   "nbconvert_exporter": "python",
   "pygments_lexer": "ipython3",
   "version": "3.8.13"
  }
 },
 "nbformat": 4,
 "nbformat_minor": 5
}
