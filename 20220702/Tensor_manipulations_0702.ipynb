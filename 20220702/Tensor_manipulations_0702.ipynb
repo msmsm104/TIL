{
 "cells": [
  {
   "cell_type": "markdown",
   "id": "b0891b61",
   "metadata": {},
   "source": [
    "# PyTorch Tensor Manipulations"
   ]
  },
  {
   "cell_type": "code",
   "execution_count": 1,
   "id": "d6755f2a",
   "metadata": {},
   "outputs": [],
   "source": [
    "import torch"
   ]
  },
  {
   "cell_type": "markdown",
   "id": "904d53fb",
   "metadata": {},
   "source": [
    "## Tensor Shaping\n",
    "\n",
    "### reshape: Change Tensor Shape"
   ]
  },
  {
   "cell_type": "code",
   "execution_count": 2,
   "id": "5fd0b1b0",
   "metadata": {},
   "outputs": [
    {
     "name": "stdout",
     "output_type": "stream",
     "text": [
      "torch.Size([3, 2, 2])\n"
     ]
    }
   ],
   "source": [
    "x = torch.FloatTensor([[[1, 2],\n",
    "                        [3, 4]],\n",
    "                       [[5, 6],\n",
    "                        [7, 8]],\n",
    "                       [[9, 10],\n",
    "                        [11, 12]]])\n",
    "print(x.size())"
   ]
  },
  {
   "cell_type": "code",
   "execution_count": 5,
   "id": "c0ad8cd4",
   "metadata": {},
   "outputs": [
    {
     "name": "stdout",
     "output_type": "stream",
     "text": [
      "tensor([ 1.,  2.,  3.,  4.,  5.,  6.,  7.,  8.,  9., 10., 11., 12.])\n",
      "tensor([ 1.,  2.,  3.,  4.,  5.,  6.,  7.,  8.,  9., 10., 11., 12.])\n"
     ]
    }
   ],
   "source": [
    "print(x.reshape(12))\n",
    "print(x.reshape(-1))"
   ]
  },
  {
   "cell_type": "code",
   "execution_count": 7,
   "id": "250596d5",
   "metadata": {},
   "outputs": [
    {
     "name": "stdout",
     "output_type": "stream",
     "text": [
      "tensor([[ 1.,  2.,  3.,  4.],\n",
      "        [ 5.,  6.,  7.,  8.],\n",
      "        [ 9., 10., 11., 12.]])\n",
      "tensor([[ 1.,  2.,  3.,  4.],\n",
      "        [ 5.,  6.,  7.,  8.],\n",
      "        [ 9., 10., 11., 12.]])\n"
     ]
    }
   ],
   "source": [
    "print(x.reshape(3, 4))\n",
    "print(x.reshape(3, -1))"
   ]
  },
  {
   "cell_type": "code",
   "execution_count": 8,
   "id": "48fe8b33",
   "metadata": {},
   "outputs": [
    {
     "name": "stdout",
     "output_type": "stream",
     "text": [
      "tensor([[[ 1.,  2.,  3.,  4.]],\n",
      "\n",
      "        [[ 5.,  6.,  7.,  8.]],\n",
      "\n",
      "        [[ 9., 10., 11., 12.]]])\n",
      "tensor([[[ 1.,  2.,  3.,  4.]],\n",
      "\n",
      "        [[ 5.,  6.,  7.,  8.]],\n",
      "\n",
      "        [[ 9., 10., 11., 12.]]])\n"
     ]
    }
   ],
   "source": [
    "print(x.reshape(3, 1, 4))\n",
    "print(x.reshape(-1, 1, 4))"
   ]
  },
  {
   "cell_type": "code",
   "execution_count": 9,
   "id": "34f69d8d",
   "metadata": {},
   "outputs": [
    {
     "name": "stdout",
     "output_type": "stream",
     "text": [
      "tensor([[[[ 1.],\n",
      "          [ 2.]],\n",
      "\n",
      "         [[ 3.],\n",
      "          [ 4.]]],\n",
      "\n",
      "\n",
      "        [[[ 5.],\n",
      "          [ 6.]],\n",
      "\n",
      "         [[ 7.],\n",
      "          [ 8.]]],\n",
      "\n",
      "\n",
      "        [[[ 9.],\n",
      "          [10.]],\n",
      "\n",
      "         [[11.],\n",
      "          [12.]]]])\n"
     ]
    }
   ],
   "source": [
    "print(x.reshape(3, 2, 2, 1))"
   ]
  },
  {
   "cell_type": "markdown",
   "id": "8ef2b73e",
   "metadata": {},
   "source": [
    "---\n",
    "## Squeeze: Remove dimension which has only one element."
   ]
  },
  {
   "cell_type": "code",
   "execution_count": 10,
   "id": "c2302b52",
   "metadata": {},
   "outputs": [
    {
     "name": "stdout",
     "output_type": "stream",
     "text": [
      "torch.Size([1, 2, 2])\n"
     ]
    }
   ],
   "source": [
    "x = torch.FloatTensor([[[1, 2],\n",
    "                        [3, 4]]])\n",
    "print(x.size())"
   ]
  },
  {
   "cell_type": "code",
   "execution_count": 11,
   "id": "41c15cf6",
   "metadata": {},
   "outputs": [
    {
     "name": "stdout",
     "output_type": "stream",
     "text": [
      "tensor([[1., 2.],\n",
      "        [3., 4.]])\n"
     ]
    }
   ],
   "source": [
    "## Remove any dimension which has only one element.\n",
    "\n",
    "print(x.squeeze())"
   ]
  },
  {
   "cell_type": "code",
   "execution_count": 12,
   "id": "ce53f86d",
   "metadata": {},
   "outputs": [
    {
     "name": "stdout",
     "output_type": "stream",
     "text": [
      "torch.Size([2, 2])\n"
     ]
    }
   ],
   "source": [
    "print(x.squeeze().size())"
   ]
  },
  {
   "cell_type": "code",
   "execution_count": 13,
   "id": "512fb74d",
   "metadata": {},
   "outputs": [
    {
     "name": "stdout",
     "output_type": "stream",
     "text": [
      "torch.Size([2, 2])\n"
     ]
    }
   ],
   "source": [
    "## Remove certain dimension, if it has only one element. if it is not, there would be no change.\n",
    "\n",
    "print(x.squeeze(0).size())"
   ]
  },
  {
   "cell_type": "code",
   "execution_count": 14,
   "id": "8e0c6568",
   "metadata": {},
   "outputs": [
    {
     "name": "stdout",
     "output_type": "stream",
     "text": [
      "torch.Size([1, 2, 2])\n"
     ]
    }
   ],
   "source": [
    "print(x.squeeze(1).size())"
   ]
  },
  {
   "cell_type": "markdown",
   "id": "3145b2ed",
   "metadata": {},
   "source": [
    "---\n",
    "## Unsqueeze: Insert dimension at certain index"
   ]
  },
  {
   "cell_type": "code",
   "execution_count": 15,
   "id": "13c0e7c1",
   "metadata": {},
   "outputs": [
    {
     "name": "stdout",
     "output_type": "stream",
     "text": [
      "torch.Size([2, 2])\n"
     ]
    }
   ],
   "source": [
    "x = torch.FloatTensor([[1, 2],\n",
    "                       [3, 4]])\n",
    "print(x.size())"
   ]
  },
  {
   "cell_type": "code",
   "execution_count": 27,
   "id": "4e39a4bf",
   "metadata": {},
   "outputs": [
    {
     "name": "stdout",
     "output_type": "stream",
     "text": [
      "torch.Size([2, 2, 1])\n",
      "torch.Size([2, 2, 1])\n",
      "torch.Size([2, 2, 1])\n"
     ]
    }
   ],
   "source": [
    "print(x.unsqueeze(2).size())\n",
    "print(x.unsqueeze(-1).size())\n",
    "print(x.reshape(2, 2, 1).size())"
   ]
  },
  {
   "cell_type": "code",
   "execution_count": null,
   "id": "bb90fa50",
   "metadata": {},
   "outputs": [],
   "source": []
  }
 ],
 "metadata": {
  "kernelspec": {
   "display_name": "Python 3 (ipykernel)",
   "language": "python",
   "name": "python3"
  },
  "language_info": {
   "codemirror_mode": {
    "name": "ipython",
    "version": 3
   },
   "file_extension": ".py",
   "mimetype": "text/x-python",
   "name": "python",
   "nbconvert_exporter": "python",
   "pygments_lexer": "ipython3",
   "version": "3.8.13"
  }
 },
 "nbformat": 4,
 "nbformat_minor": 5
}
