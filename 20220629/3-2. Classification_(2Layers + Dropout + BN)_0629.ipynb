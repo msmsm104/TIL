{
 "cells": [
  {
   "cell_type": "code",
   "execution_count": 1,
   "id": "745970b8",
   "metadata": {},
   "outputs": [],
   "source": [
    "import numpy as np \n",
    "import pandas as pd\n",
    "import matplotlib.pyplot as plt\n",
    "import seaborn as sns\n",
    "\n",
    "import tensorflow as tf\n",
    "from tensorflow.keras import datasets, utils\n",
    "from tensorflow.keras import models, layers, activations, initializers, losses, optimizers, metrics\n",
    "\n",
    "import os\n",
    "os.environ['TF_CPP_MIN_LOG_LEVEL'] = '2'"
   ]
  },
  {
   "cell_type": "markdown",
   "id": "1698cace",
   "metadata": {},
   "source": [
    "---\n",
    "\n",
    "## 1. Prepare train & test data (MNIST)\n",
    "\n",
    "### Train & Test split"
   ]
  },
  {
   "cell_type": "code",
   "execution_count": 2,
   "id": "80e8fa36",
   "metadata": {},
   "outputs": [],
   "source": [
    "(train_data, train_label), (test_data, test_label) = datasets.mnist.load_data()"
   ]
  },
  {
   "cell_type": "markdown",
   "id": "6fbae243",
   "metadata": {},
   "source": [
    "---\n",
    "### Normalization"
   ]
  },
  {
   "cell_type": "code",
   "execution_count": 3,
   "id": "49dc9e22",
   "metadata": {},
   "outputs": [],
   "source": [
    "train_data = train_data.reshape(60000, -1) / 255.0\n",
    "test_data = test_data.reshape(10000, -1) / 255.0"
   ]
  },
  {
   "cell_type": "markdown",
   "id": "06e19d5d",
   "metadata": {},
   "source": [
    "---\n",
    "### One-hot Encoding"
   ]
  },
  {
   "cell_type": "code",
   "execution_count": 5,
   "id": "1bc942da",
   "metadata": {},
   "outputs": [],
   "source": [
    "train_label = utils.to_categorical(train_label)\n",
    "test_label = utils.to_categorical(test_label)"
   ]
  },
  {
   "cell_type": "markdown",
   "id": "4668db1b",
   "metadata": {},
   "source": [
    "---\n",
    "\n",
    "## 2. Build the model & Set the criterion"
   ]
  },
  {
   "cell_type": "code",
   "execution_count": 6,
   "id": "5f00489d",
   "metadata": {},
   "outputs": [],
   "source": [
    "model = models.Sequential()\n",
    "\n",
    "model.add(layers.Dense(input_dim=28*28, units=256, activation=None, kernel_initializer=initializers.he_uniform()))\n",
    "model.add(layers.BatchNormalization()) ## 각 batch에 해당하는 normalization\n",
    "model.add(layers.Activation('relu'))\n",
    "\n",
    "model.add(layers.Dropout(rate=0.2))\n",
    "\n",
    "\n",
    "model.add(layers.Dense(units=256, activation=None, kernel_initializer=initializers.he_uniform()))\n",
    "model.add(layers.BatchNormalization())\n",
    "model.add(layers.Activation('relu'))\n",
    "\n",
    "model.add(layers.Dropout(rate=0.2))\n",
    "\n",
    "model.add(layers.Dense(units=10, activation='softmax'))"
   ]
  },
  {
   "cell_type": "code",
   "execution_count": 7,
   "id": "9dc67e8c",
   "metadata": {},
   "outputs": [],
   "source": [
    "model.compile(optimizer=optimizers.Adam(0.001),\n",
    "              loss=losses.categorical_crossentropy,\n",
    "              metrics=[metrics.categorical_accuracy])"
   ]
  },
  {
   "cell_type": "code",
   "execution_count": 8,
   "id": "823d5915",
   "metadata": {},
   "outputs": [
    {
     "name": "stdout",
     "output_type": "stream",
     "text": [
      "Model: \"sequential\"\n",
      "_________________________________________________________________\n",
      " Layer (type)                Output Shape              Param #   \n",
      "=================================================================\n",
      " dense (Dense)               (None, 256)               200960    \n",
      "                                                                 \n",
      " batch_normalization (BatchN  (None, 256)              1024      \n",
      " ormalization)                                                   \n",
      "                                                                 \n",
      " activation (Activation)     (None, 256)               0         \n",
      "                                                                 \n",
      " dropout (Dropout)           (None, 256)               0         \n",
      "                                                                 \n",
      " dense_1 (Dense)             (None, 256)               65792     \n",
      "                                                                 \n",
      " batch_normalization_1 (Batc  (None, 256)              1024      \n",
      " hNormalization)                                                 \n",
      "                                                                 \n",
      " activation_1 (Activation)   (None, 256)               0         \n",
      "                                                                 \n",
      " dropout_1 (Dropout)         (None, 256)               0         \n",
      "                                                                 \n",
      " dense_2 (Dense)             (None, 10)                2570      \n",
      "                                                                 \n",
      "=================================================================\n",
      "Total params: 271,370\n",
      "Trainable params: 270,346\n",
      "Non-trainable params: 1,024\n",
      "_________________________________________________________________\n"
     ]
    }
   ],
   "source": [
    "model.summary()"
   ]
  },
  {
   "cell_type": "markdown",
   "id": "dcbce475",
   "metadata": {},
   "source": [
    "---\n",
    "\n",
    "## 3. Train the model"
   ]
  },
  {
   "cell_type": "code",
   "execution_count": 9,
   "id": "ba8ba765",
   "metadata": {},
   "outputs": [
    {
     "name": "stdout",
     "output_type": "stream",
     "text": [
      "Epoch 1/15\n",
      "480/480 [==============================] - 2s 3ms/step - loss: 0.3030 - categorical_accuracy: 0.9095 - val_loss: 0.1302 - val_categorical_accuracy: 0.9611\n",
      "Epoch 2/15\n",
      "480/480 [==============================] - 1s 3ms/step - loss: 0.1384 - categorical_accuracy: 0.9577 - val_loss: 0.0998 - val_categorical_accuracy: 0.9698\n",
      "Epoch 3/15\n",
      "480/480 [==============================] - 2s 3ms/step - loss: 0.1024 - categorical_accuracy: 0.9665 - val_loss: 0.0889 - val_categorical_accuracy: 0.9722\n",
      "Epoch 4/15\n",
      "480/480 [==============================] - 2s 3ms/step - loss: 0.0849 - categorical_accuracy: 0.9739 - val_loss: 0.0771 - val_categorical_accuracy: 0.9770\n",
      "Epoch 5/15\n",
      "480/480 [==============================] - 1s 3ms/step - loss: 0.0700 - categorical_accuracy: 0.9779 - val_loss: 0.0806 - val_categorical_accuracy: 0.9763\n",
      "Epoch 6/15\n",
      "480/480 [==============================] - 1s 3ms/step - loss: 0.0612 - categorical_accuracy: 0.9799 - val_loss: 0.0705 - val_categorical_accuracy: 0.9805\n",
      "Epoch 7/15\n",
      "480/480 [==============================] - 1s 3ms/step - loss: 0.0519 - categorical_accuracy: 0.9825 - val_loss: 0.0782 - val_categorical_accuracy: 0.9779\n",
      "Epoch 8/15\n",
      "480/480 [==============================] - 2s 3ms/step - loss: 0.0487 - categorical_accuracy: 0.9843 - val_loss: 0.0718 - val_categorical_accuracy: 0.9795\n",
      "Epoch 9/15\n",
      "480/480 [==============================] - 2s 3ms/step - loss: 0.0422 - categorical_accuracy: 0.9860 - val_loss: 0.0762 - val_categorical_accuracy: 0.9783\n",
      "Epoch 10/15\n",
      "480/480 [==============================] - 2s 3ms/step - loss: 0.0398 - categorical_accuracy: 0.9871 - val_loss: 0.0731 - val_categorical_accuracy: 0.9792\n",
      "Epoch 11/15\n",
      "480/480 [==============================] - 2s 3ms/step - loss: 0.0359 - categorical_accuracy: 0.9879 - val_loss: 0.0756 - val_categorical_accuracy: 0.9808\n",
      "Epoch 12/15\n",
      "480/480 [==============================] - 2s 3ms/step - loss: 0.0347 - categorical_accuracy: 0.9885 - val_loss: 0.0793 - val_categorical_accuracy: 0.9789\n",
      "Epoch 13/15\n",
      "480/480 [==============================] - 1s 3ms/step - loss: 0.0318 - categorical_accuracy: 0.9892 - val_loss: 0.0743 - val_categorical_accuracy: 0.9793\n",
      "Epoch 14/15\n",
      "480/480 [==============================] - 2s 3ms/step - loss: 0.0290 - categorical_accuracy: 0.9900 - val_loss: 0.0725 - val_categorical_accuracy: 0.9809\n",
      "Epoch 15/15\n",
      "480/480 [==============================] - 2s 3ms/step - loss: 0.0267 - categorical_accuracy: 0.9908 - val_loss: 0.0737 - val_categorical_accuracy: 0.9808\n"
     ]
    }
   ],
   "source": [
    "history = model.fit(train_data, train_label, batch_size=100, epochs=15, validation_split=0.2)"
   ]
  },
  {
   "cell_type": "markdown",
   "id": "2af749e8",
   "metadata": {},
   "source": [
    "---\n",
    "## 4. Test the model"
   ]
  },
  {
   "cell_type": "code",
   "execution_count": 12,
   "id": "f1598571",
   "metadata": {},
   "outputs": [
    {
     "name": "stdout",
     "output_type": "stream",
     "text": [
      "313/313 [==============================] - 1s 1ms/step - loss: 0.0658 - categorical_accuracy: 0.9812\n",
      "loss (cross-entropy):  0.06577032059431076\n",
      "test accuracy:  0.9811999797821045\n"
     ]
    }
   ],
   "source": [
    "result = model.evaluate(test_data, test_label)#, batch_size=100)\n",
    "\n",
    "print('loss (cross-entropy): ', result[0])\n",
    "print('test accuracy: ', result[1])"
   ]
  },
  {
   "cell_type": "code",
   "execution_count": 13,
   "id": "eaba0034",
   "metadata": {},
   "outputs": [
    {
     "name": "stdout",
     "output_type": "stream",
     "text": [
      "100/100 [==============================] - 0s 1ms/step - loss: 0.0658 - categorical_accuracy: 0.9812\n",
      "loss (cross-entropy):  0.06577029079198837\n",
      "test accuracy:  0.9811999797821045\n"
     ]
    }
   ],
   "source": [
    "result = model.evaluate(test_data, test_label, batch_size=100)\n",
    "\n",
    "print('loss (cross-entropy): ', result[0])\n",
    "print('test accuracy: ', result[1])"
   ]
  },
  {
   "cell_type": "markdown",
   "id": "bf457866",
   "metadata": {},
   "source": [
    "---\n",
    "\n",
    "## 5. Visualize the result"
   ]
  },
  {
   "cell_type": "code",
   "execution_count": 14,
   "id": "151abc0f",
   "metadata": {},
   "outputs": [
    {
     "data": {
      "text/plain": [
       "<keras.callbacks.History at 0x7f818dc45c40>"
      ]
     },
     "execution_count": 14,
     "metadata": {},
     "output_type": "execute_result"
    }
   ],
   "source": [
    "history"
   ]
  },
  {
   "cell_type": "code",
   "execution_count": 15,
   "id": "d92dcae4",
   "metadata": {},
   "outputs": [
    {
     "data": {
      "text/plain": [
       "dict_keys(['loss', 'categorical_accuracy', 'val_loss', 'val_categorical_accuracy'])"
      ]
     },
     "execution_count": 15,
     "metadata": {},
     "output_type": "execute_result"
    }
   ],
   "source": [
    "history.history.keys()"
   ]
  },
  {
   "cell_type": "code",
   "execution_count": 16,
   "id": "43664910",
   "metadata": {},
   "outputs": [
    {
     "data": {
      "image/png": "[encoded data removed]",
      "text/plain": [
       "<Figure size 432x288 with 1 Axes>"
      ]
     },
     "metadata": {
      "needs_background": "light"
     },
     "output_type": "display_data"
    }
   ],
   "source": [
    "val_acc = history.history['val_categorical_accuracy']\n",
    "acc = history.history['categorical_accuracy']\n",
    "\n",
    "val_loss = history.history['val_loss']\n",
    "loss = history.history['loss']\n",
    "\n",
    "import numpy as np\n",
    "import matplotlib.pyplot as plt\n",
    "\n",
    "x_len = np.arange(len(acc))\n",
    "# plt.plot(x_len, acc, marker='.', c='blue', label=\"Train-set Acc.\")\n",
    "# plt.plot(x_len, val_acc, marker='.', c='red', label=\"Validation-set Acc.\")\n",
    "\n",
    "plt.plot(x_len, loss, marker='.', c='green', label=\"Train-set loss.\")\n",
    "plt.plot(x_len, val_loss, marker='.', c='orange', label=\"Validation-set loss.\")\n",
    "\n",
    "plt.legend(loc='upper right')\n",
    "plt.grid()\n",
    "plt.xlabel('epoch')\n",
    "plt.ylabel('Loss')\n",
    "plt.show()"
   ]
  },
  {
   "cell_type": "code",
   "execution_count": null,
   "id": "e3e32806",
   "metadata": {},
   "outputs": [],
   "source": []
  }
 ],
 "metadata": {
  "kernelspec": {
   "display_name": "Python 3 (ipykernel)",
   "language": "python",
   "name": "python3"
  },
  "language_info": {
   "codemirror_mode": {
    "name": "ipython",
    "version": 3
   },
   "file_extension": ".py",
   "mimetype": "text/x-python",
   "name": "python",
   "nbconvert_exporter": "python",
   "pygments_lexer": "ipython3",
   "version": "3.8.13"
  }
 },
 "nbformat": 4,
 "nbformat_minor": 5
}
