{
 "cells": [
  {
   "cell_type": "markdown",
   "id": "b6469980",
   "metadata": {},
   "source": [
    "## Activation Functions\n",
    "\n",
    "#### Sigmoid\n",
    "#### Tanh"
   ]
  },
  {
   "cell_type": "code",
   "execution_count": 2,
   "id": "f8f2434f",
   "metadata": {},
   "outputs": [],
   "source": [
    "import torch\n",
    "import torch.nn as nn\n",
    "\n",
    "import matplotlib.pyplot as plt"
   ]
  },
  {
   "cell_type": "code",
   "execution_count": 13,
   "id": "56d54d92",
   "metadata": {},
   "outputs": [
    {
     "data": {
      "text/plain": [
       "tensor([-27.2401, -18.7756, -17.2753, -16.1040, -14.9127, -13.6642, -12.5973,\n",
       "        -12.5492, -11.9966, -11.9397, -11.8739, -11.5738, -10.5431, -10.0257,\n",
       "         -9.7751,  -9.7285,  -9.1900,  -8.4633,  -8.1927,  -7.9010,  -7.8508,\n",
       "         -7.5230,  -6.1887,  -6.0677,  -5.9859,  -5.6473,  -5.2213,  -5.1979,\n",
       "         -5.1601,  -4.9306,  -4.8489,  -4.6068,  -4.3892,  -4.1688,  -4.0832,\n",
       "         -4.0090,  -3.6758,  -3.3666,  -2.9038,  -2.3511,  -2.3185,  -2.2380,\n",
       "         -2.1616,  -2.1585,  -1.7888,  -1.4249,  -1.1529,  -1.1413,  -1.0283,\n",
       "         -0.6133,  -0.5832,   0.2319,   0.2833,   0.4822,   0.7003,   0.7582,\n",
       "          0.8287,   0.8575,   1.0313,   1.2116,   1.3976,   1.5824,   1.8511,\n",
       "          2.0348,   2.0767,   2.1161,   2.1166,   3.0897,   3.1945,   3.2880,\n",
       "          3.5736,   4.1057,   4.5204,   4.9001,   5.1018,   5.4384,   6.1148,\n",
       "          6.1606,   6.5307,   6.9071,   7.2015,   7.4408,   8.5312,   8.6622,\n",
       "          8.6808,   9.1465,   9.4271,   9.9345,  10.4365,  11.5483,  12.0793,\n",
       "         12.9184,  14.1451,  15.4673,  15.9720,  17.3682,  22.4320,  22.4648,\n",
       "         22.9560,  23.7011])"
      ]
     },
     "execution_count": 13,
     "metadata": {},
     "output_type": "execute_result"
    }
   ],
   "source": [
    "x = torch.sort(torch.randn(100) * 10)[0]\n",
    "x"
   ]
  },
  {
   "cell_type": "markdown",
   "id": "68c93bd0",
   "metadata": {},
   "source": [
    "## Sigmoid"
   ]
  },
  {
   "cell_type": "code",
   "execution_count": 14,
   "id": "055fe8e0",
   "metadata": {},
   "outputs": [
    {
     "name": "stdout",
     "output_type": "stream",
     "text": [
      "tensor([1.4784e-12, 7.0120e-09, 3.1438e-08, 1.0142e-07, 3.3380e-07, 1.1633e-06,\n",
      "        3.3812e-06, 3.5477e-06, 6.1651e-06, 6.5259e-06, 6.9702e-06, 9.4095e-06,\n",
      "        2.6375e-05, 4.4248e-05, 5.6845e-05, 5.9560e-05, 1.0205e-04, 2.1102e-04,\n",
      "        2.7659e-04, 3.7023e-04, 3.8929e-04, 5.4022e-04, 2.0484e-03, 2.3113e-03,\n",
      "        2.5077e-03, 3.5147e-03, 5.3710e-03, 5.4977e-03, 5.7085e-03, 7.1700e-03,\n",
      "        7.7760e-03, 9.8848e-03, 1.2259e-02, 1.5235e-02, 1.6574e-02, 1.7828e-02,\n",
      "        2.4703e-02, 3.3356e-02, 5.1966e-02, 8.6981e-02, 8.9602e-02, 9.6391e-02,\n",
      "        1.0325e-01, 1.0354e-01, 1.4322e-01, 1.9390e-01, 2.3995e-01, 2.4209e-01,\n",
      "        2.6341e-01, 3.5130e-01, 3.5819e-01, 5.5771e-01, 5.7035e-01, 6.1828e-01,\n",
      "        6.6826e-01, 6.8096e-01, 6.9607e-01, 7.0214e-01, 7.3717e-01, 7.7058e-01,\n",
      "        8.0181e-01, 8.2955e-01, 8.6426e-01, 8.8441e-01, 8.8861e-01, 8.9246e-01,\n",
      "        8.9251e-01, 9.5646e-01, 9.6063e-01, 9.6401e-01, 9.7271e-01, 9.8379e-01,\n",
      "        9.8923e-01, 9.9261e-01, 9.9395e-01, 9.9567e-01, 9.9779e-01, 9.9789e-01,\n",
      "        9.9854e-01, 9.9900e-01, 9.9926e-01, 9.9941e-01, 9.9980e-01, 9.9983e-01,\n",
      "        9.9983e-01, 9.9989e-01, 9.9992e-01, 9.9995e-01, 9.9997e-01, 9.9999e-01,\n",
      "        9.9999e-01, 1.0000e+00, 1.0000e+00, 1.0000e+00, 1.0000e+00, 1.0000e+00,\n",
      "        1.0000e+00, 1.0000e+00, 1.0000e+00, 1.0000e+00])\n"
     ]
    }
   ],
   "source": [
    "act = nn.Sigmoid()\n",
    "print(act(x))"
   ]
  },
  {
   "cell_type": "code",
   "execution_count": 15,
   "id": "1d8901a1",
   "metadata": {},
   "outputs": [
    {
     "name": "stdout",
     "output_type": "stream",
     "text": [
      "tensor([1.4784e-12, 7.0120e-09, 3.1438e-08, 1.0142e-07, 3.3380e-07, 1.1633e-06,\n",
      "        3.3812e-06, 3.5477e-06, 6.1651e-06, 6.5259e-06, 6.9702e-06, 9.4095e-06,\n",
      "        2.6375e-05, 4.4248e-05, 5.6845e-05, 5.9560e-05, 1.0205e-04, 2.1102e-04,\n",
      "        2.7659e-04, 3.7023e-04, 3.8929e-04, 5.4022e-04, 2.0484e-03, 2.3113e-03,\n",
      "        2.5077e-03, 3.5147e-03, 5.3710e-03, 5.4977e-03, 5.7085e-03, 7.1700e-03,\n",
      "        7.7760e-03, 9.8848e-03, 1.2259e-02, 1.5235e-02, 1.6574e-02, 1.7828e-02,\n",
      "        2.4703e-02, 3.3356e-02, 5.1966e-02, 8.6981e-02, 8.9602e-02, 9.6391e-02,\n",
      "        1.0325e-01, 1.0354e-01, 1.4322e-01, 1.9390e-01, 2.3995e-01, 2.4209e-01,\n",
      "        2.6341e-01, 3.5130e-01, 3.5819e-01, 5.5771e-01, 5.7035e-01, 6.1828e-01,\n",
      "        6.6826e-01, 6.8096e-01, 6.9607e-01, 7.0214e-01, 7.3717e-01, 7.7058e-01,\n",
      "        8.0181e-01, 8.2955e-01, 8.6426e-01, 8.8441e-01, 8.8861e-01, 8.9246e-01,\n",
      "        8.9251e-01, 9.5646e-01, 9.6063e-01, 9.6401e-01, 9.7271e-01, 9.8379e-01,\n",
      "        9.8923e-01, 9.9261e-01, 9.9395e-01, 9.9567e-01, 9.9779e-01, 9.9789e-01,\n",
      "        9.9854e-01, 9.9900e-01, 9.9926e-01, 9.9941e-01, 9.9980e-01, 9.9983e-01,\n",
      "        9.9983e-01, 9.9989e-01, 9.9992e-01, 9.9995e-01, 9.9997e-01, 9.9999e-01,\n",
      "        9.9999e-01, 1.0000e+00, 1.0000e+00, 1.0000e+00, 1.0000e+00, 1.0000e+00,\n",
      "        1.0000e+00, 1.0000e+00, 1.0000e+00, 1.0000e+00])\n"
     ]
    }
   ],
   "source": [
    "print(torch.sigmoid(x))"
   ]
  },
  {
   "cell_type": "code",
   "execution_count": 16,
   "id": "55f01fe1",
   "metadata": {},
   "outputs": [
    {
     "data": {
      "image/png": "[encoded data removed]",
      "text/plain": [
       "<Figure size 432x288 with 1 Axes>"
      ]
     },
     "metadata": {
      "needs_background": "light"
     },
     "output_type": "display_data"
    }
   ],
   "source": [
    "plt.plot(x.numpy(), act(x).numpy())\n",
    "plt.show()"
   ]
  },
  {
   "cell_type": "markdown",
   "id": "e1c5a23e",
   "metadata": {},
   "source": [
    "---"
   ]
  },
  {
   "cell_type": "markdown",
   "id": "c41ed98b",
   "metadata": {},
   "source": [
    "## Hypoerbolic Tangent(TanH)"
   ]
  },
  {
   "cell_type": "code",
   "execution_count": 17,
   "id": "1570a25f",
   "metadata": {},
   "outputs": [
    {
     "name": "stdout",
     "output_type": "stream",
     "text": [
      "tensor([-1.0000, -1.0000, -1.0000, -1.0000, -1.0000, -1.0000, -1.0000, -1.0000,\n",
      "        -1.0000, -1.0000, -1.0000, -1.0000, -1.0000, -1.0000, -1.0000, -1.0000,\n",
      "        -1.0000, -1.0000, -1.0000, -1.0000, -1.0000, -1.0000, -1.0000, -1.0000,\n",
      "        -1.0000, -1.0000, -0.9999, -0.9999, -0.9999, -0.9999, -0.9999, -0.9998,\n",
      "        -0.9997, -0.9995, -0.9994, -0.9993, -0.9987, -0.9976, -0.9940, -0.9820,\n",
      "        -0.9808, -0.9775, -0.9738, -0.9737, -0.9456, -0.8906, -0.8187, -0.8148,\n",
      "        -0.7732, -0.5465, -0.5250,  0.2278,  0.2759,  0.4480,  0.6046,  0.6400,\n",
      "         0.6798,  0.6950,  0.7744,  0.8372,  0.8848,  0.9190,  0.9519,  0.9664,\n",
      "         0.9691,  0.9714,  0.9714,  0.9959,  0.9966,  0.9972,  0.9984,  0.9995,\n",
      "         0.9998,  0.9999,  0.9999,  1.0000,  1.0000,  1.0000,  1.0000,  1.0000,\n",
      "         1.0000,  1.0000,  1.0000,  1.0000,  1.0000,  1.0000,  1.0000,  1.0000,\n",
      "         1.0000,  1.0000,  1.0000,  1.0000,  1.0000,  1.0000,  1.0000,  1.0000,\n",
      "         1.0000,  1.0000,  1.0000,  1.0000])\n"
     ]
    }
   ],
   "source": [
    "act = nn.Tanh()\n",
    "print(act(x))"
   ]
  },
  {
   "cell_type": "code",
   "execution_count": 18,
   "id": "601274d9",
   "metadata": {},
   "outputs": [
    {
     "name": "stdout",
     "output_type": "stream",
     "text": [
      "tensor([-1.0000, -1.0000, -1.0000, -1.0000, -1.0000, -1.0000, -1.0000, -1.0000,\n",
      "        -1.0000, -1.0000, -1.0000, -1.0000, -1.0000, -1.0000, -1.0000, -1.0000,\n",
      "        -1.0000, -1.0000, -1.0000, -1.0000, -1.0000, -1.0000, -1.0000, -1.0000,\n",
      "        -1.0000, -1.0000, -0.9999, -0.9999, -0.9999, -0.9999, -0.9999, -0.9998,\n",
      "        -0.9997, -0.9995, -0.9994, -0.9993, -0.9987, -0.9976, -0.9940, -0.9820,\n",
      "        -0.9808, -0.9775, -0.9738, -0.9737, -0.9456, -0.8906, -0.8187, -0.8148,\n",
      "        -0.7732, -0.5465, -0.5250,  0.2278,  0.2759,  0.4480,  0.6046,  0.6400,\n",
      "         0.6798,  0.6950,  0.7744,  0.8372,  0.8848,  0.9190,  0.9519,  0.9664,\n",
      "         0.9691,  0.9714,  0.9714,  0.9959,  0.9966,  0.9972,  0.9984,  0.9995,\n",
      "         0.9998,  0.9999,  0.9999,  1.0000,  1.0000,  1.0000,  1.0000,  1.0000,\n",
      "         1.0000,  1.0000,  1.0000,  1.0000,  1.0000,  1.0000,  1.0000,  1.0000,\n",
      "         1.0000,  1.0000,  1.0000,  1.0000,  1.0000,  1.0000,  1.0000,  1.0000,\n",
      "         1.0000,  1.0000,  1.0000,  1.0000])\n"
     ]
    }
   ],
   "source": [
    "print(torch.tanh(x))"
   ]
  },
  {
   "cell_type": "code",
   "execution_count": 19,
   "id": "16510c8c",
   "metadata": {},
   "outputs": [
    {
     "data": {
      "image/png": "[encoded data removed]",
      "text/plain": [
       "<Figure size 432x288 with 1 Axes>"
      ]
     },
     "metadata": {
      "needs_background": "light"
     },
     "output_type": "display_data"
    }
   ],
   "source": [
    "plt.plot(x.numpy(), act(x).numpy())\n",
    "plt.show()"
   ]
  },
  {
   "cell_type": "code",
   "execution_count": null,
   "id": "d5f407f0",
   "metadata": {},
   "outputs": [],
   "source": []
  }
 ],
 "metadata": {
  "kernelspec": {
   "display_name": "Python 3 (ipykernel)",
   "language": "python",
   "name": "python3"
  },
  "language_info": {
   "codemirror_mode": {
    "name": "ipython",
    "version": 3
   },
   "file_extension": ".py",
   "mimetype": "text/x-python",
   "name": "python",
   "nbconvert_exporter": "python",
   "pygments_lexer": "ipython3",
   "version": "3.8.13"
  }
 },
 "nbformat": 4,
 "nbformat_minor": 5
}
