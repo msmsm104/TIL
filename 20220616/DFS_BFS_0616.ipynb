{
  "cells": [
    {
      "cell_type": "markdown",
      "metadata": {
        "id": "view-in-github",
        "colab_type": "text"
      },
      "source": [
        "<a href=\"https://colab.research.google.com/github/msmsm104/TIL/blob/main/20220616/DFS_BFS_0616.ipynb\" target=\"_parent\"><img src=\"https://colab.research.google.com/assets/colab-badge.svg\" alt=\"Open In Colab\"/></a>"
      ]
    },
    {
      "cell_type": "code",
      "execution_count": null,
      "id": "1cb01db0",
      "metadata": {
        "id": "1cb01db0"
      },
      "outputs": [],
      "source": [
        "from collections import deque"
      ]
    },
    {
      "cell_type": "code",
      "execution_count": null,
      "id": "d80aab55",
      "metadata": {
        "id": "d80aab55"
      },
      "outputs": [],
      "source": [
        "queue = deque()"
      ]
    },
    {
      "cell_type": "code",
      "execution_count": null,
      "id": "f5ed9613",
      "metadata": {
        "id": "f5ed9613",
        "outputId": "29662873-ed41-46d8-b474-e6188d7985c5"
      },
      "outputs": [
        {
          "name": "stdout",
          "output_type": "stream",
          "text": [
            "deque([3, 7, 1, 4])\n"
          ]
        }
      ],
      "source": [
        "queue.append(5)\n",
        "queue.append(2)\n",
        "queue.append(3)\n",
        "queue.append(7)\n",
        "queue.popleft()\n",
        "queue.append(1)\n",
        "queue.append(4)\n",
        "queue.popleft()\n",
        "\n",
        "print(queue)"
      ]
    },
    {
      "cell_type": "code",
      "execution_count": null,
      "id": "82801cf9",
      "metadata": {
        "id": "82801cf9",
        "outputId": "8fd5d5c4-1d75-4346-8990-26232941d855"
      },
      "outputs": [
        {
          "name": "stdout",
          "output_type": "stream",
          "text": [
            "deque([4, 1, 7, 3])\n"
          ]
        }
      ],
      "source": [
        "queue.reverse()\n",
        "print(queue)"
      ]
    },
    {
      "cell_type": "markdown",
      "id": "b831bd8e",
      "metadata": {
        "id": "b831bd8e"
      },
      "source": [
        "---"
      ]
    },
    {
      "cell_type": "markdown",
      "id": "3570bb02",
      "metadata": {
        "id": "3570bb02"
      },
      "source": [
        "## Recursive Function"
      ]
    },
    {
      "cell_type": "code",
      "execution_count": null,
      "id": "d2e4665a",
      "metadata": {
        "id": "d2e4665a",
        "outputId": "e92c61ac-5040-47d8-85cc-d34af9a343d9"
      },
      "outputs": [
        {
          "name": "stdout",
          "output_type": "stream",
          "text": [
            "1번째 재귀 함수에서 2번째 재귀함수를 호출합니다.\n",
            "2번째 재귀 함수에서 3번째 재귀함수를 호출합니다.\n",
            "3번째 재귀 함수에서 4번째 재귀함수를 호출합니다.\n",
            "4번째 재귀 함수에서 5번째 재귀함수를 호출합니다.\n",
            "5번째 재귀 함수에서 6번째 재귀함수를 호출합니다.\n",
            "6번째 재귀 함수에서 7번째 재귀함수를 호출합니다.\n",
            "7번째 재귀 함수에서 8번째 재귀함수를 호출합니다.\n",
            "8번째 재귀 함수에서 9번째 재귀함수를 호출합니다.\n",
            "9번째 재귀 함수에서 10번째 재귀함수를 호출합니다.\n",
            "10번째 재귀 함수에서 11번째 재귀함수를 호출합니다.\n",
            "11번째 재귀 함수에서 12번째 재귀함수를 호출합니다.\n",
            "12번째 재귀 함수에서 13번째 재귀함수를 호출합니다.\n",
            "13번째 재귀 함수에서 14번째 재귀함수를 호출합니다.\n",
            "14번째 재귀 함수에서 15번째 재귀함수를 호출합니다.\n",
            "15번째 재귀 함수에서 16번째 재귀함수를 호출합니다.\n",
            "16번째 재귀 함수에서 17번째 재귀함수를 호출합니다.\n",
            "17번째 재귀 함수에서 18번째 재귀함수를 호출합니다.\n",
            "18번째 재귀 함수에서 19번째 재귀함수를 호출합니다.\n",
            "19번째 재귀 함수에서 20번째 재귀함수를 호출합니다.\n",
            "19번째 재귀 함수를 종료합니다.\n",
            "18번째 재귀 함수를 종료합니다.\n",
            "17번째 재귀 함수를 종료합니다.\n",
            "16번째 재귀 함수를 종료합니다.\n",
            "15번째 재귀 함수를 종료합니다.\n",
            "14번째 재귀 함수를 종료합니다.\n",
            "13번째 재귀 함수를 종료합니다.\n",
            "12번째 재귀 함수를 종료합니다.\n",
            "11번째 재귀 함수를 종료합니다.\n",
            "10번째 재귀 함수를 종료합니다.\n",
            "9번째 재귀 함수를 종료합니다.\n",
            "8번째 재귀 함수를 종료합니다.\n",
            "7번째 재귀 함수를 종료합니다.\n",
            "6번째 재귀 함수를 종료합니다.\n",
            "5번째 재귀 함수를 종료합니다.\n",
            "4번째 재귀 함수를 종료합니다.\n",
            "3번째 재귀 함수를 종료합니다.\n",
            "2번째 재귀 함수를 종료합니다.\n",
            "1번째 재귀 함수를 종료합니다.\n"
          ]
        }
      ],
      "source": [
        "def recursive_function(i):\n",
        "    if i == 20:\n",
        "        return \n",
        "    \n",
        "    print(f\"{i}번째 재귀 함수에서 {i + 1}번째 재귀함수를 호출합니다.\")\n",
        "    recursive_function(i + 1)\n",
        "    print(f\"{i}번째 재귀 함수를 종료합니다.\")\n",
        "\n",
        "recursive_function(1)"
      ]
    },
    {
      "cell_type": "code",
      "execution_count": null,
      "id": "3fae4eba",
      "metadata": {
        "id": "3fae4eba"
      },
      "outputs": [],
      "source": [
        "## 팩토리얼 문제\n",
        "\n",
        "### 반복문으로 팩토리얼 구현\n",
        "\n",
        "def factorial_iterative(n):\n",
        "    result = 1\n",
        "    for i in range(1, n+1):\n",
        "        result *= i\n",
        "    return result\n",
        "\n",
        "def factorial_recursive(n):\n",
        "    if n <= 1:\n",
        "        return 1\n",
        "    return n * factorial_recursive(n - 1)"
      ]
    },
    {
      "cell_type": "code",
      "execution_count": null,
      "id": "8661d268",
      "metadata": {
        "id": "8661d268",
        "outputId": "8fee412e-24d2-4a78-dc13-94558185c0cd"
      },
      "outputs": [
        {
          "name": "stdout",
          "output_type": "stream",
          "text": [
            "iterative factorial: 120\n",
            "recursive factorial: 120\n"
          ]
        }
      ],
      "source": [
        "print(f\"iterative factorial: {factorial_iterative(5)}\")\n",
        "print(f\"recursive factorial: {factorial_recursive(5)}\")"
      ]
    },
    {
      "cell_type": "markdown",
      "id": "e7df0748",
      "metadata": {
        "id": "e7df0748"
      },
      "source": [
        "---"
      ]
    },
    {
      "cell_type": "markdown",
      "id": "3a4a3caf",
      "metadata": {
        "id": "3a4a3caf"
      },
      "source": [
        "## DFS/BFS"
      ]
    },
    {
      "cell_type": "markdown",
      "id": "ef949711",
      "metadata": {
        "id": "ef949711"
      },
      "source": [
        "#### Adjacency Matrix"
      ]
    },
    {
      "cell_type": "code",
      "execution_count": null,
      "id": "4550f8ca",
      "metadata": {
        "id": "4550f8ca",
        "outputId": "49b1a92b-4359-4f35-86f4-9d6b3c0574b3"
      },
      "outputs": [
        {
          "name": "stdout",
          "output_type": "stream",
          "text": [
            "[[0, 7, 5], [7, 0, 999999999], [5, 999999999, 0]]\n"
          ]
        }
      ],
      "source": [
        "inf = 999999999\n",
        "\n",
        "## 2차원 리스트를 이용해 인접 행렬 표현\n",
        "\n",
        "graph = [\n",
        "    [0,7,5],\n",
        "    [7,0,inf],\n",
        "    [5,inf,0]\n",
        "]\n",
        "\n",
        "print(graph)"
      ]
    },
    {
      "cell_type": "markdown",
      "id": "69e0f32c",
      "metadata": {
        "id": "69e0f32c"
      },
      "source": [
        "---"
      ]
    },
    {
      "cell_type": "markdown",
      "id": "e015ddbd",
      "metadata": {
        "id": "e015ddbd"
      },
      "source": [
        "#### Adjacency List"
      ]
    },
    {
      "cell_type": "code",
      "execution_count": null,
      "id": "672abaaf",
      "metadata": {
        "id": "672abaaf"
      },
      "outputs": [],
      "source": [
        "## Adjacency List (Graph)\n",
        "\n",
        "graph = [[] for _ in range(3)]"
      ]
    },
    {
      "cell_type": "code",
      "execution_count": null,
      "id": "d0c0a256",
      "metadata": {
        "id": "d0c0a256",
        "outputId": "86cf1e83-d4e1-48ba-d1a6-e487d62d0096"
      },
      "outputs": [
        {
          "data": {
            "text/plain": [
              "[[], [], []]"
            ]
          },
          "execution_count": 18,
          "metadata": {},
          "output_type": "execute_result"
        }
      ],
      "source": [
        "graph"
      ]
    },
    {
      "cell_type": "code",
      "execution_count": null,
      "id": "acdd36ee",
      "metadata": {
        "id": "acdd36ee"
      },
      "outputs": [],
      "source": [
        "## 노드 0에 연결된 노드 정보 저장 (노드, 거리)\n",
        "\n",
        "graph[0].append((1,7))\n",
        "graph[0].append((2,5))"
      ]
    },
    {
      "cell_type": "code",
      "execution_count": null,
      "id": "a6a9d3b2",
      "metadata": {
        "id": "a6a9d3b2",
        "outputId": "d63fb81d-8b27-40c7-e12a-60dbc32b1f25"
      },
      "outputs": [
        {
          "data": {
            "text/plain": [
              "[[(1, 7), (2, 5)], [], []]"
            ]
          },
          "execution_count": 20,
          "metadata": {},
          "output_type": "execute_result"
        }
      ],
      "source": [
        "graph"
      ]
    },
    {
      "cell_type": "code",
      "execution_count": null,
      "id": "e1e3e97a",
      "metadata": {
        "id": "e1e3e97a"
      },
      "outputs": [],
      "source": [
        "## 노드 1에 연결된 노드 정보 저장 (노드, 거리)\n",
        "\n",
        "graph[1].append((0,7))\n",
        "\n",
        "## 노드 2에 연결된 노드 정보 저장 (노드, 거리)\n",
        "\n",
        "graph[2].append((0,5))"
      ]
    },
    {
      "cell_type": "code",
      "execution_count": null,
      "id": "880d0cdb",
      "metadata": {
        "id": "880d0cdb",
        "outputId": "f093ac88-1f33-4e1b-fb47-e29f000252dd"
      },
      "outputs": [
        {
          "name": "stdout",
          "output_type": "stream",
          "text": [
            "[[(1, 7), (2, 5)], [(0, 7)], [(0, 5)]]\n"
          ]
        }
      ],
      "source": [
        "print(graph)"
      ]
    },
    {
      "cell_type": "markdown",
      "id": "b7c8192a",
      "metadata": {
        "id": "b7c8192a"
      },
      "source": [
        "---"
      ]
    },
    {
      "cell_type": "markdown",
      "id": "5a9ccbcd",
      "metadata": {
        "id": "5a9ccbcd"
      },
      "source": [
        "### DFS"
      ]
    },
    {
      "cell_type": "code",
      "execution_count": null,
      "id": "8a9eb525",
      "metadata": {
        "id": "8a9eb525"
      },
      "outputs": [],
      "source": [
        "## DFS method 정의\n",
        "\n",
        "def dfs(graph, v , visited):\n",
        "    # 현재 노드를 방문 처리\n",
        "    visited[v] = True\n",
        "    print(v, end=' ')\n",
        "    \n",
        "    # 현재 노드와 연결된 다른 노드를 재귀적으로 방문\n",
        "    for i in graph[v]:\n",
        "        if not visited[i]:\n",
        "            dfs(graph, i ,visited)\n",
        "    \n",
        "    \n",
        "    \n",
        "    \n",
        "#각 노드가 연결된 정보를 리스트 자료형으로 표현\n",
        "graph = [\n",
        "    [],\n",
        "    [2,3,8],\n",
        "    [1,7],\n",
        "    [1,4,5],\n",
        "    [3,5],\n",
        "    [3,4],\n",
        "    [7],\n",
        "    [2,6,8],\n",
        "    [1,7]\n",
        "]\n",
        "\n",
        "#각 노드가 방문된 정보를 리스트 자료형으로 표현(1차원 리스트)\n",
        "visited = [False] * 9"
      ]
    },
    {
      "cell_type": "code",
      "execution_count": null,
      "id": "c53f0207",
      "metadata": {
        "id": "c53f0207",
        "outputId": "e6e62b00-bb89-4f46-84fe-de67e56aef0e"
      },
      "outputs": [
        {
          "name": "stdout",
          "output_type": "stream",
          "text": [
            "1 2 7 6 8 3 4 5 "
          ]
        }
      ],
      "source": [
        "dfs(graph, 1, visited)"
      ]
    },
    {
      "cell_type": "code",
      "execution_count": null,
      "id": "6e5df727",
      "metadata": {
        "id": "6e5df727",
        "outputId": "a9ebf0d6-a2a0-40e4-a347-75bb9a576d67"
      },
      "outputs": [
        {
          "name": "stdout",
          "output_type": "stream",
          "text": [
            "2 1 3 4 5 8 7 6 "
          ]
        }
      ],
      "source": [
        "dfs(graph, 2, visited)"
      ]
    },
    {
      "cell_type": "markdown",
      "id": "7d91070c",
      "metadata": {
        "id": "7d91070c"
      },
      "source": [
        "---"
      ]
    },
    {
      "cell_type": "markdown",
      "id": "b08a41b5",
      "metadata": {
        "id": "b08a41b5"
      },
      "source": [
        "### BFS"
      ]
    },
    {
      "cell_type": "code",
      "execution_count": null,
      "id": "2afcf375",
      "metadata": {
        "id": "2afcf375"
      },
      "outputs": [],
      "source": [
        "from collections import deque"
      ]
    },
    {
      "cell_type": "code",
      "execution_count": null,
      "id": "422a5fd5",
      "metadata": {
        "id": "422a5fd5"
      },
      "outputs": [],
      "source": [
        "def bfs(graph, start, visited):\n",
        "    ## 큐(Queue) 구현을 위해 deque 라이브러리 사용\n",
        "    queue = deque([start])\n",
        "    # 현재 노드를 방문 처리\n",
        "    visited[start] = True\n",
        "    #큐가 빌 때까지 반복\n",
        "    while queue:\n",
        "        # 큐에서 하나의 원소를 뽑아 출력\n",
        "        v = queue.popleft()\n",
        "        print(v, end=' ')\n",
        "        # 해당 원소와 연결된, 아직 방문하지 않은 원소들을 큐에 삽입\n",
        "        for i in graph[v]:\n",
        "            if not visited[i]:\n",
        "                queue.append(i)\n",
        "                visited[i] = True\n",
        "    \n",
        "#각 노드가 연결된 정보를 리스트 자료형으로 표현\n",
        "graph = [\n",
        "    [],\n",
        "    [2,3,8],\n",
        "    [1,7],\n",
        "    [1,4,5],\n",
        "    [3,5],\n",
        "    [3,4],\n",
        "    [7],\n",
        "    [2,6,8],\n",
        "    [1,7]\n",
        "]\n",
        "\n",
        "#각 노드가 방문된 정보를 리스트 자료형으로 표현(1차원 리스트)\n",
        "visited = [False] * 9"
      ]
    },
    {
      "cell_type": "code",
      "execution_count": null,
      "id": "1ab9497a",
      "metadata": {
        "id": "1ab9497a",
        "outputId": "9b9e2db3-3dd3-4920-a983-c1c78a162413"
      },
      "outputs": [
        {
          "name": "stdout",
          "output_type": "stream",
          "text": [
            "1 2 3 8 7 4 5 6 "
          ]
        }
      ],
      "source": [
        "bfs(graph, 1, visited)"
      ]
    },
    {
      "cell_type": "markdown",
      "id": "cdfd0293",
      "metadata": {
        "id": "cdfd0293"
      },
      "source": [
        "---"
      ]
    },
    {
      "cell_type": "markdown",
      "id": "c5f6929e",
      "metadata": {
        "id": "c5f6929e"
      },
      "source": [
        "### 음료수 얼려 먹기"
      ]
    },
    {
      "cell_type": "code",
      "execution_count": null,
      "id": "fddcaf8b",
      "metadata": {
        "id": "fddcaf8b",
        "outputId": "fdb423af-69b3-4ca6-91fc-e9a399fa1f06"
      },
      "outputs": [
        {
          "name": "stdout",
          "output_type": "stream",
          "text": [
            "4 5\n",
            "00110\n",
            "00011\n",
            "11111\n",
            "00000\n"
          ]
        },
        {
          "data": {
            "text/plain": [
              "False"
            ]
          },
          "execution_count": 10,
          "metadata": {},
          "output_type": "execute_result"
        }
      ],
      "source": [
        ""
      ]
    },
    {
      "cell_type": "code",
      "execution_count": null,
      "id": "f669eccd",
      "metadata": {
        "id": "f669eccd"
      },
      "outputs": [],
      "source": [
        "# N, M을 공백으로 구분하여 입력받기\n",
        "n, m = map(int, input().split())\n",
        "\n",
        "# 2차원 리스트의 맵 정보 입력받기\n",
        "\n",
        "graph = []\n",
        "for i in range(n):\n",
        "    graph.append(list(map(int, input())))\n",
        "    \n",
        "\n",
        "## DFS로 특정한 노드를 방문한 뒤에 연결된 모든 노드들도 방문\n",
        "\n",
        "def dfs(x, y):\n",
        "    # 주어진 범위를 벗어나는 경우에는 즉시 종료\n",
        "    if x <= -1 or x >= n or y <= -1 or y >= m:\n",
        "        return False\n",
        "    # 현재 노드를 아직 방문하지 않았다면\n",
        "    if graph[x][y] == 0:\n",
        "        # 해당 노드 방문처리\n",
        "        graph[x][y] = 1\n",
        "        ## 상, 하, 좌, 우의 위치도 모두 재귀적으로 호출\n",
        "        dfs(x-1, y) # 하\n",
        "        dfs(x, y-1) # 좌\n",
        "        dfs(x+1, y) # 상\n",
        "        dfs(x, y+1) # 우\n",
        "        return True\n",
        "    return False\n",
        "\n",
        "# 모든 노드에 대하여 음료수 채우기\n",
        "    \n",
        "result = 0\n",
        "for i in range(n):\n",
        "    for j in range(m):\n",
        "        # 현재 위치에서 DFS 수행\n",
        "        if dfs(i, j) == True:\n",
        "            result += 1\n",
        "print(result)\n",
        "                \n"
      ]
    },
    {
      "cell_type": "markdown",
      "id": "f5cce8a7",
      "metadata": {
        "id": "f5cce8a7"
      },
      "source": [
        "---"
      ]
    },
    {
      "cell_type": "markdown",
      "id": "baf3e9aa",
      "metadata": {
        "id": "baf3e9aa"
      },
      "source": [
        "### 미로 탈출"
      ]
    },
    {
      "cell_type": "code",
      "execution_count": null,
      "id": "4f377cdd",
      "metadata": {
        "id": "4f377cdd",
        "outputId": "f4efa39d-b318-4207-e193-02d031c5b704"
      },
      "outputs": [
        {
          "name": "stdout",
          "output_type": "stream",
          "text": [
            "5 6\n",
            "101010\n",
            "111111\n",
            "000001\n",
            "111111\n",
            "111111\n",
            "10\n"
          ]
        }
      ],
      "source": [
        "from collections import deque\n",
        "\n",
        "## n, m을 공백으로 구분하여 입력받기\n",
        "n, m = map(int, input().split())\n",
        "## 2차원 리스트의 맵 정보 입력받기\n",
        "graph = []\n",
        "for i in range(n):\n",
        "    graph.append(list(map(int, input())))\n",
        "    \n",
        "# 이동할 네 방향 정의 (상, 하, 좌, 우)\n",
        "dx = [-1, 1, 0, 0]\n",
        "dy = [0, 0, -1, 1]\n",
        "\n",
        "# BFS 소스코드 구현\n",
        "def bfs(x, y):\n",
        "    # 큐(Queue) 구현을 위해 deque 라이브러리 사용\n",
        "    queue = deque()\n",
        "    queue.append((x, y))\n",
        "    # 큐가 빌 때까지 반복\n",
        "    while queue:\n",
        "        x, y = queue.popleft()\n",
        "        # 현재 위치에서 네 방향으로의 위치 확인\n",
        "        for i in range(4):\n",
        "            nx = x + dx[i]\n",
        "            ny = y + dy[i]\n",
        "            # 미로 찾기 공간을 벗어난 경우 무시\n",
        "            if nx < 0 or ny < 0 or nx >= n or ny >= m:\n",
        "                continue\n",
        "            # 벽인 경우 무시\n",
        "            if graph[nx][ny] == 0:\n",
        "                continue\n",
        "            # 해당 노드를 처음 방문하는 경우에만 최단거리 기록\n",
        "            if graph[nx][ny] == 1:\n",
        "                graph[nx][ny] = graph[x][y] + 1\n",
        "                queue.append((nx, ny))\n",
        "                \n",
        "    return graph[n - 1][m - 1]\n",
        "\n",
        "print(bfs(0,0))"
      ]
    },
    {
      "cell_type": "code",
      "execution_count": null,
      "id": "b7b7482b",
      "metadata": {
        "id": "b7b7482b"
      },
      "outputs": [],
      "source": [
        ""
      ]
    }
  ],
  "metadata": {
    "kernelspec": {
      "display_name": "Python 3 (ipykernel)",
      "language": "python",
      "name": "python3"
    },
    "language_info": {
      "codemirror_mode": {
        "name": "ipython",
        "version": 3
      },
      "file_extension": ".py",
      "mimetype": "text/x-python",
      "name": "python",
      "nbconvert_exporter": "python",
      "pygments_lexer": "ipython3",
      "version": "3.8.13"
    },
    "colab": {
      "name": "DFS_BFS_0616.ipynb",
      "provenance": [],
      "include_colab_link": true
    }
  },
  "nbformat": 4,
  "nbformat_minor": 5
}