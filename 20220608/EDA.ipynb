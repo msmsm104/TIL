{
  "nbformat": 4,
  "nbformat_minor": 0,
  "metadata": {
    "colab": {
      "name": "EDA.ipynb",
      "provenance": [],
      "collapsed_sections": [
        "seDRfRsC5lJj"
      ],
      "mount_file_id": "1pV8HIwzZBOyIy61_JM3ZvNyTGTt3SVW-",
      "authorship_tag": "ABX9TyMx4tJIT248waaIX2TGSi7k",
      "include_colab_link": true
    },
    "kernelspec": {
      "name": "python3",
      "display_name": "Python 3"
    },
    "language_info": {
      "name": "python"
    }
  },
  "cells": [
    {
      "cell_type": "markdown",
      "metadata": {
        "id": "view-in-github",
        "colab_type": "text"
      },
      "source": [
        "<a href=\"https://colab.research.google.com/github/msmsm104/TIL/blob/main/20220608/EDA.ipynb\" target=\"_parent\"><img src=\"https://colab.research.google.com/assets/colab-badge.svg\" alt=\"Open In Colab\"/></a>"
      ]
    },
    {
      "cell_type": "code",
      "execution_count": null,
      "metadata": {
        "id": "aXpDh3l_5Sl4"
      },
      "outputs": [],
      "source": [
        "import numpy as np\n",
        "import pandas as pd\n",
        "import matplotlib.pyplot as plt\n",
        "import seaborn as sns\n",
        "import warnings\n",
        "\n",
        "warnings.simplefilter('ignore')\n"
      ]
    },
    {
      "cell_type": "code",
      "source": [
        "base_path = '/content/drive/MyDrive/Colab Notebooks/이어드림스쿨/TIL(Today I Learned)/20220607/ML-project/data/'"
      ],
      "metadata": {
        "id": "5N4Jme5P5hnH"
      },
      "execution_count": null,
      "outputs": []
    },
    {
      "cell_type": "markdown",
      "source": [
        "## Memory Reducing"
      ],
      "metadata": {
        "id": "seDRfRsC5lJj"
      }
    },
    {
      "cell_type": "code",
      "source": [
        "# Memory saving function credit to https://www.kaggle.com/gemartin/load-data-reduce-memory-usage\n",
        "def reduce_mem_usage(df):\n",
        "    \"\"\" iterate through all the columns of a dataframe and modify the data type\n",
        "        to reduce memory usage.        \n",
        "    \"\"\"\n",
        "    start_mem = df.memory_usage().sum() / 1024**2\n",
        "    print('Memory usage of dataframe is {:.2f} MB'.format(start_mem))\n",
        "\n",
        "    for col in df.columns:\n",
        "        col_type = df[col].dtype\n",
        "\n",
        "        if col_type != object:\n",
        "            c_min = df[col].min()\n",
        "            c_max = df[col].max()\n",
        "            if str(col_type)[:3] == 'int':\n",
        "                if c_min > np.iinfo(np.int8).min and c_max < np.iinfo(np.int8).max:\n",
        "                    df[col] = df[col].astype(np.int8)\n",
        "                elif c_min > np.iinfo(np.int16).min and c_max < np.iinfo(np.int16).max:\n",
        "                    df[col] = df[col].astype(np.int16)\n",
        "                elif c_min > np.iinfo(np.int32).min and c_max < np.iinfo(np.int32).max:\n",
        "                    df[col] = df[col].astype(np.int32)\n",
        "                elif c_min > np.iinfo(np.int64).min and c_max < np.iinfo(np.int64).max:\n",
        "                    df[col] = df[col].astype(np.int64)  \n",
        "            else:\n",
        "                if c_min > np.finfo(np.float16).min and c_max < np.finfo(np.float16).max:\n",
        "                    df[col] = df[col].astype(np.float16)\n",
        "                elif c_min > np.finfo(np.float32).min and c_max < np.finfo(np.float32).max:\n",
        "                    df[col] = df[col].astype(np.float32)\n",
        "                else:\n",
        "                    df[col] = df[col].astype(np.float64)\n",
        "\n",
        "    end_mem = df.memory_usage().sum() / 1024**2\n",
        "    print('Memory usage after optimization is: {:.2f} MB'.format(end_mem))\n",
        "    print('Decreased by {:.1f}%'.format(100 * (start_mem - end_mem) / start_mem))\n",
        "\n",
        "    return df"
      ],
      "metadata": {
        "id": "GL7eiuVY5jYY"
      },
      "execution_count": null,
      "outputs": []
    },
    {
      "cell_type": "code",
      "source": [
        "data = reduce_mem_usage(pd.read_csv(base_path + 'train_V2.csv'))"
      ],
      "metadata": {
        "colab": {
          "base_uri": "https://localhost:8080/"
        },
        "id": "0NnvxbY85phT",
        "outputId": "517cfd34-2d96-49de-d1e2-653e7784361c"
      },
      "execution_count": null,
      "outputs": [
        {
          "output_type": "stream",
          "name": "stdout",
          "text": [
            "Memory usage of dataframe is 983.90 MB\n",
            "Memory usage after optimization is: 288.39 MB\n",
            "Decreased by 70.7%\n"
          ]
        }
      ]
    },
    {
      "cell_type": "markdown",
      "source": [
        "## Columns\n",
        "\n",
        "    Id - 플레이어의 Id\n",
        "    groupId - 경기 내의 그룹을 식별하는 ID. 현재 그룹의 선수들이 서로 다른 경기에서 경기한다면, 그들은 매번 다른 groupId를 갖게 될 것이다.\n",
        "    matchId - 경기를 식별하기 위한 ID. train set과 test set에 모두 있는 시합은 없다.\n",
        "    matchDuration - 경기 시간.\n",
        "    matchType - 경기 종류(duo, quad ...).\n",
        "    assists - 팀 동료들과 같이 죽인 적 수이다.\n",
        "    boosts - 부스트 아이템 사용한 수.\n",
        "    damageDealt - 가한 데미지 총량. Note: 자신에게 가한 데미지는 제외.\n",
        "    DBNOs - 빈사상태로 만든 적의 수.\n",
        "    headshotKills - 헤드샷 으로 처리한 적의 수.\n",
        "    heals - 치료 아이템 사용 수.\n",
        "    killPlace - 경기에서 처치한 적의 수 랭킹.\n",
        "    killPoints - 플레이어의 처치 기반 외부 랭킹 (Elo 방식의 순위). rankPoints에서 -1이 아닌 값이 있는 경우, killPoints에서 0은 \"없음\"으로 처리되어야 한다.\n",
        "    kills - 처치한 적의 수.\n",
        "    killStreaks - 단기간에 가장 많이 처치한 적의 최대치.\n",
        "    longestKill - 플레이어가 적을 죽인 가장 긴 거리. 선수를 다운시키고 멀리 운전하는 것이 가장 긴 처치로 이어질 수 있기 때문에 오해의 소지가 있을 수 있다.\n",
        "    maxPlace - 경기에서 가장 순위가 낮은 것에 대한 데이터. 이것은 순위를 건너뛸 수도 있기 때문에 numGroups와 일치하지 않을 수 있다.\n",
        "    numGroups - 경기에 있는 팀의 수.\n",
        "    rankPoints - Elo 방식의 플레이어 랭킹. 다음 버전의 API에서는 삭제될 예정이기 때문에 사용에 주의. '-1' 값은 순위가 \"None\" 이다.\n",
        "    revives - 플레이어가 팀원 회복 시킨 수.\n",
        "    rideDistance - 차량으로 이동한 거리(단위 : 미터).\n",
        "    roadKills - 차량으로 죽인 플레이어 수.\n",
        "    swimDistance - 수영한 거리(단위 : 미터).\n",
        "    teamKills - 팀킬한 횟수.\n",
        "    vehicleDestroys - 차량을 폭파시킨 횟수.\n",
        "    walkDistance - 걸은 총 거리(단위 : 미터).\n",
        "    weaponsAcquired - 무기 얻은 갯수.\n",
        "    winPoints - 플레이어의 승리 기반 외부 랭킹 (Elo 방식의 순위). rankPoints에서 -1이 아닌 값이 있는 경우, winPoints에서 0은 \"없음\"으로 처리되어야 한다.\n",
        "    winPlacePerc - 예측 목표. 순위의 퍼센트로 표시되며, 1이면 경기에서 1등이고 0이면 경기에서 꼴지 했다는 것이다. 이것은 numGroups로 계산되는게 아니라, maxPlace로 계산되기 때문에 누락되는 것이 있을수도다.\n",
        "\n"
      ],
      "metadata": {
        "id": "m2Utks0657s2"
      }
    },
    {
      "cell_type": "markdown",
      "source": [
        "## EDA\n",
        "\n",
        "    - rankPoints\n",
        "    - killPoints\n",
        "    - winPoints\n",
        "    - numGroups\n",
        "    - maxPlace\n",
        "    - winPlacePerc"
      ],
      "metadata": {
        "id": "xZ9gFLyY5-MF"
      }
    },
    {
      "cell_type": "code",
      "source": [
        "data[['rankPoints','killPoints', 'winPoints', 'numGroups', 'maxPlace', 'winPlacePerc']].corr().style.background_gradient(cmap='summer_r')"
      ],
      "metadata": {
        "colab": {
          "base_uri": "https://localhost:8080/",
          "height": 238
        },
        "id": "pRVv7Ulf5q9R",
        "outputId": "2bdb81af-754e-4329-cb82-d123559f8f06"
      },
      "execution_count": null,
      "outputs": [
        {
          "output_type": "execute_result",
          "data": {
            "text/plain": [
              "<pandas.io.formats.style.Styler at 0x7f7ad1f74390>"
            ],
            "text/html": [
              "<style type=\"text/css\">\n",
              "#T_ae87f_row0_col0, #T_ae87f_row1_col1, #T_ae87f_row2_col2, #T_ae87f_row3_col3, #T_ae87f_row3_col4, #T_ae87f_row4_col3, #T_ae87f_row4_col4, #T_ae87f_row5_col5 {\n",
              "  background-color: #008066;\n",
              "  color: #f1f1f1;\n",
              "}\n",
              "#T_ae87f_row0_col1, #T_ae87f_row0_col2, #T_ae87f_row1_col3, #T_ae87f_row1_col4, #T_ae87f_row2_col0, #T_ae87f_row2_col5 {\n",
              "  background-color: #ffff66;\n",
              "  color: #000000;\n",
              "}\n",
              "#T_ae87f_row0_col3 {\n",
              "  background-color: #eaf466;\n",
              "  color: #000000;\n",
              "}\n",
              "#T_ae87f_row0_col4 {\n",
              "  background-color: #e9f466;\n",
              "  color: #000000;\n",
              "}\n",
              "#T_ae87f_row0_col5, #T_ae87f_row1_col5 {\n",
              "  background-color: #fefe66;\n",
              "  color: #000000;\n",
              "}\n",
              "#T_ae87f_row1_col0 {\n",
              "  background-color: #fdfe66;\n",
              "  color: #000000;\n",
              "}\n",
              "#T_ae87f_row1_col2, #T_ae87f_row2_col1 {\n",
              "  background-color: #028066;\n",
              "  color: #f1f1f1;\n",
              "}\n",
              "#T_ae87f_row2_col3, #T_ae87f_row2_col4 {\n",
              "  background-color: #fcfe66;\n",
              "  color: #000000;\n",
              "}\n",
              "#T_ae87f_row3_col0, #T_ae87f_row4_col0 {\n",
              "  background-color: #7abc66;\n",
              "  color: #000000;\n",
              "}\n",
              "#T_ae87f_row3_col1, #T_ae87f_row4_col1 {\n",
              "  background-color: #87c366;\n",
              "  color: #000000;\n",
              "}\n",
              "#T_ae87f_row3_col2 {\n",
              "  background-color: #83c166;\n",
              "  color: #000000;\n",
              "}\n",
              "#T_ae87f_row3_col5 {\n",
              "  background-color: #f7fb66;\n",
              "  color: #000000;\n",
              "}\n",
              "#T_ae87f_row4_col2 {\n",
              "  background-color: #84c266;\n",
              "  color: #000000;\n",
              "}\n",
              "#T_ae87f_row4_col5 {\n",
              "  background-color: #f8fc66;\n",
              "  color: #000000;\n",
              "}\n",
              "#T_ae87f_row5_col0 {\n",
              "  background-color: #7ebe66;\n",
              "  color: #000000;\n",
              "}\n",
              "#T_ae87f_row5_col1, #T_ae87f_row5_col2 {\n",
              "  background-color: #7fbf66;\n",
              "  color: #000000;\n",
              "}\n",
              "#T_ae87f_row5_col3, #T_ae87f_row5_col4 {\n",
              "  background-color: #ebf566;\n",
              "  color: #000000;\n",
              "}\n",
              "</style>\n",
              "<table id=\"T_ae87f_\" class=\"dataframe\">\n",
              "  <thead>\n",
              "    <tr>\n",
              "      <th class=\"blank level0\" >&nbsp;</th>\n",
              "      <th class=\"col_heading level0 col0\" >rankPoints</th>\n",
              "      <th class=\"col_heading level0 col1\" >killPoints</th>\n",
              "      <th class=\"col_heading level0 col2\" >winPoints</th>\n",
              "      <th class=\"col_heading level0 col3\" >numGroups</th>\n",
              "      <th class=\"col_heading level0 col4\" >maxPlace</th>\n",
              "      <th class=\"col_heading level0 col5\" >winPlacePerc</th>\n",
              "    </tr>\n",
              "  </thead>\n",
              "  <tbody>\n",
              "    <tr>\n",
              "      <th id=\"T_ae87f_level0_row0\" class=\"row_heading level0 row0\" >rankPoints</th>\n",
              "      <td id=\"T_ae87f_row0_col0\" class=\"data row0 col0\" >1.000000</td>\n",
              "      <td id=\"T_ae87f_row0_col1\" class=\"data row0 col1\" >-0.975555</td>\n",
              "      <td id=\"T_ae87f_row0_col2\" class=\"data row0 col2\" >-0.993845</td>\n",
              "      <td id=\"T_ae87f_row0_col3\" class=\"data row0 col3\" >0.046996</td>\n",
              "      <td id=\"T_ae87f_row0_col4\" class=\"data row0 col4\" >0.048712</td>\n",
              "      <td id=\"T_ae87f_row0_col5\" class=\"data row0 col5\" >0.013522</td>\n",
              "    </tr>\n",
              "    <tr>\n",
              "      <th id=\"T_ae87f_level0_row1\" class=\"row_heading level0 row1\" >killPoints</th>\n",
              "      <td id=\"T_ae87f_row1_col0\" class=\"data row1 col0\" >-0.975555</td>\n",
              "      <td id=\"T_ae87f_row1_col1\" class=\"data row1 col1\" >1.000000</td>\n",
              "      <td id=\"T_ae87f_row1_col2\" class=\"data row1 col2\" >0.983417</td>\n",
              "      <td id=\"T_ae87f_row1_col3\" class=\"data row1 col3\" >-0.042366</td>\n",
              "      <td id=\"T_ae87f_row1_col4\" class=\"data row1 col4\" >-0.044802</td>\n",
              "      <td id=\"T_ae87f_row1_col5\" class=\"data row1 col5\" >0.012909</td>\n",
              "    </tr>\n",
              "    <tr>\n",
              "      <th id=\"T_ae87f_level0_row2\" class=\"row_heading level0 row2\" >winPoints</th>\n",
              "      <td id=\"T_ae87f_row2_col0\" class=\"data row2 col0\" >-0.993845</td>\n",
              "      <td id=\"T_ae87f_row2_col1\" class=\"data row2 col1\" >0.983417</td>\n",
              "      <td id=\"T_ae87f_row2_col2\" class=\"data row2 col2\" >1.000000</td>\n",
              "      <td id=\"T_ae87f_row2_col3\" class=\"data row2 col3\" >-0.027483</td>\n",
              "      <td id=\"T_ae87f_row2_col4\" class=\"data row2 col4\" >-0.029295</td>\n",
              "      <td id=\"T_ae87f_row2_col5\" class=\"data row2 col5\" >0.007062</td>\n",
              "    </tr>\n",
              "    <tr>\n",
              "      <th id=\"T_ae87f_level0_row3\" class=\"row_heading level0 row3\" >numGroups</th>\n",
              "      <td id=\"T_ae87f_row3_col0\" class=\"data row3 col0\" >0.046996</td>\n",
              "      <td id=\"T_ae87f_row3_col1\" class=\"data row3 col1\" >-0.042366</td>\n",
              "      <td id=\"T_ae87f_row3_col2\" class=\"data row3 col2\" >-0.027483</td>\n",
              "      <td id=\"T_ae87f_row3_col3\" class=\"data row3 col3\" >1.000000</td>\n",
              "      <td id=\"T_ae87f_row3_col4\" class=\"data row3 col4\" >0.997900</td>\n",
              "      <td id=\"T_ae87f_row3_col5\" class=\"data row3 col5\" >0.039625</td>\n",
              "    </tr>\n",
              "    <tr>\n",
              "      <th id=\"T_ae87f_level0_row4\" class=\"row_heading level0 row4\" >maxPlace</th>\n",
              "      <td id=\"T_ae87f_row4_col0\" class=\"data row4 col0\" >0.048712</td>\n",
              "      <td id=\"T_ae87f_row4_col1\" class=\"data row4 col1\" >-0.044802</td>\n",
              "      <td id=\"T_ae87f_row4_col2\" class=\"data row4 col2\" >-0.029295</td>\n",
              "      <td id=\"T_ae87f_row4_col3\" class=\"data row4 col3\" >0.997900</td>\n",
              "      <td id=\"T_ae87f_row4_col4\" class=\"data row4 col4\" >1.000000</td>\n",
              "      <td id=\"T_ae87f_row4_col5\" class=\"data row4 col5\" >0.037381</td>\n",
              "    </tr>\n",
              "    <tr>\n",
              "      <th id=\"T_ae87f_level0_row5\" class=\"row_heading level0 row5\" >winPlacePerc</th>\n",
              "      <td id=\"T_ae87f_row5_col0\" class=\"data row5 col0\" >0.013522</td>\n",
              "      <td id=\"T_ae87f_row5_col1\" class=\"data row5 col1\" >0.012909</td>\n",
              "      <td id=\"T_ae87f_row5_col2\" class=\"data row5 col2\" >0.007062</td>\n",
              "      <td id=\"T_ae87f_row5_col3\" class=\"data row5 col3\" >0.039625</td>\n",
              "      <td id=\"T_ae87f_row5_col4\" class=\"data row5 col4\" >0.037381</td>\n",
              "      <td id=\"T_ae87f_row5_col5\" class=\"data row5 col5\" >1.000000</td>\n",
              "    </tr>\n",
              "  </tbody>\n",
              "</table>\n"
            ]
          },
          "metadata": {},
          "execution_count": 7
        }
      ]
    },
    {
      "cell_type": "markdown",
      "source": [
        " - correlation을 관측한 결과 \n",
        "    - winPoints : killPoints (유사도 아주 높음)\n",
        "    - numGroups : maxPlace (유사도 아주 높음)\n",
        "    - rankPoints - (winPoints, killPoints) (음의 유사도 아주 높음 : 반대성향)\n",
        "\n",
        " =>만약 모델링에 쓰이기 적절한 column들이라면 winPoints 와 killPoints중 하나, numGroups와 maxPlace중 하나의 column만 골라서 사용한다."
      ],
      "metadata": {
        "id": "2PvQT7hX65hM"
      }
    },
    {
      "cell_type": "markdown",
      "source": [
        "## column별 데이터 분포 확인"
      ],
      "metadata": {
        "id": "ja_fkTjO7sL6"
      }
    },
    {
      "cell_type": "code",
      "source": [
        "f, ax = plt.subplots(1,3,figsize=(20, 8))\n",
        "\n",
        "sns.distplot(data['rankPoints'], ax=ax[0])\n",
        "ax[0].set_title('rankPoints')\n",
        "\n",
        "sns.distplot(data['killPoints'], ax=ax[1])\n",
        "ax[1].set_title('killPoints')\n",
        "\n",
        "sns.distplot(data['winPoints'], ax=ax[2])\n",
        "ax[2].set_title('winPoints')\n",
        "\n",
        "plt.show()"
      ],
      "metadata": {
        "colab": {
          "base_uri": "https://localhost:8080/",
          "height": 363
        },
        "id": "ZrhN24LI6uyO",
        "outputId": "bc2ba7cd-fa14-42c1-d00b-7407f0ee5179"
      },
      "execution_count": null,
      "outputs": [
        {
          "output_type": "display_data",
          "data": {
            "text/plain": [
              "<Figure size 1440x576 with 3 Axes>"
            ],
            "image/png": "[encoded data removed]"
          },
          "metadata": {
            "needs_background": "light"
          }
        }
      ]
    },
    {
      "cell_type": "markdown",
      "source": [
        "'killPoints'와 'winPoints' column의 경우 대부분의 값이 0인것을 확인 할 수 있다.\n",
        "\n",
        "column별 0의 비율"
      ],
      "metadata": {
        "id": "pvhjdjLi9EKZ"
      }
    },
    {
      "cell_type": "code",
      "source": [
        "print(f\"0 percentage of rankPoints: {len(data[data['rankPoints'] == 0]) / len(data) * 100:.2f}\")\n",
        "print(f\"0 percentage of killPoints: {len(data[data['killPoints'] == 0]) / len(data) * 100:.2f}\")\n",
        "print(f\"0 percentage of winPoints: {len(data[data['winPoints'] == 0]) / len(data) * 100:.2f}\")"
      ],
      "metadata": {
        "colab": {
          "base_uri": "https://localhost:8080/"
        },
        "id": "bdSQEur_9DjR",
        "outputId": "ce8c1073-88e9-4026-fe27-96538ac7b5f7"
      },
      "execution_count": null,
      "outputs": [
        {
          "output_type": "stream",
          "name": "stdout",
          "text": [
            "0 percentage of rankPoints: 2.01\n",
            "0 percentage of killPoints: 59.72\n",
            "0 percentage of winPoints: 59.72\n"
          ]
        }
      ]
    },
    {
      "cell_type": "markdown",
      "source": [
        "    killPoints - 플레이어의 처치 기반 외부 랭킹 (Elo 방식의 순위). rankPoints에서 -1이 아닌 값이 있는 경우, killPoints에서 0은 \"없음\"으로 처리되어야 한다.\n",
        "    rankPoints - Elo 방식의 플레이어 랭킹. 다음 버전의 API에서는 삭제될 예정이기 때문에 사용에 주의. '-1' 값은 순위가 \"None\" 이다.\n",
        "    winPoints - 플레이어의 승리 기반 외부 랭킹 (Elo 방식의 순위). rankPoints에서 -1이 아닌 값이 있는 경우, winPoints에서 0은 \"없음\"으로 처리되어야 한다."
      ],
      "metadata": {
        "id": "IwJxADrj8zv0"
      }
    },
    {
      "cell_type": "markdown",
      "source": [
        "### 결측치\n",
        "\n",
        "    => column설명만 살펴보더라도 rankPoints와 killPoints, winPoints가 상관관계가 있음을 추측할 수 있다.\n",
        "    => rankPoints가 -1인 경우 (순위 없음), rankPoints가 -1이 아닌경우 (순위 있음)\n",
        "    => 순위 있음 & killPoints가 0 인경우 killPoints는 결측값\n",
        "    => 순위 있음 & winPoints가 0인경우 winPoints는 결측값\n",
        "\n",
        "    ##결측값의 비율을 알아보자\n",
        "    \\ 결측값(winPoints, killPoints 동일)이 2655647개(약 60%) 임을 알 수 있다.\n",
        "    => target column과의 상관관계도 낮고 + 결측값의 비율이 너무 높기 때문에 해당 column들을 학습에서 제외 시키기로 결정!"
      ],
      "metadata": {
        "id": "M63hGNY591iy"
      }
    },
    {
      "cell_type": "code",
      "source": [
        "print(f\"winPoints column NaN percentage : {len(data[(data['rankPoints'] != -1) & (data['winPoints'] == 0)]) / len(data) * 100:.2f}%\")\n",
        "print(f\"killPoints column NaN percentage : {len(data[(data['rankPoints'] != -1) & (data['killPoints'] == 0)]) / len(data) * 100:.2f}%\")"
      ],
      "metadata": {
        "colab": {
          "base_uri": "https://localhost:8080/"
        },
        "id": "3bdSOQ-8Ifcq",
        "outputId": "7534d287-0136-4935-a070-acb89127b6f2"
      },
      "execution_count": null,
      "outputs": [
        {
          "output_type": "stream",
          "name": "stdout",
          "text": [
            "winPoints column NaN percentage : 59.72%\n",
            "killPoints column NaN percentage : 59.72%\n"
          ]
        }
      ]
    },
    {
      "cell_type": "markdown",
      "source": [
        "----"
      ],
      "metadata": {
        "id": "tINJOflkJurm"
      }
    },
    {
      "cell_type": "markdown",
      "source": [
        "    maxPlace - 경기에서 가장 순위가 낮은 것에 대한 데이터. 이것은 순위를 건너뛸 수도 있기 때문에 numGroups와 일치하지 않을 수 있다.\n",
        "    numGroups - 경기에 있는 팀의 수."
      ],
      "metadata": {
        "id": "GErq2U6YJvlk"
      }
    },
    {
      "cell_type": "code",
      "source": [
        "f, ax = plt.subplots(1,2,figsize=(20, 8))\n",
        "\n",
        "sns.distplot(data['numGroups'], ax=ax[0])\n",
        "ax[0].set_title('numGroups')\n",
        "\n",
        "sns.distplot(data['maxPlace'], ax=ax[1])\n",
        "ax[1].set_title('maxPlace')\n",
        "\n",
        "\n",
        "plt.show()"
      ],
      "metadata": {
        "colab": {
          "base_uri": "https://localhost:8080/",
          "height": 365
        },
        "id": "rBjQ8poh-vm8",
        "outputId": "eac103ef-fc8d-48bd-f283-8aef5b6ba41c"
      },
      "execution_count": null,
      "outputs": [
        {
          "output_type": "display_data",
          "data": {
            "text/plain": [
              "<Figure size 1440x576 with 2 Axes>"
            ],
            "image/png": "[encoded data removed]"
          },
          "metadata": {
            "needs_background": "light"
          }
        }
      ]
    },
    {
      "cell_type": "markdown",
      "source": [
        " - 위에서 관측한 대로 두 속성의 분포역시 거의 흡사한 모습을 보인다. 다중공선성문제를 미연에 방지 하기 위해 두 컬럼 중 하나의 column만 사용하여 modeling을 진행하도록 한다.\n",
        " - 또 한, 세가지 범위에 데이터가 모여 있음을 알 수 있다.\n",
        "    => 해당 column을 categorical value로 변환시켜 보도록하자."
      ],
      "metadata": {
        "id": "8c7H3C7WLGvY"
      }
    },
    {
      "cell_type": "code",
      "source": [
        "## 3구간으로 나눠서 categorical value로 표현, 상관관계에 변화가 있는지 파악해보자.\n",
        "## < 40, 40 < 80, 80 <\n",
        "\n",
        "data['cat_numGroups'] = 0\n",
        "\n",
        "data.loc[data['numGroups'] < 40, 'cat_numGroups'] = 0\n",
        "data.loc[(data['numGroups'] > 40) & (data['numGroups'] < 80), 'cat_numGroups'] = 1\n",
        "data.loc[data['numGroups'] > 80, 'cat_numGroups'] = 2"
      ],
      "metadata": {
        "id": "jDAZik8MKu-R"
      },
      "execution_count": null,
      "outputs": []
    },
    {
      "cell_type": "code",
      "source": [
        "data[['cat_numGroups', 'winPlacePerc']].corr().style.background_gradient(cmap='summer_r')"
      ],
      "metadata": {
        "colab": {
          "base_uri": "https://localhost:8080/",
          "height": 112
        },
        "id": "TSyduPKtL5el",
        "outputId": "59afef7c-bf53-4d7a-b910-63fa9a5dfa9a"
      },
      "execution_count": null,
      "outputs": [
        {
          "output_type": "execute_result",
          "data": {
            "text/plain": [
              "<pandas.io.formats.style.Styler at 0x7f7aca2cef10>"
            ],
            "text/html": [
              "<style type=\"text/css\">\n",
              "#T_88e7c_row0_col0, #T_88e7c_row1_col1 {\n",
              "  background-color: #008066;\n",
              "  color: #f1f1f1;\n",
              "}\n",
              "#T_88e7c_row0_col1, #T_88e7c_row1_col0 {\n",
              "  background-color: #ffff66;\n",
              "  color: #000000;\n",
              "}\n",
              "</style>\n",
              "<table id=\"T_88e7c_\" class=\"dataframe\">\n",
              "  <thead>\n",
              "    <tr>\n",
              "      <th class=\"blank level0\" >&nbsp;</th>\n",
              "      <th class=\"col_heading level0 col0\" >cat_numGroups</th>\n",
              "      <th class=\"col_heading level0 col1\" >winPlacePerc</th>\n",
              "    </tr>\n",
              "  </thead>\n",
              "  <tbody>\n",
              "    <tr>\n",
              "      <th id=\"T_88e7c_level0_row0\" class=\"row_heading level0 row0\" >cat_numGroups</th>\n",
              "      <td id=\"T_88e7c_row0_col0\" class=\"data row0 col0\" >1.000000</td>\n",
              "      <td id=\"T_88e7c_row0_col1\" class=\"data row0 col1\" >0.041337</td>\n",
              "    </tr>\n",
              "    <tr>\n",
              "      <th id=\"T_88e7c_level0_row1\" class=\"row_heading level0 row1\" >winPlacePerc</th>\n",
              "      <td id=\"T_88e7c_row1_col0\" class=\"data row1 col0\" >0.041337</td>\n",
              "      <td id=\"T_88e7c_row1_col1\" class=\"data row1 col1\" >1.000000</td>\n",
              "    </tr>\n",
              "  </tbody>\n",
              "</table>\n"
            ]
          },
          "metadata": {},
          "execution_count": 29
        }
      ]
    },
    {
      "cell_type": "code",
      "source": [
        "data.groupby('cat_numGroups')['winPlacePerc'].mean()\n",
        "\n",
        "## cat_numGroups가 증가하며 winPlacePerc도 증가하는 경향이 명확히 관측함을 알 수 잇다."
      ],
      "metadata": {
        "colab": {
          "base_uri": "https://localhost:8080/"
        },
        "id": "ebq5runqL7fj",
        "outputId": "7ed71bd8-be53-4d9d-84bd-297cf5a5c54e"
      },
      "execution_count": null,
      "outputs": [
        {
          "output_type": "execute_result",
          "data": {
            "text/plain": [
              "cat_numGroups\n",
              "0    0.460938\n",
              "1    0.485107\n",
              "2    0.491455\n",
              "Name: winPlacePerc, dtype: float16"
            ]
          },
          "metadata": {},
          "execution_count": 30
        }
      ]
    },
    {
      "cell_type": "code",
      "source": [
        "f, ax = plt.subplots(1, 1, figsize=(12, 8))\n",
        "sns.barplot(x=[0,1,2], y=data.groupby('cat_numGroups')['winPlacePerc'].mean().values)\n",
        "\n",
        "ax.set_ylim(0.44, 0.5)\n",
        "\n",
        "\n",
        "\n",
        "plt.show()"
      ],
      "metadata": {
        "colab": {
          "base_uri": "https://localhost:8080/",
          "height": 487
        },
        "id": "eX1WSq08PTRE",
        "outputId": "059bb237-a72a-4fad-efc1-9cc9fea9df00"
      },
      "execution_count": null,
      "outputs": [
        {
          "output_type": "display_data",
          "data": {
            "text/plain": [
              "<Figure size 864x576 with 1 Axes>"
            ],
            "image/png": "[encoded data removed]"
          },
          "metadata": {
            "needs_background": "light"
          }
        }
      ]
    },
    {
      "cell_type": "markdown",
      "source": [
        "---"
      ],
      "metadata": {
        "id": "9aDkgMrgMTHo"
      }
    }
  ]
}