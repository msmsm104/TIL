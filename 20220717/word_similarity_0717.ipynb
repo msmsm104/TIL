{
 "cells": [
  {
   "cell_type": "markdown",
   "id": "9d1a1b65",
   "metadata": {},
   "source": [
    "## Based on Context Window(Co-occurrence)"
   ]
  },
  {
   "cell_type": "code",
   "execution_count": 1,
   "id": "0787095f",
   "metadata": {},
   "outputs": [],
   "source": [
    "import pandas as pd\n",
    "from collections import defaultdict"
   ]
  },
  {
   "cell_type": "code",
   "execution_count": 2,
   "id": "2cf9eedc",
   "metadata": {},
   "outputs": [],
   "source": [
    "with open('review.sorted.uniq.refined.tsv.text.tok') as f:\n",
    "    lines = [l.strip() for l in f.read().splitlines() if l.strip()]"
   ]
  },
  {
   "cell_type": "markdown",
   "id": "b1981bce",
   "metadata": {},
   "source": [
    "### Define methods"
   ]
  },
  {
   "cell_type": "code",
   "execution_count": 6,
   "id": "af6bac54",
   "metadata": {},
   "outputs": [],
   "source": [
    "def get_term_frequency(document):\n",
    "    term_freq = {}\n",
    "    \n",
    "    words = document.split()\n",
    "    \n",
    "    for w in words:\n",
    "        term_freq[w] = 1 + (0 if term_freq.get(w) is None else term_freq[w])\n",
    "        \n",
    "    return term_freq"
   ]
  },
  {
   "cell_type": "code",
   "execution_count": 7,
   "id": "b7a06e3d",
   "metadata": {},
   "outputs": [],
   "source": [
    "def get_context_counts(lines, vocab, w_size=2):\n",
    "    context_cnt = defaultdict(int)\n",
    "    \n",
    "    for line in lines:\n",
    "        words = line.split()\n",
    "        \n",
    "        for i, w in enumerate(words):\n",
    "            if w in vocab:\n",
    "                for c in words[i - w_size:i + w_size]:\n",
    "                    if w != c:\n",
    "                        context_cnt[(w, c)] += 1\n",
    "                        \n",
    "    return context_cnt"
   ]
  },
  {
   "cell_type": "code",
   "execution_count": 8,
   "id": "6679d02b",
   "metadata": {},
   "outputs": [],
   "source": [
    "def get_co_occurrence_df(context_cnt, vocab):\n",
    "    data = []\n",
    "    \n",
    "    for word1 in vocab:\n",
    "        row = []\n",
    "        \n",
    "        for word2 in vocab:\n",
    "            try:\n",
    "                count = context_cnt[(word1, word2)]\n",
    "            except KeyError:\n",
    "                count = 0\n",
    "            row.append(count)\n",
    "            \n",
    "        data.append(row)\n",
    "        \n",
    "    return pd.DataFrame(data, index=vocab, columns=vocab)"
   ]
  },
  {
   "cell_type": "markdown",
   "id": "399e342b",
   "metadata": {},
   "source": [
    "### Call methods\n",
    "\n",
    "Count frequency of each word."
   ]
  },
  {
   "cell_type": "code",
   "execution_count": 9,
   "id": "8c5c4a73",
   "metadata": {},
   "outputs": [
    {
     "data": {
      "text/plain": [
       ".        86303\n",
       "고        49631\n",
       "이        44952\n",
       "하        42916\n",
       "좋        34589\n",
       "         ...  \n",
       "ㅠㅠ이대로        1\n",
       "마우           1\n",
       "세무           1\n",
       "음량           1\n",
       "뻬뚤한          1\n",
       "Length: 30084, dtype: int64"
      ]
     },
     "execution_count": 9,
     "metadata": {},
     "output_type": "execute_result"
    }
   ],
   "source": [
    "term_freq = pd.Series(\n",
    "get_term_frequency(' '.join(lines))).sort_values(ascending=False)\n",
    "\n",
    "term_freq"
   ]
  },
  {
   "cell_type": "code",
   "execution_count": 10,
   "id": "8867f3e3",
   "metadata": {},
   "outputs": [],
   "source": [
    "vertor_size = 800"
   ]
  },
  {
   "cell_type": "code",
   "execution_count": 11,
   "id": "559ca362",
   "metadata": {},
   "outputs": [
    {
     "data": {
      "text/plain": [
       "Index(['.', '고', '이', '하', '좋', '네요', '도', '에', '는', '가',\n",
       "       ...\n",
       "       '한쪽', '엄마', '가을', '요청', 'ㅁ', '마', '국산', '보풀', '세일', '싸구려'],\n",
       "      dtype='object', length=800)"
      ]
     },
     "execution_count": 11,
     "metadata": {},
     "output_type": "execute_result"
    }
   ],
   "source": [
    "term_freq.index[:vertor_size]"
   ]
  },
  {
   "cell_type": "code",
   "execution_count": 13,
   "id": "d2a62c8b",
   "metadata": {},
   "outputs": [
    {
     "data": {
      "text/plain": [
       "라고  비지떡     31\n",
       "    \".       1\n",
       "    200      2\n",
       "    ml       5\n",
       "    판매      16\n",
       "          ... \n",
       "았   ㅍ        1\n",
       "감사  ㅍㅍ       2\n",
       "고   수수     106\n",
       "수고  수수     212\n",
       "    고수       3\n",
       "Length: 1047278, dtype: int64"
      ]
     },
     "execution_count": 13,
     "metadata": {},
     "output_type": "execute_result"
    }
   ],
   "source": [
    "context_cnt = pd.Series(\n",
    "get_context_counts(lines, term_freq.index[:vertor_size], w_size=4))\n",
    "\n",
    "\n",
    "context_cnt"
   ]
  },
  {
   "cell_type": "code",
   "execution_count": null,
   "id": "32ad22b3",
   "metadata": {},
   "outputs": [],
   "source": [
    "df = get_co_occurrence_df(context_cnt, term_freq.index[:vertor_size])\n",
    "\n",
    "df"
   ]
  },
  {
   "cell_type": "code",
   "execution_count": null,
   "id": "fe008220",
   "metadata": {},
   "outputs": [],
   "source": []
  }
 ],
 "metadata": {
  "kernelspec": {
   "display_name": "Python 3 (ipykernel)",
   "language": "python",
   "name": "python3"
  },
  "language_info": {
   "codemirror_mode": {
    "name": "ipython",
    "version": 3
   },
   "file_extension": ".py",
   "mimetype": "text/x-python",
   "name": "python",
   "nbconvert_exporter": "python",
   "pygments_lexer": "ipython3",
   "version": "3.8.13"
  }
 },
 "nbformat": 4,
 "nbformat_minor": 5
}
