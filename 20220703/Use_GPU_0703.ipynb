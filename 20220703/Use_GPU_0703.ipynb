{
  "nbformat": 4,
  "nbformat_minor": 0,
  "metadata": {
    "colab": {
      "name": "Use_GPU_0703.ipynb",
      "provenance": [],
      "collapsed_sections": [],
      "authorship_tag": "ABX9TyN85QJ26zTQXsFUPoLAtnnq",
      "include_colab_link": true
    },
    "kernelspec": {
      "name": "python3",
      "display_name": "Python 3"
    },
    "language_info": {
      "name": "python"
    },
    "accelerator": "GPU",
    "gpuClass": "standard"
  },
  "cells": [
    {
      "cell_type": "markdown",
      "metadata": {
        "id": "view-in-github",
        "colab_type": "text"
      },
      "source": [
        "<a href=\"https://colab.research.google.com/github/msmsm104/TIL/blob/main/20220703/Use_GPU_0703.ipynb\" target=\"_parent\"><img src=\"https://colab.research.google.com/assets/colab-badge.svg\" alt=\"Open In Colab\"/></a>"
      ]
    },
    {
      "cell_type": "markdown",
      "source": [
        "# How to use GPU"
      ],
      "metadata": {
        "id": "NhOQmXQzqHKd"
      }
    },
    {
      "cell_type": "code",
      "execution_count": 1,
      "metadata": {
        "id": "qCnTqgQ0pzEA"
      },
      "outputs": [],
      "source": [
        "import torch\n",
        "import torch.nn as nn"
      ]
    },
    {
      "cell_type": "markdown",
      "source": [
        "## Convert to CUDA tensor: cuda()"
      ],
      "metadata": {
        "id": "VkvE4CHqqMwc"
      }
    },
    {
      "cell_type": "code",
      "source": [
        "x = torch.FloatTensor(2, 2)\n",
        "\n",
        "x"
      ],
      "metadata": {
        "colab": {
          "base_uri": "https://localhost:8080/"
        },
        "id": "ZQAQZutMp8yW",
        "outputId": "59f84552-b7d0-4e57-9c59-692523cd4b24"
      },
      "execution_count": 8,
      "outputs": [
        {
          "output_type": "execute_result",
          "data": {
            "text/plain": [
              "tensor([[-1.1333e-09,  0.0000e+00],\n",
              "        [ 0.0000e+00,  0.0000e+00]])"
            ]
          },
          "metadata": {},
          "execution_count": 8
        }
      ]
    },
    {
      "cell_type": "code",
      "source": [
        "x = torch.cuda.FloatTensor(2, 2)\n",
        "\n",
        "x"
      ],
      "metadata": {
        "colab": {
          "base_uri": "https://localhost:8080/"
        },
        "id": "FMN7iD29qRsz",
        "outputId": "0305931d-8772-44f5-f0cc-dd451223882b"
      },
      "execution_count": 9,
      "outputs": [
        {
          "output_type": "execute_result",
          "data": {
            "text/plain": [
              "tensor([[0., 0.],\n",
              "        [0., 0.]], device='cuda:0')"
            ]
          },
          "metadata": {},
          "execution_count": 9
        }
      ]
    },
    {
      "cell_type": "code",
      "source": [
        "x = torch.FloatTensor(2, 2)\n",
        "\n",
        "x"
      ],
      "metadata": {
        "colab": {
          "base_uri": "https://localhost:8080/"
        },
        "id": "G7oa-97rqVlK",
        "outputId": "c0e1c92d-7348-43d6-98db-4fe75cf8afd6"
      },
      "execution_count": 10,
      "outputs": [
        {
          "output_type": "execute_result",
          "data": {
            "text/plain": [
              "tensor([[-1.1337e-09,  0.0000e+00],\n",
              "        [ 7.0976e+22,  1.0903e+27]])"
            ]
          },
          "metadata": {},
          "execution_count": 10
        }
      ]
    },
    {
      "cell_type": "code",
      "source": [
        "x.cuda()"
      ],
      "metadata": {
        "colab": {
          "base_uri": "https://localhost:8080/"
        },
        "id": "Pag2_1rFqsN2",
        "outputId": "0f471204-5562-4b74-8f8a-1ee2e8fb3169"
      },
      "execution_count": 11,
      "outputs": [
        {
          "output_type": "execute_result",
          "data": {
            "text/plain": [
              "tensor([[-1.1337e-09,  0.0000e+00],\n",
              "        [ 7.0976e+22,  1.0903e+27]], device='cuda:0')"
            ]
          },
          "metadata": {},
          "execution_count": 11
        }
      ]
    },
    {
      "cell_type": "code",
      "source": [
        "d = torch.device('cuda:0')"
      ],
      "metadata": {
        "id": "1-zM9l-QqtkX"
      },
      "execution_count": 14,
      "outputs": []
    },
    {
      "cell_type": "code",
      "source": [
        "x.cuda(device=d)"
      ],
      "metadata": {
        "colab": {
          "base_uri": "https://localhost:8080/"
        },
        "id": "pbejB2HgqzFt",
        "outputId": "6a4e4389-acbe-4d3e-ea92-996976a6f1f2"
      },
      "execution_count": 15,
      "outputs": [
        {
          "output_type": "execute_result",
          "data": {
            "text/plain": [
              "tensor([[-1.1337e-09,  0.0000e+00],\n",
              "        [ 7.0976e+22,  1.0903e+27]], device='cuda:0')"
            ]
          },
          "metadata": {},
          "execution_count": 15
        }
      ]
    },
    {
      "cell_type": "code",
      "source": [
        "x.device"
      ],
      "metadata": {
        "colab": {
          "base_uri": "https://localhost:8080/"
        },
        "id": "s76RwFcjq1ys",
        "outputId": "484b0111-927a-428e-f51c-724ff4bf42fd"
      },
      "execution_count": 17,
      "outputs": [
        {
          "output_type": "execute_result",
          "data": {
            "text/plain": [
              "device(type='cpu')"
            ]
          },
          "metadata": {},
          "execution_count": 17
        }
      ]
    },
    {
      "cell_type": "code",
      "source": [
        "x.cuda().device"
      ],
      "metadata": {
        "colab": {
          "base_uri": "https://localhost:8080/"
        },
        "id": "tx95GvaAq6um",
        "outputId": "36450638-d480-46cd-b656-69c6e5d7e851"
      },
      "execution_count": 18,
      "outputs": [
        {
          "output_type": "execute_result",
          "data": {
            "text/plain": [
              "device(type='cuda', index=0)"
            ]
          },
          "metadata": {},
          "execution_count": 18
        }
      ]
    },
    {
      "cell_type": "markdown",
      "source": [
        "---\n",
        "## Convert to CUDA tensor: to()"
      ],
      "metadata": {
        "id": "WQoI5fL9rEsx"
      }
    },
    {
      "cell_type": "code",
      "source": [
        "x.to(device=d)"
      ],
      "metadata": {
        "colab": {
          "base_uri": "https://localhost:8080/"
        },
        "id": "RoVchwHOq_xc",
        "outputId": "e83573ee-6b46-49b5-df4e-03f50be8f76e"
      },
      "execution_count": 19,
      "outputs": [
        {
          "output_type": "execute_result",
          "data": {
            "text/plain": [
              "tensor([[-1.1337e-09,  0.0000e+00],\n",
              "        [ 7.0976e+22,  1.0903e+27]], device='cuda:0')"
            ]
          },
          "metadata": {},
          "execution_count": 19
        }
      ]
    },
    {
      "cell_type": "markdown",
      "source": [
        "---\n",
        "## Convert to CPU tensor from CUDA tensor"
      ],
      "metadata": {
        "id": "_HyzEZOzrPlJ"
      }
    },
    {
      "cell_type": "code",
      "source": [
        "x = torch.cuda.FloatTensor(2, 2)\n",
        "\n",
        "x"
      ],
      "metadata": {
        "colab": {
          "base_uri": "https://localhost:8080/"
        },
        "id": "JYKEREwmrMwK",
        "outputId": "5ab4e5be-1ba4-476d-b175-47dd3a74ba35"
      },
      "execution_count": 20,
      "outputs": [
        {
          "output_type": "execute_result",
          "data": {
            "text/plain": [
              "tensor([[-1.1337e-09,  7.0976e+22],\n",
              "        [ 1.0903e+27,  1.0903e+27]], device='cuda:0')"
            ]
          },
          "metadata": {},
          "execution_count": 20
        }
      ]
    },
    {
      "cell_type": "code",
      "source": [
        "x = x.cpu()\n",
        "\n",
        "x"
      ],
      "metadata": {
        "colab": {
          "base_uri": "https://localhost:8080/"
        },
        "id": "IlaaMJ90rXhx",
        "outputId": "6bcbcbc0-e235-46c7-b4d5-3d831fc78535"
      },
      "execution_count": 21,
      "outputs": [
        {
          "output_type": "execute_result",
          "data": {
            "text/plain": [
              "tensor([[-1.1337e-09,  7.0976e+22],\n",
              "        [ 1.0903e+27,  1.0903e+27]])"
            ]
          },
          "metadata": {},
          "execution_count": 21
        }
      ]
    },
    {
      "cell_type": "code",
      "source": [
        "d = torch.device('cpu')\n",
        "x = x.to(device=d)\n",
        "x"
      ],
      "metadata": {
        "colab": {
          "base_uri": "https://localhost:8080/"
        },
        "id": "ACbe3il4raFY",
        "outputId": "fa7f285f-b45b-422e-a95a-420a9761e847"
      },
      "execution_count": 22,
      "outputs": [
        {
          "output_type": "execute_result",
          "data": {
            "text/plain": [
              "tensor([[-1.1337e-09,  7.0976e+22],\n",
              "        [ 1.0903e+27,  1.0903e+27]])"
            ]
          },
          "metadata": {},
          "execution_count": 22
        }
      ]
    },
    {
      "cell_type": "markdown",
      "source": [
        "---\n",
        "## Move model from CPU to GPU"
      ],
      "metadata": {
        "id": "N4IBkep3rnlZ"
      }
    },
    {
      "cell_type": "code",
      "source": [
        "def print_params(model):\n",
        "    for p in model.parameters():\n",
        "        print(p)"
      ],
      "metadata": {
        "id": "tkrPNs1yrg0_"
      },
      "execution_count": 23,
      "outputs": []
    },
    {
      "cell_type": "code",
      "source": [
        "linear = nn.Linear(2, 2)\n",
        "\n",
        "print_params(linear)"
      ],
      "metadata": {
        "colab": {
          "base_uri": "https://localhost:8080/"
        },
        "id": "8r80ofWerzuM",
        "outputId": "fd7c05c6-56b5-4368-e732-bd40a1f04b58"
      },
      "execution_count": 28,
      "outputs": [
        {
          "output_type": "stream",
          "name": "stdout",
          "text": [
            "Parameter containing:\n",
            "tensor([[ 0.3895,  0.6596],\n",
            "        [-0.1169,  0.3330]], requires_grad=True)\n",
            "Parameter containing:\n",
            "tensor([ 0.1465, -0.6468], requires_grad=True)\n"
          ]
        }
      ]
    },
    {
      "cell_type": "code",
      "source": [
        "linear = linear.cuda()\n",
        "print_params(linear)"
      ],
      "metadata": {
        "colab": {
          "base_uri": "https://localhost:8080/"
        },
        "id": "qVjOqAvDr9ZD",
        "outputId": "4364c944-3c11-474b-bbf7-368e12555bbf"
      },
      "execution_count": 29,
      "outputs": [
        {
          "output_type": "stream",
          "name": "stdout",
          "text": [
            "Parameter containing:\n",
            "tensor([[ 0.3895,  0.6596],\n",
            "        [-0.1169,  0.3330]], device='cuda:0', requires_grad=True)\n",
            "Parameter containing:\n",
            "tensor([ 0.1465, -0.6468], device='cuda:0', requires_grad=True)\n"
          ]
        }
      ]
    },
    {
      "cell_type": "code",
      "source": [
        "linear = linear.cpu()\n",
        "print_params(linear)"
      ],
      "metadata": {
        "colab": {
          "base_uri": "https://localhost:8080/"
        },
        "id": "h6ksK3kIsM4A",
        "outputId": "e32f0116-06c6-400a-d6dd-294e40b0e67d"
      },
      "execution_count": 30,
      "outputs": [
        {
          "output_type": "stream",
          "name": "stdout",
          "text": [
            "Parameter containing:\n",
            "tensor([[ 0.3895,  0.6596],\n",
            "        [-0.1169,  0.3330]], requires_grad=True)\n",
            "Parameter containing:\n",
            "tensor([ 0.1465, -0.6468], requires_grad=True)\n"
          ]
        }
      ]
    },
    {
      "cell_type": "code",
      "source": [
        "d = torch.device('cuda:0')\n",
        "linear = linear.to(device=d)\n",
        "\n",
        "print_params(linear)"
      ],
      "metadata": {
        "colab": {
          "base_uri": "https://localhost:8080/"
        },
        "id": "dQEgkwsysiA9",
        "outputId": "04fd25a8-5c8f-48a8-8424-7efb88260440"
      },
      "execution_count": 31,
      "outputs": [
        {
          "output_type": "stream",
          "name": "stdout",
          "text": [
            "Parameter containing:\n",
            "tensor([[ 0.3895,  0.6596],\n",
            "        [-0.1169,  0.3330]], device='cuda:0', requires_grad=True)\n",
            "Parameter containing:\n",
            "tensor([ 0.1465, -0.6468], device='cuda:0', requires_grad=True)\n"
          ]
        }
      ]
    },
    {
      "cell_type": "markdown",
      "source": [
        "---\n",
        "## Tricks"
      ],
      "metadata": {
        "id": "y29QtlGmswUf"
      }
    },
    {
      "cell_type": "code",
      "source": [
        "x = torch.cuda.FloatTensor(2, 2)\n",
        "x"
      ],
      "metadata": {
        "colab": {
          "base_uri": "https://localhost:8080/"
        },
        "id": "CJJLQKResrpL",
        "outputId": "0b38b503-f15b-4feb-c7db-64b8dd2d498f"
      },
      "execution_count": 32,
      "outputs": [
        {
          "output_type": "execute_result",
          "data": {
            "text/plain": [
              "tensor([[ 0.1465, -0.6468],\n",
              "        [-0.1169,  0.3330]], device='cuda:0')"
            ]
          },
          "metadata": {},
          "execution_count": 32
        }
      ]
    },
    {
      "cell_type": "code",
      "source": [
        "x.new(2, 2)"
      ],
      "metadata": {
        "colab": {
          "base_uri": "https://localhost:8080/"
        },
        "id": "g6e9k75Es3sZ",
        "outputId": "5e23f397-20d7-420c-aba8-2d8c000b10b3"
      },
      "execution_count": 33,
      "outputs": [
        {
          "output_type": "execute_result",
          "data": {
            "text/plain": [
              "tensor([[ 0.1465, -0.6468],\n",
              "        [-0.1169,  0.3330]], device='cuda:0')"
            ]
          },
          "metadata": {},
          "execution_count": 33
        }
      ]
    },
    {
      "cell_type": "code",
      "source": [
        "torch.zeros_like(x)"
      ],
      "metadata": {
        "colab": {
          "base_uri": "https://localhost:8080/"
        },
        "id": "foGTToCXs53Z",
        "outputId": "91ccd5e2-3b2c-4f61-df98-b6c4243bdba1"
      },
      "execution_count": 34,
      "outputs": [
        {
          "output_type": "execute_result",
          "data": {
            "text/plain": [
              "tensor([[0., 0.],\n",
              "        [0., 0.]], device='cuda:0')"
            ]
          },
          "metadata": {},
          "execution_count": 34
        }
      ]
    },
    {
      "cell_type": "code",
      "source": [
        "torch.ones_like(x)"
      ],
      "metadata": {
        "colab": {
          "base_uri": "https://localhost:8080/"
        },
        "id": "cT5eBoN9s9gI",
        "outputId": "1a174b93-e5c2-40d4-811f-1c28ece2709d"
      },
      "execution_count": 35,
      "outputs": [
        {
          "output_type": "execute_result",
          "data": {
            "text/plain": [
              "tensor([[1., 1.],\n",
              "        [1., 1.]], device='cuda:0')"
            ]
          },
          "metadata": {},
          "execution_count": 35
        }
      ]
    },
    {
      "cell_type": "code",
      "source": [
        "list(linear.parameters())[0].new(2, 2)"
      ],
      "metadata": {
        "colab": {
          "base_uri": "https://localhost:8080/"
        },
        "id": "9J2NR6sUs_kR",
        "outputId": "e352c50e-0942-426d-bccf-5b2764c1a035"
      },
      "execution_count": 41,
      "outputs": [
        {
          "output_type": "execute_result",
          "data": {
            "text/plain": [
              "tensor([[ 0.3895,  0.6596],\n",
              "        [-0.1169,  0.3330]], device='cuda:0')"
            ]
          },
          "metadata": {},
          "execution_count": 41
        }
      ]
    },
    {
      "cell_type": "code",
      "source": [
        ""
      ],
      "metadata": {
        "id": "besJ_Vl6tDyn"
      },
      "execution_count": null,
      "outputs": []
    }
  ]
}