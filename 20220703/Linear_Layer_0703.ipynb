{
 "cells": [
  {
   "cell_type": "markdown",
   "id": "8ec806b0",
   "metadata": {},
   "source": [
    "# Linear Layer"
   ]
  },
  {
   "cell_type": "code",
   "execution_count": 1,
   "id": "1adef06a",
   "metadata": {},
   "outputs": [],
   "source": [
    "import torch"
   ]
  },
  {
   "cell_type": "markdown",
   "id": "2440976f",
   "metadata": {},
   "source": [
    "## Raw Linear Layer\n",
    "\n",
    "$$\\begin{gathered}\n",
    "y=x\\cdot{W}+b, \\\\\n",
    "\\text{where }x\\in\\mathbb{R}^{N\\times{n}}\\text{, }y\\in\\mathbb{R}^{N\\times{m}}. \\\\\n",
    "\\\\\n",
    "\\text{Thus, }W\\in\\mathbb{R}^{n\\times{m}}\\text{ and }b\\in\\mathbb{R}^m.\n",
    "\\end{gathered}$$"
   ]
  },
  {
   "cell_type": "code",
   "execution_count": 2,
   "id": "5e421910",
   "metadata": {},
   "outputs": [],
   "source": [
    "W = torch.FloatTensor([[1, 2],\n",
    "                       [3, 4],\n",
    "                       [5, 6]])\n",
    "b = torch.FloatTensor([2, 2])"
   ]
  },
  {
   "cell_type": "code",
   "execution_count": 3,
   "id": "1e5506fb",
   "metadata": {},
   "outputs": [
    {
     "name": "stdout",
     "output_type": "stream",
     "text": [
      "torch.Size([3, 2])\n",
      "torch.Size([2])\n"
     ]
    }
   ],
   "source": [
    "print(W.size()) ## nxm n(feature number)\n",
    "print(b.size())"
   ]
  },
  {
   "cell_type": "code",
   "execution_count": 4,
   "id": "476480f2",
   "metadata": {},
   "outputs": [],
   "source": [
    "def linear(x, W, b):  # x-data, W,b-parameter \n",
    "    y = torch.matmul(x, W) + b\n",
    "    \n",
    "    return y"
   ]
  },
  {
   "cell_type": "code",
   "execution_count": 5,
   "id": "2b27c5e1",
   "metadata": {},
   "outputs": [
    {
     "name": "stdout",
     "output_type": "stream",
     "text": [
      "torch.Size([4, 3])\n"
     ]
    }
   ],
   "source": [
    "x = torch.FloatTensor([[1, 1, 1],\n",
    "                       [2, 2, 2],\n",
    "                       [3, 3, 3],\n",
    "                       [4, 4, 4]])\n",
    "print(x.size())"
   ]
  },
  {
   "cell_type": "code",
   "execution_count": 7,
   "id": "e6eeca2a",
   "metadata": {},
   "outputs": [],
   "source": [
    "y = linear(x, W, b)"
   ]
  },
  {
   "cell_type": "code",
   "execution_count": 8,
   "id": "b96a8e64",
   "metadata": {},
   "outputs": [
    {
     "name": "stdout",
     "output_type": "stream",
     "text": [
      "torch.Size([4, 2])\n"
     ]
    }
   ],
   "source": [
    "print(y.size())"
   ]
  },
  {
   "cell_type": "markdown",
   "id": "7286d362",
   "metadata": {},
   "source": [
    "---\n",
    "# nn.Module"
   ]
  },
  {
   "cell_type": "code",
   "execution_count": 9,
   "id": "0adaf9eb",
   "metadata": {},
   "outputs": [],
   "source": [
    "import torch.nn as nn"
   ]
  },
  {
   "cell_type": "code",
   "execution_count": 20,
   "id": "c29016b9",
   "metadata": {},
   "outputs": [],
   "source": [
    "class MyLinear(nn.Module):\n",
    "    \n",
    "    def __init__(self, input_dim=5, output_dim=1):\n",
    "        self.input_dim = input_dim\n",
    "        self.output_dim = output_dim\n",
    "        \n",
    "        super().__init__()\n",
    "        \n",
    "        self.W = torch.FloatTensor(input_dim, output_dim)\n",
    "        self.b = torch.FloatTensor(output_dim)\n",
    "        \n",
    "    ## You should override 'forward' method to implement detail.\n",
    "    ## The input arguments and outputs can be designed as you wish.\n",
    "    def forward(self, x):\n",
    "        ## |x| = (batch_size, input_dim)\n",
    "        y = torch.matmul(x, self.W) + self.b\n",
    "        ## |y| = (batch_size, input_dim) * (input_dim, output_dim)\n",
    "        ##     = (batch_size, output_dim)\n",
    "        \n",
    "        return y"
   ]
  },
  {
   "cell_type": "code",
   "execution_count": 21,
   "id": "3be336b8",
   "metadata": {},
   "outputs": [],
   "source": [
    "x = torch.FloatTensor([[1, 1, 1, 1, 1],\n",
    "                       [2, 2, 2, 2, 2],\n",
    "                       [3, 3, 3, 3, 3]])"
   ]
  },
  {
   "cell_type": "code",
   "execution_count": 22,
   "id": "9fa6adc9",
   "metadata": {},
   "outputs": [
    {
     "name": "stdout",
     "output_type": "stream",
     "text": [
      "torch.Size([3, 5])\n"
     ]
    }
   ],
   "source": [
    "print(x.size())"
   ]
  },
  {
   "cell_type": "code",
   "execution_count": 23,
   "id": "56892798",
   "metadata": {},
   "outputs": [],
   "source": [
    "linear = MyLinear()"
   ]
  },
  {
   "cell_type": "code",
   "execution_count": 25,
   "id": "77b64a5d",
   "metadata": {},
   "outputs": [],
   "source": [
    "y = linear(x)"
   ]
  },
  {
   "cell_type": "code",
   "execution_count": 26,
   "id": "593f62ce",
   "metadata": {},
   "outputs": [
    {
     "name": "stdout",
     "output_type": "stream",
     "text": [
      "torch.Size([3, 1])\n"
     ]
    }
   ],
   "source": [
    "print(y.size())"
   ]
  },
  {
   "cell_type": "code",
   "execution_count": 27,
   "id": "c5dd49f8",
   "metadata": {},
   "outputs": [
    {
     "data": {
      "text/plain": [
       "<generator object Module.parameters at 0x7ff7a63f3970>"
      ]
     },
     "execution_count": 27,
     "metadata": {},
     "output_type": "execute_result"
    }
   ],
   "source": [
    "linear.parameters()"
   ]
  },
  {
   "cell_type": "code",
   "execution_count": 29,
   "id": "96b17c4f",
   "metadata": {},
   "outputs": [],
   "source": [
    "for p in linear.parameters():\n",
    "    print(p)\n",
    "    \n",
    "## You can see that there is no weight parameters to learn. Above way can \n",
    "## forward(or calculate) values, but it cannot be trained."
   ]
  },
  {
   "cell_type": "markdown",
   "id": "5eaf1072",
   "metadata": {},
   "source": [
    "---\n",
    "## Correct way: nn.Parameter"
   ]
  },
  {
   "cell_type": "code",
   "execution_count": 34,
   "id": "0c5cfbc0",
   "metadata": {},
   "outputs": [],
   "source": [
    "class MyLinear(nn.Module):\n",
    "    \n",
    "    def __init__(self, input_dim=4, output_dim=2):\n",
    "        self.input_dim = input_dim\n",
    "        self.output_dim = output_dim\n",
    "        \n",
    "        super().__init__()\n",
    "        \n",
    "        self.W = nn.Parameter(torch.FloatTensor(input_dim, output_dim))\n",
    "        self.b = nn.Parameter(torch.FloatTensor(output_dim))\n",
    "        \n",
    "    def forward(self, x):\n",
    "        # |x| = (batch_size, input_dim)\n",
    "        y = torch.matmul(x, self.W) + self.b\n",
    "        # |y| = (batch_size, input_dim) * (input_dim, output_dim)\n",
    "        #     = (batch_size, output_dim)\n",
    "        \n",
    "        return y"
   ]
  },
  {
   "cell_type": "code",
   "execution_count": 35,
   "id": "968513f8",
   "metadata": {},
   "outputs": [
    {
     "name": "stdout",
     "output_type": "stream",
     "text": [
      "torch.Size([5, 4])\n"
     ]
    }
   ],
   "source": [
    "x = torch.FloatTensor([[1, 1, 1, 1],\n",
    "                       [2, 2, 2, 2],\n",
    "                       [3, 3, 3, 3],\n",
    "                       [4, 4, 4, 4],\n",
    "                       [5, 5, 5, 5]])\n",
    "print(x.size())"
   ]
  },
  {
   "cell_type": "code",
   "execution_count": 36,
   "id": "c5d67e40",
   "metadata": {},
   "outputs": [],
   "source": [
    "linear = MyLinear()"
   ]
  },
  {
   "cell_type": "code",
   "execution_count": 38,
   "id": "a3f06d52",
   "metadata": {},
   "outputs": [],
   "source": [
    "y = linear(x)"
   ]
  },
  {
   "cell_type": "code",
   "execution_count": 39,
   "id": "3eafd56f",
   "metadata": {},
   "outputs": [
    {
     "name": "stdout",
     "output_type": "stream",
     "text": [
      "tensor([[1.3984e+35, 5.0487e-29],\n",
      "        [2.7969e+35, 7.5731e-29],\n",
      "        [4.1953e+35, 1.0097e-28],\n",
      "        [5.5937e+35, 1.2622e-28],\n",
      "        [6.9921e+35, 1.5146e-28]], grad_fn=<AddBackward0>)\n",
      "torch.Size([5, 2])\n"
     ]
    }
   ],
   "source": [
    "print(y)\n",
    "print(y.size())"
   ]
  },
  {
   "cell_type": "code",
   "execution_count": 41,
   "id": "4f6322df",
   "metadata": {},
   "outputs": [
    {
     "name": "stdout",
     "output_type": "stream",
     "text": [
      "Parameter containing:\n",
      "tensor([[0.0000e+00, 2.5244e-29],\n",
      "        [1.3984e+35, 2.8685e-42],\n",
      "        [8.4078e-45, 0.0000e+00],\n",
      "        [0.0000e+00, 0.0000e+00]], requires_grad=True)\n",
      "Parameter containing:\n",
      "tensor([0.0000e+00, 2.5244e-29], requires_grad=True)\n"
     ]
    }
   ],
   "source": [
    "for p in linear.parameters():\n",
    "    print(p)\n",
    "    \n",
    "## W, b"
   ]
  },
  {
   "cell_type": "markdown",
   "id": "dae1c4a5",
   "metadata": {},
   "source": [
    "---\n",
    "## nn.Linear"
   ]
  },
  {
   "cell_type": "code",
   "execution_count": 42,
   "id": "fd0d3f27",
   "metadata": {},
   "outputs": [
    {
     "name": "stdout",
     "output_type": "stream",
     "text": [
      "torch.Size([5, 3])\n"
     ]
    }
   ],
   "source": [
    "x = torch.FloatTensor([[1, 1, 1],\n",
    "                       [2, 2, 2],\n",
    "                       [3, 3, 3],\n",
    "                       [4, 4, 4],\n",
    "                       [5, 5, 5]])\n",
    "print(x.size())"
   ]
  },
  {
   "cell_type": "code",
   "execution_count": 44,
   "id": "057e7762",
   "metadata": {},
   "outputs": [],
   "source": [
    "linear = nn.Linear(3, 2)\n",
    "y = linear(x)"
   ]
  },
  {
   "cell_type": "code",
   "execution_count": 45,
   "id": "540694df",
   "metadata": {},
   "outputs": [
    {
     "name": "stdout",
     "output_type": "stream",
     "text": [
      "tensor([[-0.7747,  0.3063],\n",
      "        [-1.0327,  0.9135],\n",
      "        [-1.2906,  1.5207],\n",
      "        [-1.5485,  2.1279],\n",
      "        [-1.8065,  2.7351]], grad_fn=<AddmmBackward>)\n",
      "torch.Size([5, 2])\n"
     ]
    }
   ],
   "source": [
    "print(y)\n",
    "print(y.size())"
   ]
  },
  {
   "cell_type": "code",
   "execution_count": 46,
   "id": "6a746c23",
   "metadata": {},
   "outputs": [
    {
     "name": "stdout",
     "output_type": "stream",
     "text": [
      "Parameter containing:\n",
      "tensor([[ 0.2039,  0.0039, -0.4658],\n",
      "        [ 0.5749, -0.1423,  0.1746]], requires_grad=True)\n",
      "Parameter containing:\n",
      "tensor([-0.5168, -0.3010], requires_grad=True)\n"
     ]
    }
   ],
   "source": [
    "for p in linear.parameters():\n",
    "    print(p)"
   ]
  },
  {
   "cell_type": "markdown",
   "id": "61b992e9",
   "metadata": {},
   "source": [
    "---\n",
    "## nn.Module can contain other nn.Module's child classes.\n"
   ]
  },
  {
   "cell_type": "code",
   "execution_count": 47,
   "id": "3a9dc995",
   "metadata": {},
   "outputs": [],
   "source": [
    "class MyLinear(nn.Module):\n",
    "    \n",
    "    def __init__(self, input_dim=3, output_dim=2):\n",
    "        self.input_dim = input_dim\n",
    "        self.output_dim = output_dim\n",
    "        \n",
    "        super().__init__()\n",
    "        \n",
    "        self.linear = nn.Linear(input_dim, output_dim) # return Tensor\n",
    "        \n",
    "    def forward(self, x):\n",
    "        # |x| = (batch_size, input_dim)\n",
    "        y = self.linear(x)\n",
    "        # |y| = (batch_size, output_dim)\n",
    "        \n",
    "        return y"
   ]
  },
  {
   "cell_type": "code",
   "execution_count": 55,
   "id": "a2d1753a",
   "metadata": {},
   "outputs": [],
   "source": [
    "linear = MyLinear(3, 2)\n",
    "\n",
    "y = linear(x)"
   ]
  },
  {
   "cell_type": "code",
   "execution_count": 56,
   "id": "e1393542",
   "metadata": {},
   "outputs": [
    {
     "name": "stdout",
     "output_type": "stream",
     "text": [
      "tensor([[-0.2935, -0.3266],\n",
      "        [-0.6891, -0.7678],\n",
      "        [-1.0847, -1.2089],\n",
      "        [-1.4804, -1.6501],\n",
      "        [-1.8760, -2.0912]], grad_fn=<AddmmBackward>)\n",
      "torch.Size([5, 2])\n"
     ]
    }
   ],
   "source": [
    "print(y)\n",
    "print(y.size())"
   ]
  },
  {
   "cell_type": "code",
   "execution_count": 61,
   "id": "9acfcec5",
   "metadata": {},
   "outputs": [
    {
     "name": "stdout",
     "output_type": "stream",
     "text": [
      "Parameter containing:\n",
      "tensor([[-0.4285,  0.0406, -0.0077],\n",
      "        [ 0.4476, -0.5698, -0.3189]], requires_grad=True)\n",
      "Parameter containing:\n",
      "tensor([0.1022, 0.1145], requires_grad=True)\n"
     ]
    }
   ],
   "source": [
    "for p in linear.parameters():\n",
    "    print(p)"
   ]
  },
  {
   "cell_type": "code",
   "execution_count": null,
   "id": "5babbc1f",
   "metadata": {},
   "outputs": [],
   "source": []
  }
 ],
 "metadata": {
  "kernelspec": {
   "display_name": "Python 3 (ipykernel)",
   "language": "python",
   "name": "python3"
  },
  "language_info": {
   "codemirror_mode": {
    "name": "ipython",
    "version": 3
   },
   "file_extension": ".py",
   "mimetype": "text/x-python",
   "name": "python",
   "nbconvert_exporter": "python",
   "pygments_lexer": "ipython3",
   "version": "3.8.13"
  }
 },
 "nbformat": 4,
 "nbformat_minor": 5
}
