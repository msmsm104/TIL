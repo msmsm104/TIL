{
 "cells": [
  {
   "cell_type": "markdown",
   "id": "14dcb712",
   "metadata": {},
   "source": [
    "# Mean Square Error (MSE) Loss\n",
    "\n",
    "### Regression"
   ]
  },
  {
   "cell_type": "code",
   "execution_count": 1,
   "id": "e8bfa4cc",
   "metadata": {},
   "outputs": [],
   "source": [
    "import torch"
   ]
  },
  {
   "cell_type": "markdown",
   "id": "7e6f809d",
   "metadata": {},
   "source": [
    "$$\n",
    "\\text{MSE}(\\hat{x}_{1:N}, x_{1:N})=\\frac{1}{N\\times{n}}\\sum_{i=1}^{N}{||x_i-\\hat{x}_i||_2^2}\n",
    "$$"
   ]
  },
  {
   "cell_type": "code",
   "execution_count": 2,
   "id": "0bdcf9d0",
   "metadata": {},
   "outputs": [],
   "source": [
    "def mse(x_hat, x):\n",
    "    # |x_hat| = (batch_size, dim)\n",
    "    # |x| = (batch_size, dim)\n",
    "    y = ((x - x_hat)**2).mean()\n",
    "    \n",
    "    return y"
   ]
  },
  {
   "cell_type": "code",
   "execution_count": 3,
   "id": "32362926",
   "metadata": {},
   "outputs": [
    {
     "name": "stdout",
     "output_type": "stream",
     "text": [
      "torch.Size([2, 2]) torch.Size([2, 2])\n"
     ]
    }
   ],
   "source": [
    "x = torch.FloatTensor([[1, 1],\n",
    "                       [2, 2]])\n",
    "x_hat = torch.FloatTensor([[0, 0],\n",
    "                           [0, 0]])\n",
    "\n",
    "print(x.size(), x_hat.size())"
   ]
  },
  {
   "cell_type": "code",
   "execution_count": 4,
   "id": "c81463fa",
   "metadata": {},
   "outputs": [
    {
     "data": {
      "text/plain": [
       "tensor(2.5000)"
      ]
     },
     "execution_count": 4,
     "metadata": {},
     "output_type": "execute_result"
    }
   ],
   "source": [
    "mse(x_hat, x)"
   ]
  },
  {
   "cell_type": "markdown",
   "id": "29d0dc85",
   "metadata": {},
   "source": [
    "---\n",
    "## Predefined MSE in PyTorch"
   ]
  },
  {
   "cell_type": "code",
   "execution_count": 5,
   "id": "d82636bd",
   "metadata": {},
   "outputs": [],
   "source": [
    "import torch.nn.functional as F"
   ]
  },
  {
   "cell_type": "code",
   "execution_count": 6,
   "id": "10f823a8",
   "metadata": {},
   "outputs": [
    {
     "data": {
      "text/plain": [
       "tensor(2.5000)"
      ]
     },
     "execution_count": 6,
     "metadata": {},
     "output_type": "execute_result"
    }
   ],
   "source": [
    "F.mse_loss(x_hat, x)"
   ]
  },
  {
   "cell_type": "code",
   "execution_count": 7,
   "id": "2e5efa5d",
   "metadata": {},
   "outputs": [
    {
     "data": {
      "text/plain": [
       "tensor(10.)"
      ]
     },
     "execution_count": 7,
     "metadata": {},
     "output_type": "execute_result"
    }
   ],
   "source": [
    "F.mse_loss(x_hat, x, reduction='sum')"
   ]
  },
  {
   "cell_type": "code",
   "execution_count": 9,
   "id": "2093fdea",
   "metadata": {},
   "outputs": [
    {
     "data": {
      "text/plain": [
       "tensor([[1., 1.],\n",
       "        [4., 4.]])"
      ]
     },
     "execution_count": 9,
     "metadata": {},
     "output_type": "execute_result"
    }
   ],
   "source": [
    "F.mse_loss(x_hat, x, reduction='none')"
   ]
  },
  {
   "cell_type": "code",
   "execution_count": 10,
   "id": "babaca24",
   "metadata": {},
   "outputs": [],
   "source": [
    "import torch.nn as nn"
   ]
  },
  {
   "cell_type": "code",
   "execution_count": 11,
   "id": "1bedf1e4",
   "metadata": {},
   "outputs": [],
   "source": [
    "mse_loss = nn.MSELoss()"
   ]
  },
  {
   "cell_type": "code",
   "execution_count": 12,
   "id": "7c34cbcd",
   "metadata": {},
   "outputs": [
    {
     "data": {
      "text/plain": [
       "tensor(2.5000)"
      ]
     },
     "execution_count": 12,
     "metadata": {},
     "output_type": "execute_result"
    }
   ],
   "source": [
    "mse_loss(x_hat, x)"
   ]
  },
  {
   "cell_type": "code",
   "execution_count": null,
   "id": "8b2c356d",
   "metadata": {},
   "outputs": [],
   "source": []
  }
 ],
 "metadata": {
  "kernelspec": {
   "display_name": "Python 3 (ipykernel)",
   "language": "python",
   "name": "python3"
  },
  "language_info": {
   "codemirror_mode": {
    "name": "ipython",
    "version": 3
   },
   "file_extension": ".py",
   "mimetype": "text/x-python",
   "name": "python",
   "nbconvert_exporter": "python",
   "pygments_lexer": "ipython3",
   "version": "3.8.13"
  }
 },
 "nbformat": 4,
 "nbformat_minor": 5
}
